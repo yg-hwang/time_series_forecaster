{
 "cells": [
  {
   "cell_type": "markdown",
   "id": "f27d23e3",
   "metadata": {},
   "source": [
    "# Import Library"
   ]
  },
  {
   "cell_type": "code",
   "execution_count": 1,
   "id": "fb4d03cf",
   "metadata": {
    "ExecuteTime": {
     "end_time": "2023-02-04T13:04:40.435340Z",
     "start_time": "2023-02-04T13:04:39.289403Z"
    }
   },
   "outputs": [],
   "source": [
    "import os\n",
    "import sys\n",
    "import numpy as np\n",
    "import pandas as pd\n",
    "\n",
    "module_path = os.path.abspath(os.path.join(\"..\"))\n",
    "if module_path not in sys.path:\n",
    "    sys.path.append(module_path)\n",
    "    from models.ts_forecaster import TimeSeriesForecaster\n",
    "    from models.ts_preprocess import generate_future_dataframe"
   ]
  },
  {
   "cell_type": "markdown",
   "id": "be8820f2",
   "metadata": {},
   "source": [
    "# Load Dataset"
   ]
  },
  {
   "cell_type": "code",
   "execution_count": 2,
   "id": "bad46109",
   "metadata": {
    "ExecuteTime": {
     "end_time": "2023-02-04T13:04:40.445942Z",
     "start_time": "2023-02-04T13:04:40.436614Z"
    },
    "scrolled": true
   },
   "outputs": [
    {
     "data": {
      "text/html": [
       "<div>\n",
       "<style scoped>\n",
       "    .dataframe tbody tr th:only-of-type {\n",
       "        vertical-align: middle;\n",
       "    }\n",
       "\n",
       "    .dataframe tbody tr th {\n",
       "        vertical-align: top;\n",
       "    }\n",
       "\n",
       "    .dataframe thead th {\n",
       "        text-align: right;\n",
       "    }\n",
       "</style>\n",
       "<table border=\"1\" class=\"dataframe\">\n",
       "  <thead>\n",
       "    <tr style=\"text-align: right;\">\n",
       "      <th></th>\n",
       "      <th>y</th>\n",
       "    </tr>\n",
       "    <tr>\n",
       "      <th>date</th>\n",
       "      <th></th>\n",
       "    </tr>\n",
       "  </thead>\n",
       "  <tbody>\n",
       "    <tr>\n",
       "      <th>2019-01-03</th>\n",
       "      <td>19607</td>\n",
       "    </tr>\n",
       "    <tr>\n",
       "      <th>2019-01-04</th>\n",
       "      <td>21350</td>\n",
       "    </tr>\n",
       "    <tr>\n",
       "      <th>2019-01-05</th>\n",
       "      <td>20176</td>\n",
       "    </tr>\n",
       "    <tr>\n",
       "      <th>2019-01-06</th>\n",
       "      <td>22000</td>\n",
       "    </tr>\n",
       "    <tr>\n",
       "      <th>2019-01-07</th>\n",
       "      <td>22000</td>\n",
       "    </tr>\n",
       "    <tr>\n",
       "      <th>...</th>\n",
       "      <td>...</td>\n",
       "    </tr>\n",
       "    <tr>\n",
       "      <th>2021-09-26</th>\n",
       "      <td>8000</td>\n",
       "    </tr>\n",
       "    <tr>\n",
       "      <th>2021-09-27</th>\n",
       "      <td>8000</td>\n",
       "    </tr>\n",
       "    <tr>\n",
       "      <th>2021-09-28</th>\n",
       "      <td>10714</td>\n",
       "    </tr>\n",
       "    <tr>\n",
       "      <th>2021-09-29</th>\n",
       "      <td>10714</td>\n",
       "    </tr>\n",
       "    <tr>\n",
       "      <th>2021-09-30</th>\n",
       "      <td>11000</td>\n",
       "    </tr>\n",
       "  </tbody>\n",
       "</table>\n",
       "<p>1002 rows × 1 columns</p>\n",
       "</div>"
      ],
      "text/plain": [
       "                y\n",
       "date             \n",
       "2019-01-03  19607\n",
       "2019-01-04  21350\n",
       "2019-01-05  20176\n",
       "2019-01-06  22000\n",
       "2019-01-07  22000\n",
       "...           ...\n",
       "2021-09-26   8000\n",
       "2021-09-27   8000\n",
       "2021-09-28  10714\n",
       "2021-09-29  10714\n",
       "2021-09-30  11000\n",
       "\n",
       "[1002 rows x 1 columns]"
      ]
     },
     "execution_count": 2,
     "metadata": {},
     "output_type": "execute_result"
    }
   ],
   "source": [
    "df = pd.read_csv(\"sample_data.csv\")\n",
    "df = df.set_index(\"date\")\n",
    "df"
   ]
  },
  {
   "cell_type": "markdown",
   "id": "55d9b8df",
   "metadata": {},
   "source": [
    "# Define Steps"
   ]
  },
  {
   "cell_type": "code",
   "execution_count": 3,
   "id": "462ea59a",
   "metadata": {
    "ExecuteTime": {
     "end_time": "2023-02-04T13:04:40.449493Z",
     "start_time": "2023-02-04T13:04:40.446857Z"
    }
   },
   "outputs": [
    {
     "data": {
      "text/plain": [
       "'2021-09-27'"
      ]
     },
     "execution_count": 3,
     "metadata": {},
     "output_type": "execute_result"
    }
   ],
   "source": [
    "steps = 3\n",
    "df_train = df.iloc[:-steps, :].copy()\n",
    "df_train.index.max()"
   ]
  },
  {
   "cell_type": "code",
   "execution_count": 4,
   "id": "744de6ca",
   "metadata": {
    "ExecuteTime": {
     "end_time": "2023-02-04T13:04:40.453437Z",
     "start_time": "2023-02-04T13:04:40.450931Z"
    }
   },
   "outputs": [],
   "source": [
    "df_future = generate_future_dataframe(cutoff=\"2021-09-28\", freq=\"D\", steps=steps)\n",
    "df_future = df_future.set_index(\"date\")"
   ]
  },
  {
   "cell_type": "markdown",
   "id": "36a55637",
   "metadata": {},
   "source": [
    "# Forecast"
   ]
  },
  {
   "cell_type": "code",
   "execution_count": 5,
   "id": "fff98f63",
   "metadata": {
    "ExecuteTime": {
     "end_time": "2023-02-04T13:04:40.455904Z",
     "start_time": "2023-02-04T13:04:40.454452Z"
    }
   },
   "outputs": [],
   "source": [
    "tsf = TimeSeriesForecaster()"
   ]
  },
  {
   "cell_type": "markdown",
   "id": "6649f1aa",
   "metadata": {},
   "source": [
    "## ARIMA"
   ]
  },
  {
   "cell_type": "code",
   "execution_count": 6,
   "id": "f47edb56",
   "metadata": {
    "ExecuteTime": {
     "end_time": "2023-02-04T13:04:43.623556Z",
     "start_time": "2023-02-04T13:04:40.456766Z"
    },
    "scrolled": true
   },
   "outputs": [
    {
     "name": "stdout",
     "output_type": "stream",
     "text": [
      "                               SARIMAX Results                                \n",
      "==============================================================================\n",
      "Dep. Variable:                      y   No. Observations:                  999\n",
      "Model:               SARIMAX(0, 1, 5)   Log Likelihood              -11035.792\n",
      "Date:                Sat, 04 Feb 2023   AIC                          22083.584\n",
      "Time:                        22:04:43   BIC                          22113.019\n",
      "Sample:                    01-03-2019   HQIC                         22094.772\n",
      "                         - 09-27-2021                                         \n",
      "Covariance Type:                  opg                                         \n",
      "==============================================================================\n",
      "                 coef    std err          z      P>|z|      [0.025      0.975]\n",
      "------------------------------------------------------------------------------\n",
      "ma.L1         -0.8851      0.016    -56.889      0.000      -0.916      -0.855\n",
      "ma.L2         -0.0403      0.032     -1.260      0.208      -0.103       0.022\n",
      "ma.L3         -0.0194      0.046     -0.419      0.675      -0.110       0.071\n",
      "ma.L4          0.1160      0.031      3.705      0.000       0.055       0.177\n",
      "ma.L5         -0.0820      0.017     -4.810      0.000      -0.115      -0.049\n",
      "sigma2      2.446e+08   3.88e-10    6.3e+17      0.000    2.45e+08    2.45e+08\n",
      "===================================================================================\n",
      "Ljung-Box (L1) (Q):                   0.00   Jarque-Bera (JB):           5116604.25\n",
      "Prob(Q):                              0.99   Prob(JB):                         0.00\n",
      "Heteroskedasticity (H):              17.03   Skew:                            16.23\n",
      "Prob(H) (two-sided):                  0.00   Kurtosis:                       352.27\n",
      "===================================================================================\n",
      "\n",
      "Warnings:\n",
      "[1] Covariance matrix calculated using the outer product of gradients (complex-step).\n",
      "[2] Covariance matrix is singular or near-singular, with condition number 1.56e+32. Standard errors may be unstable.\n"
     ]
    }
   ],
   "source": [
    "tsf.train(algo=\"arima\", target=\"y\", df=df_train)\n",
    "tsf.forecast(df_future=df_future, steps=steps, freq=\"D\", alpha=0.2)"
   ]
  },
  {
   "cell_type": "code",
   "execution_count": 7,
   "id": "ed41dc7c",
   "metadata": {
    "ExecuteTime": {
     "end_time": "2023-02-04T13:04:43.628502Z",
     "start_time": "2023-02-04T13:04:43.624519Z"
    }
   },
   "outputs": [
    {
     "data": {
      "text/html": [
       "<div>\n",
       "<style scoped>\n",
       "    .dataframe tbody tr th:only-of-type {\n",
       "        vertical-align: middle;\n",
       "    }\n",
       "\n",
       "    .dataframe tbody tr th {\n",
       "        vertical-align: top;\n",
       "    }\n",
       "\n",
       "    .dataframe thead th {\n",
       "        text-align: right;\n",
       "    }\n",
       "</style>\n",
       "<table border=\"1\" class=\"dataframe\">\n",
       "  <thead>\n",
       "    <tr style=\"text-align: right;\">\n",
       "      <th></th>\n",
       "      <th>date</th>\n",
       "      <th>yhat</th>\n",
       "      <th>yhat_lower</th>\n",
       "      <th>yhat_upper</th>\n",
       "    </tr>\n",
       "  </thead>\n",
       "  <tbody>\n",
       "    <tr>\n",
       "      <th>0</th>\n",
       "      <td>2021-09-28</td>\n",
       "      <td>8579.444318</td>\n",
       "      <td>-11463.708178</td>\n",
       "      <td>28622.596813</td>\n",
       "    </tr>\n",
       "    <tr>\n",
       "      <th>1</th>\n",
       "      <td>2021-09-29</td>\n",
       "      <td>8598.958981</td>\n",
       "      <td>-11576.079444</td>\n",
       "      <td>28773.997406</td>\n",
       "    </tr>\n",
       "    <tr>\n",
       "      <th>2</th>\n",
       "      <td>2021-09-30</td>\n",
       "      <td>8592.879621</td>\n",
       "      <td>-11637.539379</td>\n",
       "      <td>28823.298620</td>\n",
       "    </tr>\n",
       "  </tbody>\n",
       "</table>\n",
       "</div>"
      ],
      "text/plain": [
       "        date         yhat    yhat_lower    yhat_upper\n",
       "0 2021-09-28  8579.444318 -11463.708178  28622.596813\n",
       "1 2021-09-29  8598.958981 -11576.079444  28773.997406\n",
       "2 2021-09-30  8592.879621 -11637.539379  28823.298620"
      ]
     },
     "execution_count": 7,
     "metadata": {},
     "output_type": "execute_result"
    }
   ],
   "source": [
    "tsf.df_fcst"
   ]
  },
  {
   "cell_type": "markdown",
   "id": "edd00130",
   "metadata": {},
   "source": [
    "## Prophet"
   ]
  },
  {
   "cell_type": "code",
   "execution_count": 8,
   "id": "c2b0ebad",
   "metadata": {
    "ExecuteTime": {
     "end_time": "2023-02-04T13:04:45.443975Z",
     "start_time": "2023-02-04T13:04:43.629325Z"
    }
   },
   "outputs": [
    {
     "name": "stderr",
     "output_type": "stream",
     "text": [
      "INFO:prophet:Disabling daily seasonality. Run prophet with daily_seasonality=True to override this.\n",
      "/Users/hwangyungwan/miniforge3/envs/ds_p39/lib/python3.9/site-packages/prophet/forecaster.py:896: FutureWarning: The frame.append method is deprecated and will be removed from pandas in a future version. Use pandas.concat instead.\n",
      "  components = components.append(new_comp)\n"
     ]
    },
    {
     "name": "stdout",
     "output_type": "stream",
     "text": [
      "Initial log joint probability = -3.57389\n",
      "    Iter      log prob        ||dx||      ||grad||       alpha      alpha0  # evals  Notes \n",
      "      99       2696.89    0.00375308       192.199           1           1      123   \n",
      "    Iter      log prob        ||dx||      ||grad||       alpha      alpha0  # evals  Notes \n",
      "     199       2703.56    0.00271891       124.415      0.4607           1      255   \n",
      "    Iter      log prob        ||dx||      ||grad||       alpha      alpha0  # evals  Notes \n",
      "     266       2704.22   0.000128027       123.532    1.13e-06       0.001      392  LS failed, Hessian reset \n",
      "     299       2704.44   0.000379943       54.4516           1           1      431   \n",
      "    Iter      log prob        ||dx||      ||grad||       alpha      alpha0  # evals  Notes \n",
      "     331       2704.62   0.000401623        69.998   5.836e-06       0.001      511  LS failed, Hessian reset \n",
      "     399       2704.65   9.49532e-06       40.8383      0.2384           1      608   \n",
      "    Iter      log prob        ||dx||      ||grad||       alpha      alpha0  # evals  Notes \n",
      "     478       2704.89   8.16934e-05        70.252   5.808e-07       0.001      799  LS failed, Hessian reset \n",
      "     499       2704.98   1.11353e-05       56.4318      0.3573           1      827   \n",
      "    Iter      log prob        ||dx||      ||grad||       alpha      alpha0  # evals  Notes \n",
      "     506          2705   7.27608e-05       83.9207   9.274e-07       0.001      881  LS failed, Hessian reset \n",
      "     527       2705.01   3.16029e-07       40.6368      0.6835      0.6835      917   \n",
      "Optimization terminated normally: \n",
      "  Convergence detected: relative gradient magnitude is below tolerance\n"
     ]
    },
    {
     "name": "stderr",
     "output_type": "stream",
     "text": [
      "/Users/hwangyungwan/miniforge3/envs/ds_p39/lib/python3.9/site-packages/prophet/forecaster.py:896: FutureWarning: The frame.append method is deprecated and will be removed from pandas in a future version. Use pandas.concat instead.\n",
      "  components = components.append(new_comp)\n",
      "/Users/hwangyungwan/miniforge3/envs/ds_p39/lib/python3.9/site-packages/prophet/forecaster.py:896: FutureWarning: The frame.append method is deprecated and will be removed from pandas in a future version. Use pandas.concat instead.\n",
      "  components = components.append(new_comp)\n"
     ]
    }
   ],
   "source": [
    "tsf.train(algo=\"prophet\", target=\"y\", df=df_train)\n",
    "tsf.forecast(df_future=df_future, steps=steps, freq=\"D\")"
   ]
  },
  {
   "cell_type": "code",
   "execution_count": 9,
   "id": "1864b7e7",
   "metadata": {
    "ExecuteTime": {
     "end_time": "2023-02-04T13:04:45.448189Z",
     "start_time": "2023-02-04T13:04:45.444799Z"
    },
    "scrolled": true
   },
   "outputs": [
    {
     "data": {
      "text/html": [
       "<div>\n",
       "<style scoped>\n",
       "    .dataframe tbody tr th:only-of-type {\n",
       "        vertical-align: middle;\n",
       "    }\n",
       "\n",
       "    .dataframe tbody tr th {\n",
       "        vertical-align: top;\n",
       "    }\n",
       "\n",
       "    .dataframe thead th {\n",
       "        text-align: right;\n",
       "    }\n",
       "</style>\n",
       "<table border=\"1\" class=\"dataframe\">\n",
       "  <thead>\n",
       "    <tr style=\"text-align: right;\">\n",
       "      <th></th>\n",
       "      <th>date</th>\n",
       "      <th>yhat</th>\n",
       "      <th>yhat_lower</th>\n",
       "      <th>yhat_upper</th>\n",
       "    </tr>\n",
       "  </thead>\n",
       "  <tbody>\n",
       "    <tr>\n",
       "      <th>0</th>\n",
       "      <td>2021-09-28</td>\n",
       "      <td>6927.427759</td>\n",
       "      <td>-10714.093710</td>\n",
       "      <td>26623.455536</td>\n",
       "    </tr>\n",
       "    <tr>\n",
       "      <th>1</th>\n",
       "      <td>2021-09-29</td>\n",
       "      <td>8835.895799</td>\n",
       "      <td>-9343.668023</td>\n",
       "      <td>29007.721357</td>\n",
       "    </tr>\n",
       "    <tr>\n",
       "      <th>2</th>\n",
       "      <td>2021-09-30</td>\n",
       "      <td>5479.991107</td>\n",
       "      <td>-13132.922272</td>\n",
       "      <td>24261.494212</td>\n",
       "    </tr>\n",
       "  </tbody>\n",
       "</table>\n",
       "</div>"
      ],
      "text/plain": [
       "        date         yhat    yhat_lower    yhat_upper\n",
       "0 2021-09-28  6927.427759 -10714.093710  26623.455536\n",
       "1 2021-09-29  8835.895799  -9343.668023  29007.721357\n",
       "2 2021-09-30  5479.991107 -13132.922272  24261.494212"
      ]
     },
     "execution_count": 9,
     "metadata": {},
     "output_type": "execute_result"
    }
   ],
   "source": [
    "tsf.df_fcst"
   ]
  }
 ],
 "metadata": {
  "hide_input": false,
  "kernelspec": {
   "display_name": "Python 3 (ipykernel)",
   "language": "python",
   "name": "python3"
  },
  "language_info": {
   "codemirror_mode": {
    "name": "ipython",
    "version": 3
   },
   "file_extension": ".py",
   "mimetype": "text/x-python",
   "name": "python",
   "nbconvert_exporter": "python",
   "pygments_lexer": "ipython3",
   "version": "3.9.13"
  },
  "toc": {
   "base_numbering": 1,
   "nav_menu": {},
   "number_sections": true,
   "sideBar": true,
   "skip_h1_title": false,
   "title_cell": "Table of Contents",
   "title_sidebar": "Contents",
   "toc_cell": false,
   "toc_position": {
    "height": "1140px",
    "left": "29px",
    "top": "92px",
    "width": "454px"
   },
   "toc_section_display": true,
   "toc_window_display": true
  },
  "varInspector": {
   "cols": {
    "lenName": 16,
    "lenType": 16,
    "lenVar": 40
   },
   "kernels_config": {
    "python": {
     "delete_cmd_postfix": "",
     "delete_cmd_prefix": "del ",
     "library": "var_list.py",
     "varRefreshCmd": "print(var_dic_list())"
    },
    "r": {
     "delete_cmd_postfix": ") ",
     "delete_cmd_prefix": "rm(",
     "library": "var_list.r",
     "varRefreshCmd": "cat(var_dic_list()) "
    }
   },
   "types_to_exclude": [
    "module",
    "function",
    "builtin_function_or_method",
    "instance",
    "_Feature"
   ],
   "window_display": false
  }
 },
 "nbformat": 4,
 "nbformat_minor": 5
}
