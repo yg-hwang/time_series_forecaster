{
 "cells": [
  {
   "cell_type": "markdown",
   "id": "f27d23e3",
   "metadata": {},
   "source": [
    "# Import Library"
   ]
  },
  {
   "cell_type": "code",
   "execution_count": 1,
   "id": "fb4d03cf",
   "metadata": {
    "ExecuteTime": {
     "end_time": "2023-02-04T13:04:25.418789Z",
     "start_time": "2023-02-04T13:04:25.168594Z"
    }
   },
   "outputs": [
    {
     "ename": "ModuleNotFoundError",
     "evalue": "No module named 'time_series_forecaster'",
     "output_type": "error",
     "traceback": [
      "\u001b[0;31m---------------------------------------------------------------------------\u001b[0m",
      "\u001b[0;31mModuleNotFoundError\u001b[0m                       Traceback (most recent call last)",
      "\u001b[0;32m/var/folders/9r/nl1h4s_n0wx65wzr5cmq1hy80000gn/T/ipykernel_20009/3326968524.py\u001b[0m in \u001b[0;36m<cell line: 7>\u001b[0;34m()\u001b[0m\n\u001b[1;32m      7\u001b[0m \u001b[0;32mif\u001b[0m \u001b[0mmodule_path\u001b[0m \u001b[0;32mnot\u001b[0m \u001b[0;32min\u001b[0m \u001b[0msys\u001b[0m\u001b[0;34m.\u001b[0m\u001b[0mpath\u001b[0m\u001b[0;34m:\u001b[0m\u001b[0;34m\u001b[0m\u001b[0;34m\u001b[0m\u001b[0m\n\u001b[1;32m      8\u001b[0m     \u001b[0msys\u001b[0m\u001b[0;34m.\u001b[0m\u001b[0mpath\u001b[0m\u001b[0;34m.\u001b[0m\u001b[0mappend\u001b[0m\u001b[0;34m(\u001b[0m\u001b[0mmodule_path\u001b[0m\u001b[0;34m)\u001b[0m\u001b[0;34m\u001b[0m\u001b[0;34m\u001b[0m\u001b[0m\n\u001b[0;32m----> 9\u001b[0;31m     \u001b[0;32mfrom\u001b[0m \u001b[0mtime_series_forecaster\u001b[0m\u001b[0;34m.\u001b[0m\u001b[0mmodels\u001b[0m\u001b[0;34m.\u001b[0m\u001b[0mts_forecaster\u001b[0m \u001b[0;32mimport\u001b[0m \u001b[0mTimeSeriesForecaster\u001b[0m\u001b[0;34m\u001b[0m\u001b[0;34m\u001b[0m\u001b[0m\n\u001b[0m\u001b[1;32m     10\u001b[0m     \u001b[0;32mfrom\u001b[0m \u001b[0mtime_series_forecaster\u001b[0m\u001b[0;34m.\u001b[0m\u001b[0mmodels\u001b[0m\u001b[0;34m.\u001b[0m\u001b[0mts_preprocess\u001b[0m \u001b[0;32mimport\u001b[0m \u001b[0mgenerate_future_dataframe\u001b[0m\u001b[0;34m\u001b[0m\u001b[0;34m\u001b[0m\u001b[0m\n",
      "\u001b[0;31mModuleNotFoundError\u001b[0m: No module named 'time_series_forecaster'"
     ]
    }
   ],
   "source": [
    "import os\n",
    "import sys\n",
    "import numpy as np\n",
    "import pandas as pd\n",
    "\n",
    "module_path = os.path.abspath(os.path.join(\"..\"))\n",
    "if module_path not in sys.path:\n",
    "    sys.path.append(module_path)\n",
    "    from models.ts_forecaster import TimeSeriesForecaster\n",
    "    from models.ts_preprocess import generate_future_dataframe"
   ]
  },
  {
   "cell_type": "markdown",
   "id": "be8820f2",
   "metadata": {},
   "source": [
    "# Load Dataset"
   ]
  },
  {
   "cell_type": "code",
   "execution_count": null,
   "id": "bad46109",
   "metadata": {
    "ExecuteTime": {
     "end_time": "2023-02-04T13:04:25.420953Z",
     "start_time": "2023-02-04T13:04:25.420944Z"
    },
    "scrolled": true
   },
   "outputs": [],
   "source": [
    "df = pd.read_csv(\"sample_data.csv\")\n",
    "df = df.set_index(\"date\")\n",
    "df"
   ]
  },
  {
   "cell_type": "markdown",
   "id": "55d9b8df",
   "metadata": {},
   "source": [
    "# Define Steps"
   ]
  },
  {
   "cell_type": "code",
   "execution_count": null,
   "id": "462ea59a",
   "metadata": {
    "ExecuteTime": {
     "end_time": "2023-02-04T13:04:25.421705Z",
     "start_time": "2023-02-04T13:04:25.421700Z"
    }
   },
   "outputs": [],
   "source": [
    "steps = 3\n",
    "df_train = df.iloc[:-steps, :].copy()\n",
    "df_train.index.max()"
   ]
  },
  {
   "cell_type": "code",
   "execution_count": null,
   "id": "744de6ca",
   "metadata": {
    "ExecuteTime": {
     "end_time": "2023-02-04T13:04:25.422341Z",
     "start_time": "2023-02-04T13:04:25.422335Z"
    }
   },
   "outputs": [],
   "source": [
    "df_future = generate_future_dataframe(cutoff=\"2021-09-28\", freq=\"D\", steps=steps)\n",
    "df_future = df_future.set_index(\"date\")"
   ]
  },
  {
   "cell_type": "markdown",
   "id": "36a55637",
   "metadata": {},
   "source": [
    "# Forecast"
   ]
  },
  {
   "cell_type": "code",
   "execution_count": null,
   "id": "fff98f63",
   "metadata": {
    "ExecuteTime": {
     "end_time": "2023-02-04T13:04:25.423071Z",
     "start_time": "2023-02-04T13:04:25.423066Z"
    }
   },
   "outputs": [],
   "source": [
    "tsf = TimeSeriesForecaster()"
   ]
  },
  {
   "cell_type": "markdown",
   "id": "6649f1aa",
   "metadata": {},
   "source": [
    "## ARIMA"
   ]
  },
  {
   "cell_type": "code",
   "execution_count": null,
   "id": "f47edb56",
   "metadata": {
    "ExecuteTime": {
     "end_time": "2023-02-04T13:04:25.424181Z",
     "start_time": "2023-02-04T13:04:25.424172Z"
    },
    "scrolled": true
   },
   "outputs": [],
   "source": [
    "tsf.train(algo=\"arima\", target=\"y\", df=df_train)\n",
    "tsf.forecast(df_future=df_future, steps=steps, freq=\"D\", alpha=0.2)"
   ]
  },
  {
   "cell_type": "code",
   "execution_count": null,
   "id": "ed41dc7c",
   "metadata": {
    "ExecuteTime": {
     "end_time": "2023-02-04T13:04:25.425026Z",
     "start_time": "2023-02-04T13:04:25.425021Z"
    }
   },
   "outputs": [],
   "source": [
    "tsf.df_fcst"
   ]
  },
  {
   "cell_type": "markdown",
   "id": "edd00130",
   "metadata": {},
   "source": [
    "## Prophet"
   ]
  },
  {
   "cell_type": "code",
   "execution_count": null,
   "id": "c2b0ebad",
   "metadata": {
    "ExecuteTime": {
     "end_time": "2023-02-04T13:04:25.425623Z",
     "start_time": "2023-02-04T13:04:25.425618Z"
    }
   },
   "outputs": [],
   "source": [
    "tsf.train(algo=\"prophet\", target=\"y\", df=df_train)\n",
    "tsf.forecast(df_future=df_future, steps=steps, freq=\"D\")"
   ]
  },
  {
   "cell_type": "code",
   "execution_count": null,
   "id": "1864b7e7",
   "metadata": {
    "ExecuteTime": {
     "end_time": "2023-02-04T13:04:25.426484Z",
     "start_time": "2023-02-04T13:04:25.426478Z"
    },
    "scrolled": true
   },
   "outputs": [],
   "source": [
    "tsf.df_fcst"
   ]
  }
 ],
 "metadata": {
  "hide_input": false,
  "kernelspec": {
   "display_name": "Python 3 (ipykernel)",
   "language": "python",
   "name": "python3"
  },
  "language_info": {
   "codemirror_mode": {
    "name": "ipython",
    "version": 3
   },
   "file_extension": ".py",
   "mimetype": "text/x-python",
   "name": "python",
   "nbconvert_exporter": "python",
   "pygments_lexer": "ipython3",
   "version": "3.9.13"
  },
  "toc": {
   "base_numbering": 1,
   "nav_menu": {},
   "number_sections": true,
   "sideBar": true,
   "skip_h1_title": false,
   "title_cell": "Table of Contents",
   "title_sidebar": "Contents",
   "toc_cell": false,
   "toc_position": {
    "height": "1140px",
    "left": "29px",
    "top": "92px",
    "width": "454px"
   },
   "toc_section_display": true,
   "toc_window_display": true
  },
  "varInspector": {
   "cols": {
    "lenName": 16,
    "lenType": 16,
    "lenVar": 40
   },
   "kernels_config": {
    "python": {
     "delete_cmd_postfix": "",
     "delete_cmd_prefix": "del ",
     "library": "var_list.py",
     "varRefreshCmd": "print(var_dic_list())"
    },
    "r": {
     "delete_cmd_postfix": ") ",
     "delete_cmd_prefix": "rm(",
     "library": "var_list.r",
     "varRefreshCmd": "cat(var_dic_list()) "
    }
   },
   "types_to_exclude": [
    "module",
    "function",
    "builtin_function_or_method",
    "instance",
    "_Feature"
   ],
   "window_display": false
  }
 },
 "nbformat": 4,
 "nbformat_minor": 5
}
