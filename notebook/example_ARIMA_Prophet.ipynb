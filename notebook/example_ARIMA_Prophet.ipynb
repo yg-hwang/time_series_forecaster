{
 "cells": [
  {
   "cell_type": "markdown",
   "id": "f27d23e3",
   "metadata": {},
   "source": [
    "# Import Library"
   ]
  },
  {
   "cell_type": "code",
   "execution_count": 1,
   "id": "fb4d03cf",
   "metadata": {
    "ExecuteTime": {
     "end_time": "2023-02-12T12:41:27.152701Z",
     "start_time": "2023-02-12T12:41:26.104504Z"
    }
   },
   "outputs": [],
   "source": [
    "import os\n",
    "import sys\n",
    "import numpy as np\n",
    "import pandas as pd\n",
    "\n",
    "module_path = os.path.abspath(os.path.join(\"..\"))\n",
    "if module_path not in sys.path:\n",
    "    sys.path.append(module_path)\n",
    "    from models.ts_forecaster import TimeSeriesForecaster\n",
    "    from models.ts_preprocess import generate_future_dataframe"
   ]
  },
  {
   "cell_type": "markdown",
   "id": "be8820f2",
   "metadata": {},
   "source": [
    "# Load Dataset"
   ]
  },
  {
   "cell_type": "code",
   "execution_count": 2,
   "id": "bad46109",
   "metadata": {
    "ExecuteTime": {
     "end_time": "2023-02-12T12:41:27.164329Z",
     "start_time": "2023-02-12T12:41:27.154086Z"
    },
    "scrolled": true
   },
   "outputs": [
    {
     "data": {
      "text/html": [
       "<div>\n",
       "<style scoped>\n",
       "    .dataframe tbody tr th:only-of-type {\n",
       "        vertical-align: middle;\n",
       "    }\n",
       "\n",
       "    .dataframe tbody tr th {\n",
       "        vertical-align: top;\n",
       "    }\n",
       "\n",
       "    .dataframe thead th {\n",
       "        text-align: right;\n",
       "    }\n",
       "</style>\n",
       "<table border=\"1\" class=\"dataframe\">\n",
       "  <thead>\n",
       "    <tr style=\"text-align: right;\">\n",
       "      <th></th>\n",
       "      <th>x1</th>\n",
       "      <th>x2</th>\n",
       "      <th>x3</th>\n",
       "      <th>y</th>\n",
       "    </tr>\n",
       "    <tr>\n",
       "      <th>date</th>\n",
       "      <th></th>\n",
       "      <th></th>\n",
       "      <th></th>\n",
       "      <th></th>\n",
       "    </tr>\n",
       "  </thead>\n",
       "  <tbody>\n",
       "    <tr>\n",
       "      <th>2016-01-01</th>\n",
       "      <td>4.559453</td>\n",
       "      <td>2.980033</td>\n",
       "      <td>4.055621</td>\n",
       "      <td>4.214337</td>\n",
       "    </tr>\n",
       "    <tr>\n",
       "      <th>2016-01-02</th>\n",
       "      <td>4.210408</td>\n",
       "      <td>3.029542</td>\n",
       "      <td>3.152499</td>\n",
       "      <td>3.224680</td>\n",
       "    </tr>\n",
       "    <tr>\n",
       "      <th>2016-01-03</th>\n",
       "      <td>3.370900</td>\n",
       "      <td>3.370900</td>\n",
       "      <td>3.940435</td>\n",
       "      <td>5.128299</td>\n",
       "    </tr>\n",
       "    <tr>\n",
       "      <th>2016-01-04</th>\n",
       "      <td>3.598311</td>\n",
       "      <td>3.745475</td>\n",
       "      <td>3.153416</td>\n",
       "      <td>2.850409</td>\n",
       "    </tr>\n",
       "    <tr>\n",
       "      <th>2016-01-05</th>\n",
       "      <td>-8.227478</td>\n",
       "      <td>2.717077</td>\n",
       "      <td>4.155089</td>\n",
       "      <td>4.545156</td>\n",
       "    </tr>\n",
       "    <tr>\n",
       "      <th>...</th>\n",
       "      <td>...</td>\n",
       "      <td>...</td>\n",
       "      <td>...</td>\n",
       "      <td>...</td>\n",
       "    </tr>\n",
       "    <tr>\n",
       "      <th>2021-12-27</th>\n",
       "      <td>3.131693</td>\n",
       "      <td>23.821462</td>\n",
       "      <td>4.663600</td>\n",
       "      <td>21.241504</td>\n",
       "    </tr>\n",
       "    <tr>\n",
       "      <th>2021-12-28</th>\n",
       "      <td>3.226848</td>\n",
       "      <td>2.706707</td>\n",
       "      <td>3.980070</td>\n",
       "      <td>3.131693</td>\n",
       "    </tr>\n",
       "    <tr>\n",
       "      <th>2021-12-29</th>\n",
       "      <td>3.221490</td>\n",
       "      <td>3.199063</td>\n",
       "      <td>3.596113</td>\n",
       "      <td>3.422970</td>\n",
       "    </tr>\n",
       "    <tr>\n",
       "      <th>2021-12-30</th>\n",
       "      <td>3.838340</td>\n",
       "      <td>2.721457</td>\n",
       "      <td>4.174123</td>\n",
       "      <td>3.513204</td>\n",
       "    </tr>\n",
       "    <tr>\n",
       "      <th>2021-12-31</th>\n",
       "      <td>13.261220</td>\n",
       "      <td>5.342842</td>\n",
       "      <td>3.559211</td>\n",
       "      <td>2.875904</td>\n",
       "    </tr>\n",
       "  </tbody>\n",
       "</table>\n",
       "<p>2192 rows × 4 columns</p>\n",
       "</div>"
      ],
      "text/plain": [
       "                   x1         x2        x3          y\n",
       "date                                                 \n",
       "2016-01-01   4.559453   2.980033  4.055621   4.214337\n",
       "2016-01-02   4.210408   3.029542  3.152499   3.224680\n",
       "2016-01-03   3.370900   3.370900  3.940435   5.128299\n",
       "2016-01-04   3.598311   3.745475  3.153416   2.850409\n",
       "2016-01-05  -8.227478   2.717077  4.155089   4.545156\n",
       "...               ...        ...       ...        ...\n",
       "2021-12-27   3.131693  23.821462  4.663600  21.241504\n",
       "2021-12-28   3.226848   2.706707  3.980070   3.131693\n",
       "2021-12-29   3.221490   3.199063  3.596113   3.422970\n",
       "2021-12-30   3.838340   2.721457  4.174123   3.513204\n",
       "2021-12-31  13.261220   5.342842  3.559211   2.875904\n",
       "\n",
       "[2192 rows x 4 columns]"
      ]
     },
     "execution_count": 2,
     "metadata": {},
     "output_type": "execute_result"
    }
   ],
   "source": [
    "df = pd.read_csv(\"sample_data.csv\")\n",
    "df = df.set_index(\"date\")\n",
    "df"
   ]
  },
  {
   "cell_type": "markdown",
   "id": "55d9b8df",
   "metadata": {},
   "source": [
    "# Define Steps"
   ]
  },
  {
   "cell_type": "code",
   "execution_count": 3,
   "id": "462ea59a",
   "metadata": {
    "ExecuteTime": {
     "end_time": "2023-02-12T12:41:27.169655Z",
     "start_time": "2023-02-12T12:41:27.165149Z"
    }
   },
   "outputs": [
    {
     "data": {
      "text/plain": [
       "'2021-12-28'"
      ]
     },
     "execution_count": 3,
     "metadata": {},
     "output_type": "execute_result"
    }
   ],
   "source": [
    "steps = 3\n",
    "df_train = df.iloc[:-steps, :].copy()\n",
    "df_train = df_train.loc[:, [\"y\"]]\n",
    "df_train.index.max()"
   ]
  },
  {
   "cell_type": "code",
   "execution_count": 4,
   "id": "744de6ca",
   "metadata": {
    "ExecuteTime": {
     "end_time": "2023-02-12T12:41:27.174070Z",
     "start_time": "2023-02-12T12:41:27.171378Z"
    }
   },
   "outputs": [],
   "source": [
    "df_future = generate_future_dataframe(cutoff=\"2021-12-28\", freq=\"D\", steps=steps)\n",
    "df_future = df_future.set_index(\"date\")"
   ]
  },
  {
   "cell_type": "markdown",
   "id": "36a55637",
   "metadata": {},
   "source": [
    "# Forecast"
   ]
  },
  {
   "cell_type": "code",
   "execution_count": 5,
   "id": "fff98f63",
   "metadata": {
    "ExecuteTime": {
     "end_time": "2023-02-12T12:41:27.176833Z",
     "start_time": "2023-02-12T12:41:27.175035Z"
    }
   },
   "outputs": [],
   "source": [
    "tsf = TimeSeriesForecaster()"
   ]
  },
  {
   "cell_type": "markdown",
   "id": "6649f1aa",
   "metadata": {},
   "source": [
    "## ARIMA"
   ]
  },
  {
   "cell_type": "code",
   "execution_count": 6,
   "id": "f47edb56",
   "metadata": {
    "ExecuteTime": {
     "end_time": "2023-02-12T12:41:40.582545Z",
     "start_time": "2023-02-12T12:41:27.177745Z"
    },
    "scrolled": true
   },
   "outputs": [
    {
     "name": "stdout",
     "output_type": "stream",
     "text": [
      "                               SARIMAX Results                                \n",
      "==============================================================================\n",
      "Dep. Variable:                      y   No. Observations:                 2189\n",
      "Model:               SARIMAX(3, 0, 3)   Log Likelihood               -5848.897\n",
      "Date:                Sun, 12 Feb 2023   AIC                          11713.793\n",
      "Time:                        21:41:39   BIC                          11759.323\n",
      "Sample:                    01-01-2016   HQIC                         11730.434\n",
      "                         - 12-28-2021                                         \n",
      "Covariance Type:                  opg                                         \n",
      "==============================================================================\n",
      "                 coef    std err          z      P>|z|      [0.025      0.975]\n",
      "------------------------------------------------------------------------------\n",
      "intercept      7.0104      0.375     18.706      0.000       6.276       7.745\n",
      "ar.L1          0.1366      0.028      4.806      0.000       0.081       0.192\n",
      "ar.L2          0.1817      0.027      6.736      0.000       0.129       0.235\n",
      "ar.L3         -0.9379      0.031    -30.679      0.000      -0.998      -0.878\n",
      "ma.L1         -0.1842      0.037     -5.033      0.000      -0.256      -0.112\n",
      "ma.L2         -0.2046      0.032     -6.353      0.000      -0.268      -0.142\n",
      "ma.L3          0.9187      0.028     32.482      0.000       0.863       0.974\n",
      "sigma2        12.3299      0.132     93.130      0.000      12.070      12.589\n",
      "===================================================================================\n",
      "Ljung-Box (L1) (Q):                   1.43   Jarque-Bera (JB):            396754.72\n",
      "Prob(Q):                              0.23   Prob(JB):                         0.00\n",
      "Heteroskedasticity (H):               0.90   Skew:                             6.54\n",
      "Prob(H) (two-sided):                  0.14   Kurtosis:                        67.64\n",
      "===================================================================================\n",
      "\n",
      "Warnings:\n",
      "[1] Covariance matrix calculated using the outer product of gradients (complex-step).\n"
     ]
    }
   ],
   "source": [
    "tsf.train(algo=\"arima\", target=\"y\", df=df_train)\n",
    "tsf.forecast(df_future=df_future, steps=steps, freq=\"D\", alpha=0.2)"
   ]
  },
  {
   "cell_type": "code",
   "execution_count": 7,
   "id": "ed41dc7c",
   "metadata": {
    "ExecuteTime": {
     "end_time": "2023-02-12T12:41:40.588003Z",
     "start_time": "2023-02-12T12:41:40.583909Z"
    }
   },
   "outputs": [
    {
     "data": {
      "text/html": [
       "<div>\n",
       "<style scoped>\n",
       "    .dataframe tbody tr th:only-of-type {\n",
       "        vertical-align: middle;\n",
       "    }\n",
       "\n",
       "    .dataframe tbody tr th {\n",
       "        vertical-align: top;\n",
       "    }\n",
       "\n",
       "    .dataframe thead th {\n",
       "        text-align: right;\n",
       "    }\n",
       "</style>\n",
       "<table border=\"1\" class=\"dataframe\">\n",
       "  <thead>\n",
       "    <tr style=\"text-align: right;\">\n",
       "      <th></th>\n",
       "      <th>date</th>\n",
       "      <th>yhat</th>\n",
       "      <th>yhat_lower</th>\n",
       "      <th>yhat_upper</th>\n",
       "    </tr>\n",
       "  </thead>\n",
       "  <tbody>\n",
       "    <tr>\n",
       "      <th>0</th>\n",
       "      <td>2021-12-28</td>\n",
       "      <td>NaN</td>\n",
       "      <td>-0.246171</td>\n",
       "      <td>8.753900</td>\n",
       "    </tr>\n",
       "    <tr>\n",
       "      <th>1</th>\n",
       "      <td>2021-12-29</td>\n",
       "      <td>4.253865</td>\n",
       "      <td>-0.954069</td>\n",
       "      <td>8.056190</td>\n",
       "    </tr>\n",
       "    <tr>\n",
       "      <th>2</th>\n",
       "      <td>2021-12-30</td>\n",
       "      <td>3.551061</td>\n",
       "      <td>0.591901</td>\n",
       "      <td>9.606067</td>\n",
       "    </tr>\n",
       "  </tbody>\n",
       "</table>\n",
       "</div>"
      ],
      "text/plain": [
       "        date      yhat  yhat_lower  yhat_upper\n",
       "0 2021-12-28       NaN   -0.246171    8.753900\n",
       "1 2021-12-29  4.253865   -0.954069    8.056190\n",
       "2 2021-12-30  3.551061    0.591901    9.606067"
      ]
     },
     "execution_count": 7,
     "metadata": {},
     "output_type": "execute_result"
    }
   ],
   "source": [
    "tsf.df_fcst"
   ]
  },
  {
   "cell_type": "markdown",
   "id": "edd00130",
   "metadata": {},
   "source": [
    "## Prophet"
   ]
  },
  {
   "cell_type": "code",
   "execution_count": 8,
   "id": "c2b0ebad",
   "metadata": {
    "ExecuteTime": {
     "end_time": "2023-02-12T12:41:42.284761Z",
     "start_time": "2023-02-12T12:41:40.588914Z"
    },
    "scrolled": true
   },
   "outputs": [
    {
     "name": "stderr",
     "output_type": "stream",
     "text": [
      "INFO:prophet:Disabling daily seasonality. Run prophet with daily_seasonality=True to override this.\n",
      "/Users/hwangyungwan/miniforge3/envs/ds_p39/lib/python3.9/site-packages/prophet/forecaster.py:896: FutureWarning: The frame.append method is deprecated and will be removed from pandas in a future version. Use pandas.concat instead.\n",
      "  components = components.append(new_comp)\n",
      "/Users/hwangyungwan/miniforge3/envs/ds_p39/lib/python3.9/site-packages/prophet/forecaster.py:896: FutureWarning: The frame.append method is deprecated and will be removed from pandas in a future version. Use pandas.concat instead.\n",
      "  components = components.append(new_comp)\n",
      "/Users/hwangyungwan/miniforge3/envs/ds_p39/lib/python3.9/site-packages/prophet/forecaster.py:896: FutureWarning: The frame.append method is deprecated and will be removed from pandas in a future version. Use pandas.concat instead.\n",
      "  components = components.append(new_comp)\n"
     ]
    },
    {
     "name": "stdout",
     "output_type": "stream",
     "text": [
      "Initial log joint probability = -9.18744\n",
      "    Iter      log prob        ||dx||      ||grad||       alpha      alpha0  # evals  Notes \n",
      "      83       4454.98   4.88248e-05       72.9941    8.86e-07       0.001      142  LS failed, Hessian reset \n",
      "      99       4454.99   2.92613e-06        72.556      0.7876      0.7876      163   \n",
      "    Iter      log prob        ||dx||      ||grad||       alpha      alpha0  # evals  Notes \n",
      "     115       4454.99   3.78094e-07       77.2845      0.3107           1      186   \n",
      "Optimization terminated normally: \n",
      "  Convergence detected: relative gradient magnitude is below tolerance\n"
     ]
    }
   ],
   "source": [
    "tsf.train(algo=\"prophet\", target=\"y\", df=df_train)\n",
    "tsf.forecast(df_future=df_future, steps=steps, freq=\"D\")"
   ]
  },
  {
   "cell_type": "code",
   "execution_count": 9,
   "id": "1864b7e7",
   "metadata": {
    "ExecuteTime": {
     "end_time": "2023-02-12T12:41:42.289563Z",
     "start_time": "2023-02-12T12:41:42.285676Z"
    },
    "scrolled": true
   },
   "outputs": [
    {
     "data": {
      "text/html": [
       "<div>\n",
       "<style scoped>\n",
       "    .dataframe tbody tr th:only-of-type {\n",
       "        vertical-align: middle;\n",
       "    }\n",
       "\n",
       "    .dataframe tbody tr th {\n",
       "        vertical-align: top;\n",
       "    }\n",
       "\n",
       "    .dataframe thead th {\n",
       "        text-align: right;\n",
       "    }\n",
       "</style>\n",
       "<table border=\"1\" class=\"dataframe\">\n",
       "  <thead>\n",
       "    <tr style=\"text-align: right;\">\n",
       "      <th></th>\n",
       "      <th>date</th>\n",
       "      <th>yhat</th>\n",
       "      <th>yhat_lower</th>\n",
       "      <th>yhat_upper</th>\n",
       "    </tr>\n",
       "  </thead>\n",
       "  <tbody>\n",
       "    <tr>\n",
       "      <th>0</th>\n",
       "      <td>2021-12-28</td>\n",
       "      <td>4.306813</td>\n",
       "      <td>-0.033598</td>\n",
       "      <td>8.811585</td>\n",
       "    </tr>\n",
       "    <tr>\n",
       "      <th>1</th>\n",
       "      <td>2021-12-29</td>\n",
       "      <td>4.869196</td>\n",
       "      <td>0.047983</td>\n",
       "      <td>9.260378</td>\n",
       "    </tr>\n",
       "    <tr>\n",
       "      <th>2</th>\n",
       "      <td>2021-12-30</td>\n",
       "      <td>4.616652</td>\n",
       "      <td>0.070039</td>\n",
       "      <td>9.094439</td>\n",
       "    </tr>\n",
       "  </tbody>\n",
       "</table>\n",
       "</div>"
      ],
      "text/plain": [
       "        date      yhat  yhat_lower  yhat_upper\n",
       "0 2021-12-28  4.306813   -0.033598    8.811585\n",
       "1 2021-12-29  4.869196    0.047983    9.260378\n",
       "2 2021-12-30  4.616652    0.070039    9.094439"
      ]
     },
     "execution_count": 9,
     "metadata": {},
     "output_type": "execute_result"
    }
   ],
   "source": [
    "tsf.df_fcst"
   ]
  }
 ],
 "metadata": {
  "hide_input": false,
  "kernelspec": {
   "display_name": "Python 3 (ipykernel)",
   "language": "python",
   "name": "python3"
  },
  "language_info": {
   "codemirror_mode": {
    "name": "ipython",
    "version": 3
   },
   "file_extension": ".py",
   "mimetype": "text/x-python",
   "name": "python",
   "nbconvert_exporter": "python",
   "pygments_lexer": "ipython3",
   "version": "3.9.13"
  },
  "toc": {
   "base_numbering": 1,
   "nav_menu": {},
   "number_sections": true,
   "sideBar": true,
   "skip_h1_title": false,
   "title_cell": "Table of Contents",
   "title_sidebar": "Contents",
   "toc_cell": false,
   "toc_position": {
    "height": "1140px",
    "left": "29px",
    "top": "92px",
    "width": "454px"
   },
   "toc_section_display": true,
   "toc_window_display": true
  },
  "varInspector": {
   "cols": {
    "lenName": 16,
    "lenType": 16,
    "lenVar": 40
   },
   "kernels_config": {
    "python": {
     "delete_cmd_postfix": "",
     "delete_cmd_prefix": "del ",
     "library": "var_list.py",
     "varRefreshCmd": "print(var_dic_list())"
    },
    "r": {
     "delete_cmd_postfix": ") ",
     "delete_cmd_prefix": "rm(",
     "library": "var_list.r",
     "varRefreshCmd": "cat(var_dic_list()) "
    }
   },
   "types_to_exclude": [
    "module",
    "function",
    "builtin_function_or_method",
    "instance",
    "_Feature"
   ],
   "window_display": false
  }
 },
 "nbformat": 4,
 "nbformat_minor": 5
}
