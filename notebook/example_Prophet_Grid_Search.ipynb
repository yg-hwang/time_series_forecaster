{
 "cells": [
  {
   "cell_type": "markdown",
   "id": "eaba9673",
   "metadata": {},
   "source": [
    "# Import Library"
   ]
  },
  {
   "cell_type": "code",
   "execution_count": 1,
   "id": "fb4d03cf",
   "metadata": {
    "ExecuteTime": {
     "end_time": "2023-02-12T12:42:20.731788Z",
     "start_time": "2023-02-12T12:42:19.922670Z"
    }
   },
   "outputs": [],
   "source": [
    "import os\n",
    "import sys\n",
    "import pandas as pd\n",
    "import matplotlib as mpl\n",
    "import matplotlib.pyplot as plt\n",
    "import seaborn as sns\n",
    "\n",
    "module_path = os.path.abspath(os.path.join(\"..\"))\n",
    "if module_path not in sys.path:\n",
    "    sys.path.append(module_path)\n",
    "    from models.ts_prophet_gridsearch import *"
   ]
  },
  {
   "cell_type": "markdown",
   "id": "7b14cf6f",
   "metadata": {},
   "source": [
    "# Load Dataset"
   ]
  },
  {
   "cell_type": "code",
   "execution_count": 2,
   "id": "2fa3bb14",
   "metadata": {
    "ExecuteTime": {
     "end_time": "2023-02-12T12:42:20.739582Z",
     "start_time": "2023-02-12T12:42:20.733278Z"
    }
   },
   "outputs": [],
   "source": [
    "df_train = pd.read_csv(\"sample_data.csv\")\n",
    "df_train = df_train[[\"date\", \"y\"]].rename(columns={\"date\": \"ds\"})\n",
    "df_train[\"ds\"] = pd.to_datetime(df_train[\"ds\"])"
   ]
  },
  {
   "cell_type": "code",
   "execution_count": 3,
   "id": "4a87d18e",
   "metadata": {
    "ExecuteTime": {
     "end_time": "2023-02-12T12:42:20.853264Z",
     "start_time": "2023-02-12T12:42:20.740431Z"
    }
   },
   "outputs": [
    {
     "data": {
      "image/png": "[encoded data removed]",
      "text/plain": [
       "<Figure size 864x432 with 1 Axes>"
      ]
     },
     "metadata": {
      "needs_background": "light"
     },
     "output_type": "display_data"
    }
   ],
   "source": [
    "plt.figure(figsize=(12, 6))\n",
    "sns.lineplot(data=df_train, x=\"ds\", y=\"y\", color=\"b\")\n",
    "plt.show()"
   ]
  },
  {
   "cell_type": "markdown",
   "id": "d878283d",
   "metadata": {},
   "source": [
    "# GridSearch"
   ]
  },
  {
   "cell_type": "code",
   "execution_count": 4,
   "id": "55fef36f",
   "metadata": {
    "ExecuteTime": {
     "end_time": "2023-02-12T12:42:20.858196Z",
     "start_time": "2023-02-12T12:42:20.855698Z"
    },
    "scrolled": true
   },
   "outputs": [],
   "source": [
    "default = {\n",
    "    \"growth\": \"linear\",\n",
    "    \"daily_seasonality\": False,\n",
    "    \"yearly_seasonality\": True,\n",
    "}\n",
    "params_to_search = {\n",
    "    \"weekly_seasonality\": [True, False],\n",
    "    \"seasonality_mode\": [\"additive\", \"multiplicative\"],\n",
    "}\n",
    "add_seasonality = [{\"name\": \"monthly\", \"period\": 30.5, \"fourier_order\": 5}]\n",
    "\n",
    "P = ProphetGridSearch()"
   ]
  },
  {
   "cell_type": "code",
   "execution_count": 5,
   "id": "6c57e163",
   "metadata": {
    "ExecuteTime": {
     "end_time": "2023-02-12T12:43:10.353020Z",
     "start_time": "2023-02-12T12:42:20.859142Z"
    }
   },
   "outputs": [
    {
     "name": "stderr",
     "output_type": "stream",
     "text": [
      "/Users/hwangyungwan/miniforge3/envs/ds_p39/lib/python3.9/site-packages/prophet/forecaster.py:896: FutureWarning: The frame.append method is deprecated and will be removed from pandas in a future version. Use pandas.concat instead.\n",
      "  components = components.append(new_comp)\n"
     ]
    },
    {
     "name": "stdout",
     "output_type": "stream",
     "text": [
      "Initial log joint probability = -9.30729\n",
      "    Iter      log prob        ||dx||      ||grad||       alpha      alpha0  # evals  Notes \n",
      "      99       4476.43   7.73583e-05       67.3191           1           1      117   \n",
      "    Iter      log prob        ||dx||      ||grad||       alpha      alpha0  # evals  Notes \n",
      "     119       4476.44   6.18845e-07        67.109      0.3384           1      146   \n",
      "Optimization terminated normally: \n",
      "  Convergence detected: relative gradient magnitude is below tolerance\n"
     ]
    },
    {
     "name": "stderr",
     "output_type": "stream",
     "text": [
      "/Users/hwangyungwan/miniforge3/envs/ds_p39/lib/python3.9/site-packages/prophet/forecaster.py:896: FutureWarning: The frame.append method is deprecated and will be removed from pandas in a future version. Use pandas.concat instead.\n",
      "  components = components.append(new_comp)\n"
     ]
    },
    {
     "name": "stdout",
     "output_type": "stream",
     "text": [
      "Initial log joint probability = -9.30729\n",
      "    Iter      log prob        ||dx||      ||grad||       alpha      alpha0  # evals  Notes \n",
      "      99       4468.63    3.2958e-05       94.5597      0.5703      0.5703      128   \n",
      "    Iter      log prob        ||dx||      ||grad||       alpha      alpha0  # evals  Notes \n",
      "     131       4468.63   2.18209e-07       75.9537      0.2384           1      171   \n",
      "Optimization terminated normally: \n",
      "  Convergence detected: relative gradient magnitude is below tolerance\n"
     ]
    },
    {
     "name": "stderr",
     "output_type": "stream",
     "text": [
      "/Users/hwangyungwan/miniforge3/envs/ds_p39/lib/python3.9/site-packages/prophet/forecaster.py:896: FutureWarning: The frame.append method is deprecated and will be removed from pandas in a future version. Use pandas.concat instead.\n",
      "  components = components.append(new_comp)\n"
     ]
    },
    {
     "name": "stdout",
     "output_type": "stream",
     "text": [
      "Initial log joint probability = -9.30729\n",
      "    Iter      log prob        ||dx||      ||grad||       alpha      alpha0  # evals  Notes \n",
      "      99       4468.38     0.0040484       93.9711           1           1      133   \n",
      "    Iter      log prob        ||dx||      ||grad||       alpha      alpha0  # evals  Notes \n",
      "     190       4475.99    0.00166387       103.764   1.544e-05       0.001      273  LS failed, Hessian reset \n",
      "     199       4476.06   8.82269e-05       68.3834       1.915      0.1915      285   \n",
      "    Iter      log prob        ||dx||      ||grad||       alpha      alpha0  # evals  Notes \n",
      "     236       4476.06   3.58264e-07       68.1533      0.2564           1      337   \n",
      "Optimization terminated normally: \n",
      "  Convergence detected: relative gradient magnitude is below tolerance\n"
     ]
    },
    {
     "name": "stderr",
     "output_type": "stream",
     "text": [
      "/Users/hwangyungwan/miniforge3/envs/ds_p39/lib/python3.9/site-packages/prophet/forecaster.py:896: FutureWarning: The frame.append method is deprecated and will be removed from pandas in a future version. Use pandas.concat instead.\n",
      "  components = components.append(new_comp)\n"
     ]
    },
    {
     "name": "stdout",
     "output_type": "stream",
     "text": [
      "Initial log joint probability = -9.30729\n",
      "    Iter      log prob        ||dx||      ||grad||       alpha      alpha0  # evals  Notes \n",
      "      99       4460.87    0.00719487       141.072       0.956       0.956      113   \n",
      "    Iter      log prob        ||dx||      ||grad||       alpha      alpha0  # evals  Notes \n",
      "     188       4468.28   0.000635071       227.889   6.384e-06       0.001      260  LS failed, Hessian reset \n",
      "     199       4468.31      1.54e-05        60.687      0.4011           1      273   \n",
      "    Iter      log prob        ||dx||      ||grad||       alpha      alpha0  # evals  Notes \n",
      "     299       4468.35    0.00018118       87.8836           1           1      388   \n",
      "    Iter      log prob        ||dx||      ||grad||       alpha      alpha0  # evals  Notes \n",
      "     312       4468.35   2.95194e-07       66.7431      0.2697           1      404   \n",
      "Optimization terminated normally: \n",
      "  Convergence detected: relative gradient magnitude is below tolerance\n"
     ]
    },
    {
     "name": "stderr",
     "output_type": "stream",
     "text": [
      "/Users/hwangyungwan/miniforge3/envs/ds_p39/lib/python3.9/site-packages/prophet/forecaster.py:896: FutureWarning: The frame.append method is deprecated and will be removed from pandas in a future version. Use pandas.concat instead.\n",
      "  components = components.append(new_comp)\n"
     ]
    },
    {
     "name": "stdout",
     "output_type": "stream",
     "text": [
      "Initial log joint probability = -9.30729\n",
      "    Iter      log prob        ||dx||      ||grad||       alpha      alpha0  # evals  Notes \n",
      "      99       4473.06   0.000114237       86.0529      0.9137      0.9137      127   \n",
      "    Iter      log prob        ||dx||      ||grad||       alpha      alpha0  # evals  Notes \n",
      "     148        4473.1   7.24858e-06       74.6392   9.031e-08       0.001      228  LS failed, Hessian reset \n",
      "     156        4473.1   2.02526e-07        62.631      0.2728      0.9419      241   \n",
      "Optimization terminated normally: \n",
      "  Convergence detected: relative gradient magnitude is below tolerance\n"
     ]
    },
    {
     "name": "stderr",
     "output_type": "stream",
     "text": [
      "/Users/hwangyungwan/miniforge3/envs/ds_p39/lib/python3.9/site-packages/prophet/forecaster.py:896: FutureWarning: The frame.append method is deprecated and will be removed from pandas in a future version. Use pandas.concat instead.\n",
      "  components = components.append(new_comp)\n"
     ]
    },
    {
     "name": "stdout",
     "output_type": "stream",
     "text": [
      "Initial log joint probability = -9.30729\n",
      "    Iter      log prob        ||dx||      ||grad||       alpha      alpha0  # evals  Notes \n",
      "      99        4465.3   2.14665e-06       66.1334      0.2864           1      134   \n",
      "    Iter      log prob        ||dx||      ||grad||       alpha      alpha0  # evals  Notes \n",
      "     199       4465.37   6.22699e-07       73.0307           1           1      268   \n",
      "    Iter      log prob        ||dx||      ||grad||       alpha      alpha0  # evals  Notes \n",
      "     208       4465.37   1.11143e-07       78.8833      0.2173      0.6968      281   \n",
      "Optimization terminated normally: \n",
      "  Convergence detected: relative gradient magnitude is below tolerance\n"
     ]
    },
    {
     "name": "stderr",
     "output_type": "stream",
     "text": [
      "/Users/hwangyungwan/miniforge3/envs/ds_p39/lib/python3.9/site-packages/prophet/forecaster.py:896: FutureWarning: The frame.append method is deprecated and will be removed from pandas in a future version. Use pandas.concat instead.\n",
      "  components = components.append(new_comp)\n"
     ]
    },
    {
     "name": "stdout",
     "output_type": "stream",
     "text": [
      "Initial log joint probability = -9.30729\n",
      "    Iter      log prob        ||dx||      ||grad||       alpha      alpha0  # evals  Notes \n",
      "      99          4465   0.000309553       82.8935           1           1      128   \n",
      "    Iter      log prob        ||dx||      ||grad||       alpha      alpha0  # evals  Notes \n",
      "     199        4472.6    0.00280248       100.852        9.39       0.939      244   \n",
      "    Iter      log prob        ||dx||      ||grad||       alpha      alpha0  # evals  Notes \n",
      "     201       4472.66   0.000550694       100.182   5.248e-06       0.001      282  LS failed, Hessian reset \n",
      "     229        4472.7   1.93472e-05       71.5533   2.668e-07       0.001      356  LS failed, Hessian reset \n",
      "     299       4472.71   2.52159e-07       66.6388      0.3577      0.3577      443   \n",
      "    Iter      log prob        ||dx||      ||grad||       alpha      alpha0  # evals  Notes \n",
      "     336       4472.71   1.96877e-07       67.4116      0.2377           1      502   \n",
      "Optimization terminated normally: \n",
      "  Convergence detected: relative gradient magnitude is below tolerance\n"
     ]
    },
    {
     "name": "stderr",
     "output_type": "stream",
     "text": [
      "/Users/hwangyungwan/miniforge3/envs/ds_p39/lib/python3.9/site-packages/prophet/forecaster.py:896: FutureWarning: The frame.append method is deprecated and will be removed from pandas in a future version. Use pandas.concat instead.\n",
      "  components = components.append(new_comp)\n",
      "INFO:prophet:Making 11 forecasts with cutoffs between 2017-01-19 00:00:00 and 2021-12-24 00:00:00\n",
      "WARNING:prophet:Seasonality has period of 365.25 days which is larger than initial window. Consider increasing initial.\n",
      "INFO:prophet:Applying in parallel with <concurrent.futures.process.ProcessPoolExecutor object at 0x132ac21c0>\n"
     ]
    },
    {
     "name": "stdout",
     "output_type": "stream",
     "text": [
      "Initial log joint probability = -9.30729\n",
      "    Iter      log prob        ||dx||      ||grad||       alpha      alpha0  # evals  Notes \n",
      "      99       4457.24    0.00270888       114.712           1           1      127   \n",
      "    Iter      log prob        ||dx||      ||grad||       alpha      alpha0  # evals  Notes \n",
      "     146       4463.31   0.000213747       107.328   9.888e-07       0.001      219  LS failed, Hessian reset \n",
      "     199       4464.36   0.000574031       240.858   4.584e-06       0.001      321  LS failed, Hessian reset \n",
      "    Iter      log prob        ||dx||      ||grad||       alpha      alpha0  # evals  Notes \n",
      "     267       4464.57   1.22773e-07       67.0448      0.2806           1      406   \n",
      "Optimization terminated normally: \n",
      "  Convergence detected: relative gradient magnitude is below tolerance\n"
     ]
    },
    {
     "name": "stderr",
     "output_type": "stream",
     "text": [
      "/Users/hwangyungwan/miniforge3/envs/ds_p39/lib/python3.9/site-packages/prophet/forecaster.py:896: FutureWarning: The frame.append method is deprecated and will be removed from pandas in a future version. Use pandas.concat instead.\n",
      "  components = components.append(new_comp)\n",
      "/Users/hwangyungwan/miniforge3/envs/ds_p39/lib/python3.9/site-packages/prophet/forecaster.py:896: FutureWarning: The frame.append method is deprecated and will be removed from pandas in a future version. Use pandas.concat instead.\n",
      "  components = components.append(new_comp)\n"
     ]
    },
    {
     "name": "stdout",
     "output_type": "stream",
     "text": [
      "Initial log joint probability = -3.23946\n",
      "    Iter      log prob        ||dx||      ||grad||       alpha      alpha0  # evals  Notes \n",
      "      88       795.495   0.000327335       106.618   2.977e-06       0.001      150  LS failed, Hessian reset \n",
      "      99       795.519   2.00228e-05       97.9092        0.83        0.83      162   \n",
      "    Iter      log prob        ||dx||      ||grad||       alpha      alpha0  # evals  Notes \n",
      "     199       795.826   9.48249e-05       73.4289           1           1      277   \n",
      "    Iter      log prob        ||dx||      ||grad||       alpha      alpha0  # evals  Notes \n",
      "     281       796.086   8.66693e-09       103.179      0.3296      0.3296      372   \n",
      "Optimization terminated normally: \n",
      "  Convergence detected: absolute parameter change was below tolerance\n"
     ]
    },
    {
     "name": "stderr",
     "output_type": "stream",
     "text": [
      "/Users/hwangyungwan/miniforge3/envs/ds_p39/lib/python3.9/site-packages/prophet/forecaster.py:896: FutureWarning: The frame.append method is deprecated and will be removed from pandas in a future version. Use pandas.concat instead.\n",
      "  components = components.append(new_comp)\n",
      "/Users/hwangyungwan/miniforge3/envs/ds_p39/lib/python3.9/site-packages/prophet/forecaster.py:896: FutureWarning: The frame.append method is deprecated and will be removed from pandas in a future version. Use pandas.concat instead.\n",
      "  components = components.append(new_comp)\n",
      "/Users/hwangyungwan/miniforge3/envs/ds_p39/lib/python3.9/site-packages/prophet/forecaster.py:896: FutureWarning: The frame.append method is deprecated and will be removed from pandas in a future version. Use pandas.concat instead.\n",
      "  components = components.append(new_comp)\n",
      "/Users/hwangyungwan/miniforge3/envs/ds_p39/lib/python3.9/site-packages/prophet/forecaster.py:896: FutureWarning: The frame.append method is deprecated and will be removed from pandas in a future version. Use pandas.concat instead.\n",
      "  components = components.append(new_comp)\n",
      "/Users/hwangyungwan/miniforge3/envs/ds_p39/lib/python3.9/site-packages/prophet/forecaster.py:896: FutureWarning: The frame.append method is deprecated and will be removed from pandas in a future version. Use pandas.concat instead.\n",
      "  components = components.append(new_comp)\n"
     ]
    },
    {
     "name": "stdout",
     "output_type": "stream",
     "text": [
      "Initial log joint probability = -4.94519\n",
      "    Iter      log prob        ||dx||      ||grad||       alpha      alpha0  # evals  Notes \n",
      "      99       1901.85    0.00192758       109.973       1.667      0.3823      124   \n",
      "    Iter      log prob        ||dx||      ||grad||       alpha      alpha0  # evals  Notes \n",
      "     178          1902   7.91017e-08       95.7407      0.7241      0.7241      215   \n",
      "Optimization terminated normally: \n",
      "  Convergence detected: relative gradient magnitude is below tolerance\n",
      "Initial log joint probability = -6.39454\n",
      "    Iter      log prob        ||dx||      ||grad||       alpha      alpha0  # evals  Notes \n",
      "      99       2593.31   9.35328e-05       61.3797      0.2351           1      137   \n",
      "    Iter      log prob        ||dx||      ||grad||       alpha      alpha0  # evals  Notes \n",
      "Initial log joint probability = -8.27299\n",
      "    Iter      log prob        ||dx||      ||grad||       alpha      alpha0  # evals  Notes \n",
      "Initial log joint probability = -6.54808\n",
      "    Iter      log prob        ||dx||      ||grad||       alpha      alpha0  # evals  Notes \n",
      "     199       2593.42   9.94463e-06       50.7773    1.69e-07       0.001      310  LS failed, Hessian reset \n",
      "    Iter      log prob        ||dx||      ||grad||       alpha      alpha0  # evals  Notes \n",
      "     226       2593.42   1.41801e-07       54.6522     0.04123      0.1255      356   \n",
      "Optimization terminated normally: \n",
      "  Convergence detected: relative change in objective function was below tolerance\n",
      "      56       3696.09   0.000726588       158.487   1.062e-05       0.001      115  LS failed, Hessian reset \n",
      "      99       3007.82    0.00188679       105.319           1           1      127   \n",
      "    Iter      log prob        ||dx||      ||grad||       alpha      alpha0  # evals  Notes \n",
      "     106       3007.84   8.68853e-05       96.3269   1.053e-06       0.001      168  LS failed, Hessian reset \n",
      "Initial log joint probability = -7.69426\n",
      "    Iter      log prob        ||dx||      ||grad||       alpha      alpha0  # evals  Notes \n"
     ]
    },
    {
     "name": "stderr",
     "output_type": "stream",
     "text": [
      "/Users/hwangyungwan/miniforge3/envs/ds_p39/lib/python3.9/site-packages/prophet/forecaster.py:896: FutureWarning: The frame.append method is deprecated and will be removed from pandas in a future version. Use pandas.concat instead.\n",
      "  components = components.append(new_comp)\n",
      "/Users/hwangyungwan/miniforge3/envs/ds_p39/lib/python3.9/site-packages/prophet/forecaster.py:896: FutureWarning: The frame.append method is deprecated and will be removed from pandas in a future version. Use pandas.concat instead.\n",
      "  components = components.append(new_comp)\n",
      "/Users/hwangyungwan/miniforge3/envs/ds_p39/lib/python3.9/site-packages/prophet/forecaster.py:896: FutureWarning: The frame.append method is deprecated and will be removed from pandas in a future version. Use pandas.concat instead.\n",
      "  components = components.append(new_comp)\n",
      "/Users/hwangyungwan/miniforge3/envs/ds_p39/lib/python3.9/site-packages/prophet/forecaster.py:896: FutureWarning: The frame.append method is deprecated and will be removed from pandas in a future version. Use pandas.concat instead.\n",
      "  components = components.append(new_comp)\n",
      "/Users/hwangyungwan/miniforge3/envs/ds_p39/lib/python3.9/site-packages/prophet/forecaster.py:896: FutureWarning: The frame.append method is deprecated and will be removed from pandas in a future version. Use pandas.concat instead.\n",
      "  components = components.append(new_comp)\n",
      "/Users/hwangyungwan/miniforge3/envs/ds_p39/lib/python3.9/site-packages/prophet/forecaster.py:896: FutureWarning: The frame.append method is deprecated and will be removed from pandas in a future version. Use pandas.concat instead.\n",
      "  components = components.append(new_comp)\n"
     ]
    },
    {
     "name": "stdout",
     "output_type": "stream",
     "text": [
      "      99       3696.18   0.000326484        85.733      0.3319           1      177   \n",
      "    Iter      log prob        ||dx||      ||grad||       alpha      alpha0  # evals  Notes \n",
      "Initial log joint probability = -4.10046\n",
      "    Iter      log prob        ||dx||      ||grad||       alpha      alpha0  # evals  Notes \n",
      "      99       1137.33     1.342e-05       99.2847           1           1      117   \n",
      "    Iter      log prob        ||dx||      ||grad||       alpha      alpha0  # evals  Notes \n",
      "     197       3007.91   0.000162118       81.3414   1.924e-06       0.001      314  LS failed, Hessian reset \n",
      "     199       3007.92   4.82937e-05       72.8936      0.3796           1      317   \n",
      "    Iter      log prob        ||dx||      ||grad||       alpha      alpha0  # evals  Notes \n",
      "     199       1137.46   1.98205e-07       88.9275      0.8717      0.8717      235   \n",
      "    Iter      log prob        ||dx||      ||grad||       alpha      alpha0  # evals  Notes \n",
      "     212       1137.46   6.94084e-08        84.041           1           1      249   \n",
      "Optimization terminated normally: \n",
      "  Convergence detected: relative gradient magnitude is below tolerance\n",
      "      99       3351.76   2.25793e-05       82.3436           1           1      123   \n",
      "    Iter      log prob        ||dx||      ||grad||       alpha      alpha0  # evals  Notes \n",
      "     249       3007.93   7.46346e-06       93.1949   8.752e-08       0.001      420  LS failed, Hessian reset \n",
      "     265       3007.93   2.06436e-07       78.7084       0.251           1      441   \n",
      "Optimization terminated normally: \n",
      "  Convergence detected: relative gradient magnitude is below tolerance\n",
      "Initial log joint probability = -4.73187\n",
      "    Iter      log prob        ||dx||      ||grad||       alpha      alpha0  # evals  Notes \n",
      "      99       1484.23     0.0001182       56.7422           1           1      120   \n",
      "    Iter      log prob        ||dx||      ||grad||       alpha      alpha0  # evals  Notes \n",
      "     167        3351.8   1.50269e-06       66.5276   2.023e-08       0.001      259  LS failed, Hessian reset \n"
     ]
    },
    {
     "name": "stderr",
     "output_type": "stream",
     "text": [
      "/Users/hwangyungwan/miniforge3/envs/ds_p39/lib/python3.9/site-packages/prophet/forecaster.py:896: FutureWarning: The frame.append method is deprecated and will be removed from pandas in a future version. Use pandas.concat instead.\n",
      "  components = components.append(new_comp)\n",
      "/Users/hwangyungwan/miniforge3/envs/ds_p39/lib/python3.9/site-packages/prophet/forecaster.py:896: FutureWarning: The frame.append method is deprecated and will be removed from pandas in a future version. Use pandas.concat instead.\n",
      "  components = components.append(new_comp)\n",
      "/Users/hwangyungwan/miniforge3/envs/ds_p39/lib/python3.9/site-packages/prophet/forecaster.py:896: FutureWarning: The frame.append method is deprecated and will be removed from pandas in a future version. Use pandas.concat instead.\n",
      "  components = components.append(new_comp)\n",
      "/Users/hwangyungwan/miniforge3/envs/ds_p39/lib/python3.9/site-packages/prophet/forecaster.py:896: FutureWarning: The frame.append method is deprecated and will be removed from pandas in a future version. Use pandas.concat instead.\n",
      "  components = components.append(new_comp)\n",
      "/Users/hwangyungwan/miniforge3/envs/ds_p39/lib/python3.9/site-packages/prophet/forecaster.py:896: FutureWarning: The frame.append method is deprecated and will be removed from pandas in a future version. Use pandas.concat instead.\n",
      "  components = components.append(new_comp)\n",
      "/Users/hwangyungwan/miniforge3/envs/ds_p39/lib/python3.9/site-packages/prophet/forecaster.py:896: FutureWarning: The frame.append method is deprecated and will be removed from pandas in a future version. Use pandas.concat instead.\n",
      "  components = components.append(new_comp)\n",
      "/Users/hwangyungwan/miniforge3/envs/ds_p39/lib/python3.9/site-packages/prophet/forecaster.py:896: FutureWarning: The frame.append method is deprecated and will be removed from pandas in a future version. Use pandas.concat instead.\n",
      "  components = components.append(new_comp)\n",
      "/Users/hwangyungwan/miniforge3/envs/ds_p39/lib/python3.9/site-packages/prophet/forecaster.py:896: FutureWarning: The frame.append method is deprecated and will be removed from pandas in a future version. Use pandas.concat instead.\n",
      "  components = components.append(new_comp)\n",
      "/Users/hwangyungwan/miniforge3/envs/ds_p39/lib/python3.9/site-packages/prophet/forecaster.py:896: FutureWarning: The frame.append method is deprecated and will be removed from pandas in a future version. Use pandas.concat instead.\n",
      "  components = components.append(new_comp)\n",
      "/Users/hwangyungwan/miniforge3/envs/ds_p39/lib/python3.9/site-packages/prophet/forecaster.py:896: FutureWarning: The frame.append method is deprecated and will be removed from pandas in a future version. Use pandas.concat instead.\n",
      "  components = components.append(new_comp)\n",
      "/Users/hwangyungwan/miniforge3/envs/ds_p39/lib/python3.9/site-packages/prophet/forecaster.py:896: FutureWarning: The frame.append method is deprecated and will be removed from pandas in a future version. Use pandas.concat instead.\n",
      "  components = components.append(new_comp)\n"
     ]
    },
    {
     "name": "stdout",
     "output_type": "stream",
     "text": [
      "     178        3351.8    1.1459e-07       67.7449      0.1662           1      276   \n",
      "Optimization terminated normally: \n",
      "  Convergence detected: relative gradient magnitude is below tolerance\n",
      "     199       1484.27   4.25882e-06       60.3965      0.9545    0.009545      252   \n",
      "    Iter      log prob        ||dx||      ||grad||       alpha      alpha0  # evals  Notes \n",
      "     199       3696.25   3.67242e-06       53.3059       2.094     0.02094      317   \n",
      "    Iter      log prob        ||dx||      ||grad||       alpha      alpha0  # evals  Notes \n",
      "Initial log joint probability = -5.77637\n",
      "    Iter      log prob        ||dx||      ||grad||       alpha      alpha0  # evals  Notes \n",
      "     298       1484.29   7.15753e-05       48.6943   8.779e-07       0.001      426  LS failed, Hessian reset \n",
      "     299       1484.29    2.2446e-05        51.968      0.5974      0.5974      427   \n",
      "    Iter      log prob        ||dx||      ||grad||       alpha      alpha0  # evals  Notes \n",
      "     335       1484.29   1.35679e-07       70.2448           1           1      476   \n",
      "Optimization terminated normally: \n",
      "  Convergence detected: relative gradient magnitude is below tolerance\n",
      "      99       2240.91    0.00183061       82.3179           1           1      130   \n",
      "    Iter      log prob        ||dx||      ||grad||       alpha      alpha0  # evals  Notes \n",
      "Initial log joint probability = -280.854\n",
      "    Iter      log prob        ||dx||      ||grad||       alpha      alpha0  # evals  Notes \n",
      "     143       2240.93   9.37168e-08       77.2191      0.3539      0.3539      187   \n",
      "Optimization terminated normally: \n",
      "  Convergence detected: relative gradient magnitude is below tolerance\n",
      "     228       3696.25   6.22079e-07       73.9359   1.853e-08       0.001      394  LS failed, Hessian reset \n",
      "     234       3696.25   3.33505e-07       61.5072           1           1      403   \n",
      "Optimization terminated normally: \n",
      "  Convergence detected: relative gradient magnitude is below tolerance\n"
     ]
    },
    {
     "name": "stderr",
     "output_type": "stream",
     "text": [
      "/Users/hwangyungwan/miniforge3/envs/ds_p39/lib/python3.9/site-packages/prophet/forecaster.py:896: FutureWarning: The frame.append method is deprecated and will be removed from pandas in a future version. Use pandas.concat instead.\n",
      "  components = components.append(new_comp)\n",
      "/Users/hwangyungwan/miniforge3/envs/ds_p39/lib/python3.9/site-packages/prophet/forecaster.py:896: FutureWarning: The frame.append method is deprecated and will be removed from pandas in a future version. Use pandas.concat instead.\n",
      "  components = components.append(new_comp)\n",
      "/Users/hwangyungwan/miniforge3/envs/ds_p39/lib/python3.9/site-packages/prophet/forecaster.py:896: FutureWarning: The frame.append method is deprecated and will be removed from pandas in a future version. Use pandas.concat instead.\n",
      "  components = components.append(new_comp)\n",
      "/Users/hwangyungwan/miniforge3/envs/ds_p39/lib/python3.9/site-packages/prophet/forecaster.py:896: FutureWarning: The frame.append method is deprecated and will be removed from pandas in a future version. Use pandas.concat instead.\n",
      "  components = components.append(new_comp)\n"
     ]
    },
    {
     "name": "stdout",
     "output_type": "stream",
     "text": [
      "      99       4041.84    0.00483376       564.353      0.8777      0.8777      134   \n",
      "    Iter      log prob        ||dx||      ||grad||       alpha      alpha0  # evals  Notes \n",
      "     145        4046.2    0.00732378       391.181   6.174e-05       0.001      257  LS failed, Hessian reset \n",
      "     199       4050.04    0.00031474       77.5726      0.1674      0.1674      325   \n",
      "    Iter      log prob        ||dx||      ||grad||       alpha      alpha0  # evals  Notes \n",
      "     227       4052.24    0.00309425       268.576   2.342e-05       0.001      394  LS failed, Hessian reset \n",
      "     271       4053.58   5.78037e-05       30.5052   1.744e-06       0.001      482  LS failed, Hessian reset \n",
      "Initial log joint probability = -9.06963\n",
      "    Iter      log prob        ||dx||      ||grad||       alpha      alpha0  # evals  Notes \n"
     ]
    },
    {
     "name": "stderr",
     "output_type": "stream",
     "text": [
      "/Users/hwangyungwan/miniforge3/envs/ds_p39/lib/python3.9/site-packages/prophet/forecaster.py:896: FutureWarning: The frame.append method is deprecated and will be removed from pandas in a future version. Use pandas.concat instead.\n",
      "  components = components.append(new_comp)\n",
      "/Users/hwangyungwan/miniforge3/envs/ds_p39/lib/python3.9/site-packages/prophet/forecaster.py:896: FutureWarning: The frame.append method is deprecated and will be removed from pandas in a future version. Use pandas.concat instead.\n",
      "  components = components.append(new_comp)\n",
      "/Users/hwangyungwan/miniforge3/envs/ds_p39/lib/python3.9/site-packages/prophet/forecaster.py:896: FutureWarning: The frame.append method is deprecated and will be removed from pandas in a future version. Use pandas.concat instead.\n",
      "  components = components.append(new_comp)\n"
     ]
    },
    {
     "name": "stdout",
     "output_type": "stream",
     "text": [
      "     299       4053.59    3.6826e-05       44.6487       1.469      0.6599      529   \n",
      "    Iter      log prob        ||dx||      ||grad||       alpha      alpha0  # evals  Notes \n",
      "     308       4053.59   9.09955e-05       50.5364   1.291e-06       0.001      582  LS failed, Hessian reset \n",
      "     329        4053.6   4.10106e-07       50.8166           1           1      619   \n",
      "Optimization terminated normally: \n",
      "  Convergence detected: relative gradient magnitude is below tolerance\n",
      "      99       4469.98    3.4064e-05       77.5109      0.4969      0.4969      118   \n",
      "    Iter      log prob        ||dx||      ||grad||       alpha      alpha0  # evals  Notes \n",
      "     133       4469.98   8.82029e-06       93.1559   1.226e-07       0.001      203  LS failed, Hessian reset \n",
      "     145       4469.98   2.93399e-07       75.0501      0.2577           1      222   \n",
      "Optimization terminated normally: \n",
      "  Convergence detected: relative gradient magnitude is below tolerance\n"
     ]
    },
    {
     "name": "stderr",
     "output_type": "stream",
     "text": [
      "/Users/hwangyungwan/miniforge3/envs/ds_p39/lib/python3.9/site-packages/prophet/forecaster.py:896: FutureWarning: The frame.append method is deprecated and will be removed from pandas in a future version. Use pandas.concat instead.\n",
      "  components = components.append(new_comp)\n",
      "/Users/hwangyungwan/miniforge3/envs/ds_p39/lib/python3.9/site-packages/prophet/forecaster.py:896: FutureWarning: The frame.append method is deprecated and will be removed from pandas in a future version. Use pandas.concat instead.\n",
      "  components = components.append(new_comp)\n",
      "/Users/hwangyungwan/Library/Mobile Documents/com~apple~CloudDocs/Documents/study/data_science/machine_learning/time_series_forecaster/models/ts_prophet_gridsearch.py:162: FutureWarning: The frame.append method is deprecated and will be removed from pandas in a future version. Use pandas.concat instead.\n",
      "  df_perf_metrics_all = df_perf_metrics_all.append(df_perf_metrics)\n",
      "INFO:prophet:Making 11 forecasts with cutoffs between 2017-01-19 00:00:00 and 2021-12-24 00:00:00\n",
      "WARNING:prophet:Seasonality has period of 365.25 days which is larger than initial window. Consider increasing initial.\n",
      "INFO:prophet:Applying in parallel with <concurrent.futures.process.ProcessPoolExecutor object at 0x10558bbe0>\n",
      "/Users/hwangyungwan/miniforge3/envs/ds_p39/lib/python3.9/site-packages/prophet/forecaster.py:896: FutureWarning: The frame.append method is deprecated and will be removed from pandas in a future version. Use pandas.concat instead.\n",
      "  components = components.append(new_comp)\n",
      "/Users/hwangyungwan/miniforge3/envs/ds_p39/lib/python3.9/site-packages/prophet/forecaster.py:896: FutureWarning: The frame.append method is deprecated and will be removed from pandas in a future version. Use pandas.concat instead.\n",
      "  components = components.append(new_comp)\n",
      "/Users/hwangyungwan/miniforge3/envs/ds_p39/lib/python3.9/site-packages/prophet/forecaster.py:896: FutureWarning: The frame.append method is deprecated and will be removed from pandas in a future version. Use pandas.concat instead.\n",
      "  components = components.append(new_comp)\n",
      "/Users/hwangyungwan/miniforge3/envs/ds_p39/lib/python3.9/site-packages/prophet/forecaster.py:896: FutureWarning: The frame.append method is deprecated and will be removed from pandas in a future version. Use pandas.concat instead.\n",
      "  components = components.append(new_comp)\n",
      "/Users/hwangyungwan/miniforge3/envs/ds_p39/lib/python3.9/site-packages/prophet/forecaster.py:896: FutureWarning: The frame.append method is deprecated and will be removed from pandas in a future version. Use pandas.concat instead.\n",
      "  components = components.append(new_comp)\n",
      "/Users/hwangyungwan/miniforge3/envs/ds_p39/lib/python3.9/site-packages/prophet/forecaster.py:896: FutureWarning: The frame.append method is deprecated and will be removed from pandas in a future version. Use pandas.concat instead.\n",
      "  components = components.append(new_comp)\n"
     ]
    },
    {
     "name": "stdout",
     "output_type": "stream",
     "text": [
      "Initial log joint probability = -5.77637\n",
      "    Iter      log prob        ||dx||      ||grad||       alpha      alpha0  # evals  Notes \n",
      "      98       2234.24   1.90187e-05       68.3244   2.068e-07       0.001      174  LS failed, Hessian reset \n",
      "      99       2234.24    9.2253e-06       66.1987           1           1      175   \n",
      "    Iter      log prob        ||dx||      ||grad||       alpha      alpha0  # evals  Notes \n",
      "Initial log joint probability = -3.23946\n",
      "    Iter      log prob        ||dx||      ||grad||       alpha      alpha0  # evals  Notes \n",
      "     141       2234.24   1.23148e-06       78.1564   1.924e-08       0.001      269  LS failed, Hessian reset \n",
      "     150       2234.24   1.58272e-07       77.7493      0.1546           1      280   \n",
      "Optimization terminated normally: \n",
      "  Convergence detected: relative gradient magnitude is below tolerance\n",
      "      99       792.635    0.00124305         94.42           1           1      120   \n",
      "    Iter      log prob        ||dx||      ||grad||       alpha      alpha0  # evals  Notes \n",
      "     199       792.866   2.03929e-05       102.167      0.7993      0.7993      247   \n",
      "    Iter      log prob        ||dx||      ||grad||       alpha      alpha0  # evals  Notes \n",
      "     234       792.869   2.87394e-08       102.729      0.3935      0.8634      290   \n",
      "Optimization terminated normally: \n",
      "  Convergence detected: relative gradient magnitude is below tolerance\n"
     ]
    },
    {
     "name": "stderr",
     "output_type": "stream",
     "text": [
      "/Users/hwangyungwan/miniforge3/envs/ds_p39/lib/python3.9/site-packages/prophet/forecaster.py:896: FutureWarning: The frame.append method is deprecated and will be removed from pandas in a future version. Use pandas.concat instead.\n",
      "  components = components.append(new_comp)\n",
      "/Users/hwangyungwan/miniforge3/envs/ds_p39/lib/python3.9/site-packages/prophet/forecaster.py:896: FutureWarning: The frame.append method is deprecated and will be removed from pandas in a future version. Use pandas.concat instead.\n",
      "  components = components.append(new_comp)\n",
      "/Users/hwangyungwan/miniforge3/envs/ds_p39/lib/python3.9/site-packages/prophet/forecaster.py:896: FutureWarning: The frame.append method is deprecated and will be removed from pandas in a future version. Use pandas.concat instead.\n",
      "  components = components.append(new_comp)\n"
     ]
    },
    {
     "name": "stdout",
     "output_type": "stream",
     "text": [
      "Initial log joint probability = -4.94519\n",
      "    Iter      log prob        ||dx||      ||grad||       alpha      alpha0  # evals  Notes \n",
      "      99       1897.42   0.000168713       92.1418      0.6208      0.6208      130   \n",
      "    Iter      log prob        ||dx||      ||grad||       alpha      alpha0  # evals  Notes \n",
      "     199       1897.53   1.40281e-06       88.6059      0.4469      0.4469      255   \n",
      "    Iter      log prob        ||dx||      ||grad||       alpha      alpha0  # evals  Notes \n",
      "     299        1897.6   0.000799756       96.6251           1           1      372   \n",
      "    Iter      log prob        ||dx||      ||grad||       alpha      alpha0  # evals  Notes \n",
      "Initial log joint probability = -7.69426\n",
      "    Iter      log prob        ||dx||      ||grad||       alpha      alpha0  # evals  Notes \n",
      "     399       1897.72   1.75262e-07       80.4244      0.6251      0.6251      493   \n",
      "    Iter      log prob        ||dx||      ||grad||       alpha      alpha0  # evals  Notes \n",
      "     405       1897.72    1.4426e-07       90.2994      0.2494           1      500   \n",
      "Optimization terminated normally: \n",
      "  Convergence detected: relative gradient magnitude is below tolerance\n"
     ]
    },
    {
     "name": "stderr",
     "output_type": "stream",
     "text": [
      "/Users/hwangyungwan/miniforge3/envs/ds_p39/lib/python3.9/site-packages/prophet/forecaster.py:896: FutureWarning: The frame.append method is deprecated and will be removed from pandas in a future version. Use pandas.concat instead.\n",
      "  components = components.append(new_comp)\n",
      "/Users/hwangyungwan/miniforge3/envs/ds_p39/lib/python3.9/site-packages/prophet/forecaster.py:896: FutureWarning: The frame.append method is deprecated and will be removed from pandas in a future version. Use pandas.concat instead.\n",
      "  components = components.append(new_comp)\n",
      "/Users/hwangyungwan/miniforge3/envs/ds_p39/lib/python3.9/site-packages/prophet/forecaster.py:896: FutureWarning: The frame.append method is deprecated and will be removed from pandas in a future version. Use pandas.concat instead.\n",
      "  components = components.append(new_comp)\n",
      "/Users/hwangyungwan/miniforge3/envs/ds_p39/lib/python3.9/site-packages/prophet/forecaster.py:896: FutureWarning: The frame.append method is deprecated and will be removed from pandas in a future version. Use pandas.concat instead.\n",
      "  components = components.append(new_comp)\n",
      "/Users/hwangyungwan/miniforge3/envs/ds_p39/lib/python3.9/site-packages/prophet/forecaster.py:896: FutureWarning: The frame.append method is deprecated and will be removed from pandas in a future version. Use pandas.concat instead.\n",
      "  components = components.append(new_comp)\n",
      "/Users/hwangyungwan/miniforge3/envs/ds_p39/lib/python3.9/site-packages/prophet/forecaster.py:896: FutureWarning: The frame.append method is deprecated and will be removed from pandas in a future version. Use pandas.concat instead.\n",
      "  components = components.append(new_comp)\n"
     ]
    },
    {
     "name": "stdout",
     "output_type": "stream",
     "text": [
      "      99        3344.3   1.40679e-05        75.507      0.3399      0.3399      134   \n",
      "    Iter      log prob        ||dx||      ||grad||       alpha      alpha0  # evals  Notes \n",
      "Initial log joint probability = -4.10046\n",
      "    Iter      log prob        ||dx||      ||grad||       alpha      alpha0  # evals  Notes \n",
      "      99       1135.11   0.000301832       101.937           1           1      119   \n",
      "    Iter      log prob        ||dx||      ||grad||       alpha      alpha0  # evals  Notes \n",
      "     168       1135.13   1.61682e-08       86.2982      0.2326           1      202   \n",
      "Optimization terminated normally: \n",
      "  Convergence detected: relative gradient magnitude is below tolerance\n",
      "     199       3344.33   0.000190202       115.466           1           1      258   \n",
      "    Iter      log prob        ||dx||      ||grad||       alpha      alpha0  # evals  Notes \n",
      "     202       3344.33   8.49691e-05       67.5895   9.065e-07       0.001      300  LS failed, Hessian reset \n",
      "Initial log joint probability = -8.27299\n",
      "    Iter      log prob        ||dx||      ||grad||       alpha      alpha0  # evals  Notes \n",
      "Initial log joint probability = -6.39454\n",
      "    Iter      log prob        ||dx||      ||grad||       alpha      alpha0  # evals  Notes \n",
      "     259       3344.34   4.05724e-07       74.9491           1           1      385   \n",
      "Optimization terminated normally: \n",
      "  Convergence detected: relative gradient magnitude is below tolerance\n"
     ]
    },
    {
     "name": "stderr",
     "output_type": "stream",
     "text": [
      "/Users/hwangyungwan/miniforge3/envs/ds_p39/lib/python3.9/site-packages/prophet/forecaster.py:896: FutureWarning: The frame.append method is deprecated and will be removed from pandas in a future version. Use pandas.concat instead.\n",
      "  components = components.append(new_comp)\n",
      "/Users/hwangyungwan/miniforge3/envs/ds_p39/lib/python3.9/site-packages/prophet/forecaster.py:896: FutureWarning: The frame.append method is deprecated and will be removed from pandas in a future version. Use pandas.concat instead.\n",
      "  components = components.append(new_comp)\n",
      "/Users/hwangyungwan/miniforge3/envs/ds_p39/lib/python3.9/site-packages/prophet/forecaster.py:896: FutureWarning: The frame.append method is deprecated and will be removed from pandas in a future version. Use pandas.concat instead.\n",
      "  components = components.append(new_comp)\n",
      "/Users/hwangyungwan/miniforge3/envs/ds_p39/lib/python3.9/site-packages/prophet/forecaster.py:896: FutureWarning: The frame.append method is deprecated and will be removed from pandas in a future version. Use pandas.concat instead.\n",
      "  components = components.append(new_comp)\n",
      "/Users/hwangyungwan/miniforge3/envs/ds_p39/lib/python3.9/site-packages/prophet/forecaster.py:896: FutureWarning: The frame.append method is deprecated and will be removed from pandas in a future version. Use pandas.concat instead.\n",
      "  components = components.append(new_comp)\n",
      "/Users/hwangyungwan/miniforge3/envs/ds_p39/lib/python3.9/site-packages/prophet/forecaster.py:896: FutureWarning: The frame.append method is deprecated and will be removed from pandas in a future version. Use pandas.concat instead.\n",
      "  components = components.append(new_comp)\n",
      "/Users/hwangyungwan/miniforge3/envs/ds_p39/lib/python3.9/site-packages/prophet/forecaster.py:896: FutureWarning: The frame.append method is deprecated and will be removed from pandas in a future version. Use pandas.concat instead.\n",
      "  components = components.append(new_comp)\n",
      "/Users/hwangyungwan/miniforge3/envs/ds_p39/lib/python3.9/site-packages/prophet/forecaster.py:896: FutureWarning: The frame.append method is deprecated and will be removed from pandas in a future version. Use pandas.concat instead.\n",
      "  components = components.append(new_comp)\n"
     ]
    },
    {
     "name": "stdout",
     "output_type": "stream",
     "text": [
      "      99       3687.91   0.000233302       71.3849      0.9586      0.9586      134   \n",
      "    Iter      log prob        ||dx||      ||grad||       alpha      alpha0  # evals  Notes \n",
      "Initial log joint probability = -4.73187\n",
      "    Iter      log prob        ||dx||      ||grad||       alpha      alpha0  # evals  Notes \n",
      "Initial log joint probability = -280.854\n",
      "    Iter      log prob        ||dx||      ||grad||       alpha      alpha0  # evals  Notes \n",
      "      99       2587.02   6.02777e-05        53.634           1           1      146   \n",
      "    Iter      log prob        ||dx||      ||grad||       alpha      alpha0  # evals  Notes \n",
      "     126       2587.04   6.45371e-05       65.8053   1.144e-06       0.001      226  LS failed, Hessian reset \n",
      "      99       1479.44   0.000110296        75.534      0.9958      0.9958      121   \n",
      "    Iter      log prob        ||dx||      ||grad||       alpha      alpha0  # evals  Notes \n",
      "     160       3687.96   1.85281e-07       63.4071      0.4965      0.8172      219   \n",
      "Optimization terminated normally: \n",
      "  Convergence detected: relative gradient magnitude is below tolerance\n",
      "     167       1479.46   9.52978e-08       65.3668        1.52      0.4623      209   \n",
      "Optimization terminated normally: \n",
      "  Convergence detected: relative gradient magnitude is below tolerance\n",
      "     158       2587.05   2.64344e-07       49.7051      0.9464       0.272      278   \n",
      "Optimization terminated normally: \n",
      "  Convergence detected: relative gradient magnitude is below tolerance\n",
      "Initial log joint probability = -6.54808\n",
      "    Iter      log prob        ||dx||      ||grad||       alpha      alpha0  # evals  Notes \n",
      "      99       4033.73    0.00362591       268.339      0.4663      0.4663      126   \n",
      "    Iter      log prob        ||dx||      ||grad||       alpha      alpha0  # evals  Notes \n"
     ]
    },
    {
     "name": "stderr",
     "output_type": "stream",
     "text": [
      "/Users/hwangyungwan/miniforge3/envs/ds_p39/lib/python3.9/site-packages/prophet/forecaster.py:896: FutureWarning: The frame.append method is deprecated and will be removed from pandas in a future version. Use pandas.concat instead.\n",
      "  components = components.append(new_comp)\n",
      "/Users/hwangyungwan/miniforge3/envs/ds_p39/lib/python3.9/site-packages/prophet/forecaster.py:896: FutureWarning: The frame.append method is deprecated and will be removed from pandas in a future version. Use pandas.concat instead.\n",
      "  components = components.append(new_comp)\n",
      "/Users/hwangyungwan/miniforge3/envs/ds_p39/lib/python3.9/site-packages/prophet/forecaster.py:896: FutureWarning: The frame.append method is deprecated and will be removed from pandas in a future version. Use pandas.concat instead.\n",
      "  components = components.append(new_comp)\n",
      "/Users/hwangyungwan/miniforge3/envs/ds_p39/lib/python3.9/site-packages/prophet/forecaster.py:896: FutureWarning: The frame.append method is deprecated and will be removed from pandas in a future version. Use pandas.concat instead.\n",
      "  components = components.append(new_comp)\n"
     ]
    },
    {
     "name": "stdout",
     "output_type": "stream",
     "text": [
      "      99       3001.68   0.000151774       89.8421           1           1      128   \n",
      "    Iter      log prob        ||dx||      ||grad||       alpha      alpha0  # evals  Notes \n",
      "     147       3001.76   0.000217633       91.0997   2.311e-06       0.001      224  LS failed, Hessian reset \n",
      "     199       4041.95     0.0019863       155.434       0.976       0.976      247   \n",
      "    Iter      log prob        ||dx||      ||grad||       alpha      alpha0  # evals  Notes \n",
      "     199       3001.78   6.06569e-07       62.2748      0.3072           1      289   \n",
      "    Iter      log prob        ||dx||      ||grad||       alpha      alpha0  # evals  Notes \n",
      "     203       3001.78   1.89965e-07       60.9449       0.125      0.7468      296   \n",
      "Optimization terminated normally: \n",
      "  Convergence detected: relative gradient magnitude is below tolerance\n",
      "     223       4042.44    0.00151886       362.239   1.253e-05       0.001      311  LS failed, Hessian reset \n"
     ]
    },
    {
     "name": "stderr",
     "output_type": "stream",
     "text": [
      "/Users/hwangyungwan/miniforge3/envs/ds_p39/lib/python3.9/site-packages/prophet/forecaster.py:896: FutureWarning: The frame.append method is deprecated and will be removed from pandas in a future version. Use pandas.concat instead.\n",
      "  components = components.append(new_comp)\n",
      "/Users/hwangyungwan/miniforge3/envs/ds_p39/lib/python3.9/site-packages/prophet/forecaster.py:896: FutureWarning: The frame.append method is deprecated and will be removed from pandas in a future version. Use pandas.concat instead.\n",
      "  components = components.append(new_comp)\n"
     ]
    },
    {
     "name": "stdout",
     "output_type": "stream",
     "text": [
      "     268       4044.22   0.000932061       285.827    7.25e-06       0.001      408  LS failed, Hessian reset \n",
      "     299       4045.53    0.00115399       113.732           1           1      443   \n",
      "    Iter      log prob        ||dx||      ||grad||       alpha      alpha0  # evals  Notes \n",
      "Initial log joint probability = -9.06963\n",
      "    Iter      log prob        ||dx||      ||grad||       alpha      alpha0  # evals  Notes \n",
      "     340       4045.63   0.000186642       74.0976   2.612e-06       0.001      539  LS failed, Hessian reset \n",
      "     399       4045.65   4.23761e-05       53.9611           1           1      637   \n",
      "    Iter      log prob        ||dx||      ||grad||       alpha      alpha0  # evals  Notes \n",
      "      99       4462.47   4.38382e-06       75.8449           1           1      122   \n",
      "    Iter      log prob        ||dx||      ||grad||       alpha      alpha0  # evals  Notes \n",
      "     421       4045.68   7.78082e-05       60.7622   1.076e-06       0.001      715  LS failed, Hessian reset \n",
      "     118       4462.47   5.20747e-06       78.0607   7.221e-08       0.001      189  LS failed, Hessian reset \n",
      "     127       4462.47   9.66133e-08       57.2483      0.1231      0.3484      203   \n",
      "Optimization terminated normally: \n",
      "  Convergence detected: relative gradient magnitude is below tolerance\n",
      "     459       4045.69   2.61994e-07       47.7777      0.3608           1      776   \n",
      "Optimization terminated normally: \n",
      "  Convergence detected: relative gradient magnitude is below tolerance\n"
     ]
    },
    {
     "name": "stderr",
     "output_type": "stream",
     "text": [
      "/Users/hwangyungwan/miniforge3/envs/ds_p39/lib/python3.9/site-packages/prophet/forecaster.py:896: FutureWarning: The frame.append method is deprecated and will be removed from pandas in a future version. Use pandas.concat instead.\n",
      "  components = components.append(new_comp)\n",
      "/Users/hwangyungwan/miniforge3/envs/ds_p39/lib/python3.9/site-packages/prophet/forecaster.py:896: FutureWarning: The frame.append method is deprecated and will be removed from pandas in a future version. Use pandas.concat instead.\n",
      "  components = components.append(new_comp)\n",
      "/Users/hwangyungwan/miniforge3/envs/ds_p39/lib/python3.9/site-packages/prophet/forecaster.py:896: FutureWarning: The frame.append method is deprecated and will be removed from pandas in a future version. Use pandas.concat instead.\n",
      "  components = components.append(new_comp)\n",
      "/Users/hwangyungwan/miniforge3/envs/ds_p39/lib/python3.9/site-packages/prophet/forecaster.py:896: FutureWarning: The frame.append method is deprecated and will be removed from pandas in a future version. Use pandas.concat instead.\n",
      "  components = components.append(new_comp)\n",
      "/Users/hwangyungwan/Library/Mobile Documents/com~apple~CloudDocs/Documents/study/data_science/machine_learning/time_series_forecaster/models/ts_prophet_gridsearch.py:162: FutureWarning: The frame.append method is deprecated and will be removed from pandas in a future version. Use pandas.concat instead.\n",
      "  df_perf_metrics_all = df_perf_metrics_all.append(df_perf_metrics)\n",
      "INFO:prophet:Making 11 forecasts with cutoffs between 2017-01-19 00:00:00 and 2021-12-24 00:00:00\n",
      "WARNING:prophet:Seasonality has period of 365.25 days which is larger than initial window. Consider increasing initial.\n",
      "INFO:prophet:Applying in parallel with <concurrent.futures.process.ProcessPoolExecutor object at 0x132aa8ac0>\n",
      "/Users/hwangyungwan/miniforge3/envs/ds_p39/lib/python3.9/site-packages/prophet/forecaster.py:896: FutureWarning: The frame.append method is deprecated and will be removed from pandas in a future version. Use pandas.concat instead.\n",
      "  components = components.append(new_comp)\n",
      "/Users/hwangyungwan/miniforge3/envs/ds_p39/lib/python3.9/site-packages/prophet/forecaster.py:896: FutureWarning: The frame.append method is deprecated and will be removed from pandas in a future version. Use pandas.concat instead.\n",
      "  components = components.append(new_comp)\n"
     ]
    },
    {
     "name": "stdout",
     "output_type": "stream",
     "text": [
      "Initial log joint probability = -6.39454\n",
      "    Iter      log prob        ||dx||      ||grad||       alpha      alpha0  # evals  Notes \n",
      "      86       2587.62   0.000651191         91.06   8.541e-06       0.001      162  LS failed, Hessian reset \n",
      "      99       2587.64   1.66657e-05       53.1963      0.3534      0.3534      180   \n",
      "    Iter      log prob        ||dx||      ||grad||       alpha      alpha0  # evals  Notes \n",
      "Initial log joint probability = -7.69426\n",
      "    Iter      log prob        ||dx||      ||grad||       alpha      alpha0  # evals  Notes \n",
      "     152       2587.75   6.60895e-05       51.8343   1.017e-06       0.001      284  LS failed, Hessian reset \n",
      "     199       2587.79   0.000583231       80.6894     0.07174           1      346   \n",
      "    Iter      log prob        ||dx||      ||grad||       alpha      alpha0  # evals  Notes \n",
      "      99       3346.88   8.19285e-06       84.3843           1           1      132   \n",
      "    Iter      log prob        ||dx||      ||grad||       alpha      alpha0  # evals  Notes \n"
     ]
    },
    {
     "name": "stderr",
     "output_type": "stream",
     "text": [
      "/Users/hwangyungwan/miniforge3/envs/ds_p39/lib/python3.9/site-packages/prophet/forecaster.py:896: FutureWarning: The frame.append method is deprecated and will be removed from pandas in a future version. Use pandas.concat instead.\n",
      "  components = components.append(new_comp)\n",
      "/Users/hwangyungwan/miniforge3/envs/ds_p39/lib/python3.9/site-packages/prophet/forecaster.py:896: FutureWarning: The frame.append method is deprecated and will be removed from pandas in a future version. Use pandas.concat instead.\n",
      "  components = components.append(new_comp)\n",
      "/Users/hwangyungwan/miniforge3/envs/ds_p39/lib/python3.9/site-packages/prophet/forecaster.py:896: FutureWarning: The frame.append method is deprecated and will be removed from pandas in a future version. Use pandas.concat instead.\n",
      "  components = components.append(new_comp)\n",
      "/Users/hwangyungwan/miniforge3/envs/ds_p39/lib/python3.9/site-packages/prophet/forecaster.py:896: FutureWarning: The frame.append method is deprecated and will be removed from pandas in a future version. Use pandas.concat instead.\n",
      "  components = components.append(new_comp)\n",
      "/Users/hwangyungwan/miniforge3/envs/ds_p39/lib/python3.9/site-packages/prophet/forecaster.py:896: FutureWarning: The frame.append method is deprecated and will be removed from pandas in a future version. Use pandas.concat instead.\n",
      "  components = components.append(new_comp)\n",
      "/Users/hwangyungwan/miniforge3/envs/ds_p39/lib/python3.9/site-packages/prophet/forecaster.py:896: FutureWarning: The frame.append method is deprecated and will be removed from pandas in a future version. Use pandas.concat instead.\n",
      "  components = components.append(new_comp)\n"
     ]
    },
    {
     "name": "stdout",
     "output_type": "stream",
     "text": [
      "Initial log joint probability = -4.94519\n",
      "    Iter      log prob        ||dx||      ||grad||       alpha      alpha0  # evals  Notes \n",
      "     299       2591.65     0.0141362       175.078      0.4948      0.4948      470   \n",
      "    Iter      log prob        ||dx||      ||grad||       alpha      alpha0  # evals  Notes \n",
      "      99       1893.09    0.00044165       98.6552      0.8663      0.8663      131   \n",
      "    Iter      log prob        ||dx||      ||grad||       alpha      alpha0  # evals  Notes \n",
      "     399       2593.09   2.30434e-05       52.4292           1           1      597   \n",
      "    Iter      log prob        ||dx||      ||grad||       alpha      alpha0  # evals  Notes \n",
      "     402       2593.09   8.35856e-06       52.9618   1.594e-07       0.001      643  LS failed, Hessian reset \n",
      "     199       1893.23   4.11146e-05       72.3041           1           1      259   \n",
      "    Iter      log prob        ||dx||      ||grad||       alpha      alpha0  # evals  Notes \n",
      "Initial log joint probability = -4.10046\n",
      "    Iter      log prob        ||dx||      ||grad||       alpha      alpha0  # evals  Notes \n",
      "     199       3347.04    0.00017969       81.0762   1.869e-06       0.001      296  LS failed, Hessian reset \n",
      "    Iter      log prob        ||dx||      ||grad||       alpha      alpha0  # evals  Notes \n",
      "     268       1893.24   8.06021e-08       75.8605           1           1      352   \n",
      "Optimization terminated normally: \n",
      "  Convergence detected: relative gradient magnitude is below tolerance\n",
      "      86        1133.7   4.86346e-08       86.8024           1           1      115   \n",
      "Optimization terminated normally: \n",
      "  Convergence detected: relative gradient magnitude is below tolerance\n",
      "     459        2593.1   1.13621e-05       56.3171   2.277e-07       0.001      764  LS failed, Hessian reset \n",
      "     255       3347.06   1.03069e-05       73.9114   1.155e-07       0.001      398  LS failed, Hessian reset \n",
      "     273       3347.06   2.44168e-07        61.065           1           1      421   \n",
      "Optimization terminated normally: \n",
      "  Convergence detected: relative gradient magnitude is below tolerance\n",
      "     490       2593.11   5.38619e-06       63.5238   1.022e-07       0.001      850  LS failed, Hessian reset \n"
     ]
    },
    {
     "name": "stderr",
     "output_type": "stream",
     "text": [
      "/Users/hwangyungwan/miniforge3/envs/ds_p39/lib/python3.9/site-packages/prophet/forecaster.py:896: FutureWarning: The frame.append method is deprecated and will be removed from pandas in a future version. Use pandas.concat instead.\n",
      "  components = components.append(new_comp)\n",
      "/Users/hwangyungwan/miniforge3/envs/ds_p39/lib/python3.9/site-packages/prophet/forecaster.py:896: FutureWarning: The frame.append method is deprecated and will be removed from pandas in a future version. Use pandas.concat instead.\n",
      "  components = components.append(new_comp)\n",
      "/Users/hwangyungwan/miniforge3/envs/ds_p39/lib/python3.9/site-packages/prophet/forecaster.py:896: FutureWarning: The frame.append method is deprecated and will be removed from pandas in a future version. Use pandas.concat instead.\n",
      "  components = components.append(new_comp)\n",
      "/Users/hwangyungwan/miniforge3/envs/ds_p39/lib/python3.9/site-packages/prophet/forecaster.py:896: FutureWarning: The frame.append method is deprecated and will be removed from pandas in a future version. Use pandas.concat instead.\n",
      "  components = components.append(new_comp)\n",
      "/Users/hwangyungwan/miniforge3/envs/ds_p39/lib/python3.9/site-packages/prophet/forecaster.py:896: FutureWarning: The frame.append method is deprecated and will be removed from pandas in a future version. Use pandas.concat instead.\n",
      "  components = components.append(new_comp)\n",
      "/Users/hwangyungwan/miniforge3/envs/ds_p39/lib/python3.9/site-packages/prophet/forecaster.py:896: FutureWarning: The frame.append method is deprecated and will be removed from pandas in a future version. Use pandas.concat instead.\n",
      "  components = components.append(new_comp)\n",
      "/Users/hwangyungwan/miniforge3/envs/ds_p39/lib/python3.9/site-packages/prophet/forecaster.py:896: FutureWarning: The frame.append method is deprecated and will be removed from pandas in a future version. Use pandas.concat instead.\n",
      "  components = components.append(new_comp)\n",
      "/Users/hwangyungwan/miniforge3/envs/ds_p39/lib/python3.9/site-packages/prophet/forecaster.py:896: FutureWarning: The frame.append method is deprecated and will be removed from pandas in a future version. Use pandas.concat instead.\n",
      "  components = components.append(new_comp)\n"
     ]
    },
    {
     "name": "stdout",
     "output_type": "stream",
     "text": [
      "     495       2593.11   3.36614e-07       44.9482   8.098e-09       0.001      892  LS failed, Hessian reset \n",
      "     497       2593.11    1.0475e-07       28.5042       0.575       0.575      894   \n",
      "Optimization terminated normally: \n",
      "  Convergence detected: relative gradient magnitude is below tolerance\n",
      "Initial log joint probability = -5.77637\n",
      "    Iter      log prob        ||dx||      ||grad||       alpha      alpha0  # evals  Notes \n",
      "      99        2234.9   9.34124e-08       67.7482       0.857       0.857      132   \n",
      "    Iter      log prob        ||dx||      ||grad||       alpha      alpha0  # evals  Notes \n",
      "     100        2234.9   1.18265e-07       71.7621      0.2488           1      134   \n",
      "Optimization terminated normally: \n",
      "  Convergence detected: relative gradient magnitude is below tolerance\n",
      "Initial log joint probability = -6.54808\n",
      "    Iter      log prob        ||dx||      ||grad||       alpha      alpha0  # evals  Notes \n"
     ]
    },
    {
     "name": "stderr",
     "output_type": "stream",
     "text": [
      "/Users/hwangyungwan/miniforge3/envs/ds_p39/lib/python3.9/site-packages/prophet/forecaster.py:896: FutureWarning: The frame.append method is deprecated and will be removed from pandas in a future version. Use pandas.concat instead.\n",
      "  components = components.append(new_comp)\n",
      "/Users/hwangyungwan/miniforge3/envs/ds_p39/lib/python3.9/site-packages/prophet/forecaster.py:896: FutureWarning: The frame.append method is deprecated and will be removed from pandas in a future version. Use pandas.concat instead.\n",
      "  components = components.append(new_comp)\n",
      "/Users/hwangyungwan/miniforge3/envs/ds_p39/lib/python3.9/site-packages/prophet/forecaster.py:896: FutureWarning: The frame.append method is deprecated and will be removed from pandas in a future version. Use pandas.concat instead.\n",
      "  components = components.append(new_comp)\n",
      "/Users/hwangyungwan/miniforge3/envs/ds_p39/lib/python3.9/site-packages/prophet/forecaster.py:896: FutureWarning: The frame.append method is deprecated and will be removed from pandas in a future version. Use pandas.concat instead.\n",
      "  components = components.append(new_comp)\n"
     ]
    },
    {
     "name": "stdout",
     "output_type": "stream",
     "text": [
      "Initial log joint probability = -3.23946\n",
      "    Iter      log prob        ||dx||      ||grad||       alpha      alpha0  # evals  Notes \n",
      "      74       792.676    0.00010581        86.853   1.136e-06       0.001      129  LS failed, Hessian reset \n",
      "      99       792.685   1.49176e-06       97.5407      0.7414      0.7414      161   \n",
      "    Iter      log prob        ||dx||      ||grad||       alpha      alpha0  # evals  Notes \n",
      "      94       3002.43   0.000404588       98.1518   4.236e-06       0.001      154  LS failed, Hessian reset \n",
      "     199       792.852   0.000248297       96.7576      0.8734      0.8734      277   \n",
      "    Iter      log prob        ||dx||      ||grad||       alpha      alpha0  # evals  Notes \n",
      "      99       3002.44   5.48101e-05       84.4278      0.2722           1      160   \n",
      "    Iter      log prob        ||dx||      ||grad||       alpha      alpha0  # evals  Notes \n",
      "     247       792.867   2.89369e-08       101.547      0.4024      0.4024      345   \n",
      "Optimization terminated normally: \n",
      "  Convergence detected: relative gradient magnitude is below tolerance\n",
      "Initial log joint probability = -4.73187\n",
      "    Iter      log prob        ||dx||      ||grad||       alpha      alpha0  # evals  Notes \n",
      "      99       1476.54   7.24719e-06       65.5379       3.268      0.3268      130   \n",
      "    Iter      log prob        ||dx||      ||grad||       alpha      alpha0  # evals  Notes \n",
      "     197       3002.51   4.15507e-06       90.8629   5.373e-08       0.001      331  LS failed, Hessian reset \n",
      "     199       3002.51   2.55067e-06       57.4469           1           1      333   \n",
      "    Iter      log prob        ||dx||      ||grad||       alpha      alpha0  # evals  Notes \n",
      "     209       3002.51   1.15047e-07        64.865      0.5551      0.5551      345   \n",
      "Optimization terminated normally: \n",
      "  Convergence detected: relative gradient magnitude is below tolerance\n",
      "     117       1476.54   1.02955e-06        88.198   1.377e-08       0.001      204  LS failed, Hessian reset \n",
      "     125       1476.54   8.70185e-08       67.7553      0.3659           1      217   \n",
      "Optimization terminated normally: \n",
      "  Convergence detected: relative gradient magnitude is below tolerance\n"
     ]
    },
    {
     "name": "stderr",
     "output_type": "stream",
     "text": [
      "/Users/hwangyungwan/miniforge3/envs/ds_p39/lib/python3.9/site-packages/prophet/forecaster.py:896: FutureWarning: The frame.append method is deprecated and will be removed from pandas in a future version. Use pandas.concat instead.\n",
      "  components = components.append(new_comp)\n",
      "/Users/hwangyungwan/miniforge3/envs/ds_p39/lib/python3.9/site-packages/prophet/forecaster.py:896: FutureWarning: The frame.append method is deprecated and will be removed from pandas in a future version. Use pandas.concat instead.\n",
      "  components = components.append(new_comp)\n",
      "/Users/hwangyungwan/miniforge3/envs/ds_p39/lib/python3.9/site-packages/prophet/forecaster.py:896: FutureWarning: The frame.append method is deprecated and will be removed from pandas in a future version. Use pandas.concat instead.\n",
      "  components = components.append(new_comp)\n",
      "/Users/hwangyungwan/miniforge3/envs/ds_p39/lib/python3.9/site-packages/prophet/forecaster.py:896: FutureWarning: The frame.append method is deprecated and will be removed from pandas in a future version. Use pandas.concat instead.\n",
      "  components = components.append(new_comp)\n",
      "/Users/hwangyungwan/miniforge3/envs/ds_p39/lib/python3.9/site-packages/prophet/forecaster.py:896: FutureWarning: The frame.append method is deprecated and will be removed from pandas in a future version. Use pandas.concat instead.\n",
      "  components = components.append(new_comp)\n",
      "/Users/hwangyungwan/miniforge3/envs/ds_p39/lib/python3.9/site-packages/prophet/forecaster.py:896: FutureWarning: The frame.append method is deprecated and will be removed from pandas in a future version. Use pandas.concat instead.\n",
      "  components = components.append(new_comp)\n"
     ]
    },
    {
     "name": "stdout",
     "output_type": "stream",
     "text": [
      "Initial log joint probability = -8.27299\n",
      "    Iter      log prob        ||dx||      ||grad||       alpha      alpha0  # evals  Notes \n",
      "      48       3687.12   0.000149306       70.6311   1.497e-06       0.001      101  LS failed, Hessian reset \n",
      "Initial log joint probability = -280.854\n",
      "    Iter      log prob        ||dx||      ||grad||       alpha      alpha0  # evals  Notes \n",
      "      99       3687.46   0.000452413       73.0007           1           1      166   \n",
      "    Iter      log prob        ||dx||      ||grad||       alpha      alpha0  # evals  Notes \n",
      "Initial log joint probability = -9.06963\n",
      "    Iter      log prob        ||dx||      ||grad||       alpha      alpha0  # evals  Notes \n",
      "     199       3695.87   0.000400595       55.1514      0.7317      0.7317      289   \n",
      "    Iter      log prob        ||dx||      ||grad||       alpha      alpha0  # evals  Notes \n",
      "      99        4035.9     0.0156794       314.935      0.2198           1      129   \n",
      "    Iter      log prob        ||dx||      ||grad||       alpha      alpha0  # evals  Notes \n"
     ]
    },
    {
     "name": "stderr",
     "output_type": "stream",
     "text": [
      "/Users/hwangyungwan/miniforge3/envs/ds_p39/lib/python3.9/site-packages/prophet/forecaster.py:896: FutureWarning: The frame.append method is deprecated and will be removed from pandas in a future version. Use pandas.concat instead.\n",
      "  components = components.append(new_comp)\n"
     ]
    },
    {
     "name": "stdout",
     "output_type": "stream",
     "text": [
      "      99       4462.02      0.002283       93.4744      0.5667      0.5667      126   \n",
      "    Iter      log prob        ||dx||      ||grad||       alpha      alpha0  # evals  Notes \n",
      "     244       3695.96   5.35291e-05       34.7495   1.337e-06       0.001      386  LS failed, Hessian reset \n",
      "     116       4038.82   0.000480869       227.553   2.485e-06       0.001      200  LS failed, Hessian reset \n",
      "     249       3695.96    4.2773e-06       35.3357   2.131e-07       0.001      434  LS failed, Hessian reset \n",
      "     199        4469.1    0.00179034       113.967       2.998           1      256   \n",
      "    Iter      log prob        ||dx||      ||grad||       alpha      alpha0  # evals  Notes \n",
      "     164       4044.61    0.00175388       275.541   1.176e-05       0.001      289  LS failed, Hessian reset \n",
      "     273       3695.97   8.95367e-06       58.7763   2.074e-07       0.001      520  LS failed, Hessian reset \n",
      "     299       3695.97   3.20121e-06       50.9292           1           1      557   \n",
      "    Iter      log prob        ||dx||      ||grad||       alpha      alpha0  # evals  Notes \n",
      "     199       4046.48    0.00199457       90.0772           1           1      334   \n",
      "    Iter      log prob        ||dx||      ||grad||       alpha      alpha0  # evals  Notes \n",
      "     247       4469.57   0.000232877        132.73   2.693e-06       0.001      368  LS failed, Hessian reset \n",
      "     220       4047.25   0.000352916       116.439   1.033e-06       0.001      401  LS failed, Hessian reset \n",
      "     282       4469.59   1.09726e-07       55.3238     0.04671           1      421   \n",
      "Optimization terminated normally: \n",
      "  Convergence detected: relative gradient magnitude is below tolerance\n",
      "     399       3695.99   1.26052e-06       92.3764      0.5473      0.5473      716   \n",
      "    Iter      log prob        ||dx||      ||grad||       alpha      alpha0  # evals  Notes \n",
      "     265       4048.11   6.60017e-05       54.6147    9.62e-07       0.001      506  LS failed, Hessian reset \n",
      "     299       4048.11   7.39627e-06       66.9597           1           1      555   \n",
      "    Iter      log prob        ||dx||      ||grad||       alpha      alpha0  # evals  Notes \n",
      "     432       3696.04   0.000141171       55.3602   1.904e-06       0.001      805  LS failed, Hessian reset \n"
     ]
    },
    {
     "name": "stderr",
     "output_type": "stream",
     "text": [
      "/Users/hwangyungwan/miniforge3/envs/ds_p39/lib/python3.9/site-packages/prophet/forecaster.py:896: FutureWarning: The frame.append method is deprecated and will be removed from pandas in a future version. Use pandas.concat instead.\n",
      "  components = components.append(new_comp)\n",
      "/Users/hwangyungwan/miniforge3/envs/ds_p39/lib/python3.9/site-packages/prophet/forecaster.py:896: FutureWarning: The frame.append method is deprecated and will be removed from pandas in a future version. Use pandas.concat instead.\n",
      "  components = components.append(new_comp)\n",
      "/Users/hwangyungwan/miniforge3/envs/ds_p39/lib/python3.9/site-packages/prophet/forecaster.py:896: FutureWarning: The frame.append method is deprecated and will be removed from pandas in a future version. Use pandas.concat instead.\n",
      "  components = components.append(new_comp)\n"
     ]
    },
    {
     "name": "stdout",
     "output_type": "stream",
     "text": [
      "     461       3696.07   6.57343e-05       42.6384   1.248e-06       0.001      888  LS failed, Hessian reset \n",
      "     338       4048.26   0.000303798       149.049   2.983e-06       0.001      648  LS failed, Hessian reset \n",
      "     486       3696.07   1.61607e-07       42.5294       0.059      0.5924      927   \n",
      "Optimization terminated normally: \n",
      "  Convergence detected: relative gradient magnitude is below tolerance\n",
      "     399       4048.38   0.000449035       57.6993       5.362      0.5362      728   \n",
      "    Iter      log prob        ||dx||      ||grad||       alpha      alpha0  # evals  Notes \n"
     ]
    },
    {
     "name": "stderr",
     "output_type": "stream",
     "text": [
      "/Users/hwangyungwan/miniforge3/envs/ds_p39/lib/python3.9/site-packages/prophet/forecaster.py:896: FutureWarning: The frame.append method is deprecated and will be removed from pandas in a future version. Use pandas.concat instead.\n",
      "  components = components.append(new_comp)\n"
     ]
    },
    {
     "name": "stdout",
     "output_type": "stream",
     "text": [
      "     499       4053.01    0.00122581       55.0481      0.8825      0.8825      851   \n",
      "    Iter      log prob        ||dx||      ||grad||       alpha      alpha0  # evals  Notes \n",
      "     578       4053.33    3.8856e-05       50.0722   5.379e-07       0.001      988  LS failed, Hessian reset \n",
      "     589       4053.33   3.92081e-05       19.3773   9.341e-07       0.001     1037  LS failed, Hessian reset \n",
      "     599       4053.33   1.36467e-05       76.2285     0.09044           1     1053   \n",
      "    Iter      log prob        ||dx||      ||grad||       alpha      alpha0  # evals  Notes \n",
      "     609       4053.34   2.23758e-05        73.387   3.653e-07       0.001     1106  LS failed, Hessian reset \n",
      "     624       4053.34   7.38228e-07       21.4154           1           1     1129   \n",
      "Optimization terminated normally: \n",
      "  Convergence detected: relative gradient magnitude is below tolerance\n"
     ]
    },
    {
     "name": "stderr",
     "output_type": "stream",
     "text": [
      "/Users/hwangyungwan/miniforge3/envs/ds_p39/lib/python3.9/site-packages/prophet/forecaster.py:896: FutureWarning: The frame.append method is deprecated and will be removed from pandas in a future version. Use pandas.concat instead.\n",
      "  components = components.append(new_comp)\n",
      "/Users/hwangyungwan/miniforge3/envs/ds_p39/lib/python3.9/site-packages/prophet/forecaster.py:896: FutureWarning: The frame.append method is deprecated and will be removed from pandas in a future version. Use pandas.concat instead.\n",
      "  components = components.append(new_comp)\n",
      "/Users/hwangyungwan/Library/Mobile Documents/com~apple~CloudDocs/Documents/study/data_science/machine_learning/time_series_forecaster/models/ts_prophet_gridsearch.py:162: FutureWarning: The frame.append method is deprecated and will be removed from pandas in a future version. Use pandas.concat instead.\n",
      "  df_perf_metrics_all = df_perf_metrics_all.append(df_perf_metrics)\n",
      "INFO:prophet:Making 11 forecasts with cutoffs between 2017-01-19 00:00:00 and 2021-12-24 00:00:00\n",
      "WARNING:prophet:Seasonality has period of 365.25 days which is larger than initial window. Consider increasing initial.\n",
      "INFO:prophet:Applying in parallel with <concurrent.futures.process.ProcessPoolExecutor object at 0x131b12340>\n",
      "/Users/hwangyungwan/miniforge3/envs/ds_p39/lib/python3.9/site-packages/prophet/forecaster.py:896: FutureWarning: The frame.append method is deprecated and will be removed from pandas in a future version. Use pandas.concat instead.\n",
      "  components = components.append(new_comp)\n",
      "/Users/hwangyungwan/miniforge3/envs/ds_p39/lib/python3.9/site-packages/prophet/forecaster.py:896: FutureWarning: The frame.append method is deprecated and will be removed from pandas in a future version. Use pandas.concat instead.\n",
      "  components = components.append(new_comp)\n",
      "/Users/hwangyungwan/miniforge3/envs/ds_p39/lib/python3.9/site-packages/prophet/forecaster.py:896: FutureWarning: The frame.append method is deprecated and will be removed from pandas in a future version. Use pandas.concat instead.\n",
      "  components = components.append(new_comp)\n"
     ]
    },
    {
     "name": "stdout",
     "output_type": "stream",
     "text": [
      "Initial log joint probability = -6.54808\n",
      "    Iter      log prob        ||dx||      ||grad||       alpha      alpha0  # evals  Notes \n",
      "      99        2996.7   6.45604e-06       70.1983      0.4094      0.4094      123   \n",
      "    Iter      log prob        ||dx||      ||grad||       alpha      alpha0  # evals  Notes \n",
      "Initial log joint probability = -6.39454\n",
      "    Iter      log prob        ||dx||      ||grad||       alpha      alpha0  # evals  Notes \n",
      "      45       2581.41   9.10085e-05       44.6368    2.83e-06       0.001       89  LS failed, Hessian reset \n",
      "     171       2996.76   6.66205e-05       74.8298   1.042e-06       0.001      273  LS failed, Hessian reset \n",
      "     199       2996.78   0.000173548       88.4602      0.2769           1      311   \n",
      "    Iter      log prob        ||dx||      ||grad||       alpha      alpha0  # evals  Notes \n",
      "      94       2581.61   0.000136402       56.0815   1.764e-06       0.001      209  LS failed, Hessian reset \n",
      "      99       2581.61   1.31908e-05        40.898       0.375       0.375      215   \n",
      "    Iter      log prob        ||dx||      ||grad||       alpha      alpha0  # evals  Notes \n",
      "Initial log joint probability = -4.73187\n",
      "    Iter      log prob        ||dx||      ||grad||       alpha      alpha0  # evals  Notes \n",
      "     299       2996.85    7.4089e-06       88.4672      0.4491      0.4491      437   \n",
      "    Iter      log prob        ||dx||      ||grad||       alpha      alpha0  # evals  Notes \n",
      "      99       1472.75   0.000206358       93.4503   2.278e-06       0.001      163  LS failed, Hessian reset \n",
      "    Iter      log prob        ||dx||      ||grad||       alpha      alpha0  # evals  Notes \n",
      "     136       1472.76    2.8188e-08       62.7046      0.3354      0.3354      214   \n",
      "Optimization terminated normally: \n",
      "  Convergence detected: relative gradient magnitude is below tolerance\n",
      "     199       2581.78   0.000489922        77.777           1           1      359   \n",
      "    Iter      log prob        ||dx||      ||grad||       alpha      alpha0  # evals  Notes \n",
      "     312       2996.86   5.24647e-06       96.4114    5.41e-08       0.001      497  LS failed, Hessian reset \n",
      "     347       2996.86   1.09553e-07       73.7803      0.2364           1      539   \n",
      "Optimization terminated normally: \n",
      "  Convergence detected: relative gradient magnitude is below tolerance\n",
      "Initial log joint probability = -4.10046\n",
      "    Iter      log prob        ||dx||      ||grad||       alpha      alpha0  # evals  Notes \n",
      "     299       2586.53   0.000480303       70.9498      0.2321           1      481   \n",
      "    Iter      log prob        ||dx||      ||grad||       alpha      alpha0  # evals  Notes \n",
      "      99        1131.9   3.32145e-06       87.9084           1           1      136   \n",
      "    Iter      log prob        ||dx||      ||grad||       alpha      alpha0  # evals  Notes \n",
      "     130       1131.94   0.000222752       109.808   2.685e-06       0.001      208  LS failed, Hessian reset \n",
      "     199       1131.96   1.70353e-07       93.1468      0.4041      0.4041      302   \n",
      "    Iter      log prob        ||dx||      ||grad||       alpha      alpha0  # evals  Notes \n",
      "     220       1131.96   2.87952e-08       97.2157      0.3482           1      329   \n",
      "Optimization terminated normally: \n",
      "  Convergence detected: relative gradient magnitude is below tolerance\n",
      "     399       2586.74   3.29322e-05       77.7581   2.862e-07       0.001      641  LS failed, Hessian reset \n",
      "    Iter      log prob        ||dx||      ||grad||       alpha      alpha0  # evals  Notes \n",
      "     419       2586.74   3.17527e-07       69.2386      0.4036           1      670   \n",
      "Optimization terminated normally: \n",
      "  Convergence detected: relative gradient magnitude is below tolerance\n",
      "Initial log joint probability = -5.77637\n",
      "    Iter      log prob        ||dx||      ||grad||       alpha      alpha0  # evals  Notes \n"
     ]
    },
    {
     "name": "stderr",
     "output_type": "stream",
     "text": [
      "/Users/hwangyungwan/miniforge3/envs/ds_p39/lib/python3.9/site-packages/prophet/forecaster.py:896: FutureWarning: The frame.append method is deprecated and will be removed from pandas in a future version. Use pandas.concat instead.\n",
      "  components = components.append(new_comp)\n",
      "/Users/hwangyungwan/miniforge3/envs/ds_p39/lib/python3.9/site-packages/prophet/forecaster.py:896: FutureWarning: The frame.append method is deprecated and will be removed from pandas in a future version. Use pandas.concat instead.\n",
      "  components = components.append(new_comp)\n",
      "/Users/hwangyungwan/miniforge3/envs/ds_p39/lib/python3.9/site-packages/prophet/forecaster.py:896: FutureWarning: The frame.append method is deprecated and will be removed from pandas in a future version. Use pandas.concat instead.\n",
      "  components = components.append(new_comp)\n",
      "/Users/hwangyungwan/miniforge3/envs/ds_p39/lib/python3.9/site-packages/prophet/forecaster.py:896: FutureWarning: The frame.append method is deprecated and will be removed from pandas in a future version. Use pandas.concat instead.\n",
      "  components = components.append(new_comp)\n",
      "/Users/hwangyungwan/miniforge3/envs/ds_p39/lib/python3.9/site-packages/prophet/forecaster.py:896: FutureWarning: The frame.append method is deprecated and will be removed from pandas in a future version. Use pandas.concat instead.\n",
      "  components = components.append(new_comp)\n",
      "/Users/hwangyungwan/miniforge3/envs/ds_p39/lib/python3.9/site-packages/prophet/forecaster.py:896: FutureWarning: The frame.append method is deprecated and will be removed from pandas in a future version. Use pandas.concat instead.\n",
      "  components = components.append(new_comp)\n",
      "/Users/hwangyungwan/miniforge3/envs/ds_p39/lib/python3.9/site-packages/prophet/forecaster.py:896: FutureWarning: The frame.append method is deprecated and will be removed from pandas in a future version. Use pandas.concat instead.\n",
      "  components = components.append(new_comp)\n",
      "/Users/hwangyungwan/miniforge3/envs/ds_p39/lib/python3.9/site-packages/prophet/forecaster.py:896: FutureWarning: The frame.append method is deprecated and will be removed from pandas in a future version. Use pandas.concat instead.\n",
      "  components = components.append(new_comp)\n",
      "/Users/hwangyungwan/miniforge3/envs/ds_p39/lib/python3.9/site-packages/prophet/forecaster.py:896: FutureWarning: The frame.append method is deprecated and will be removed from pandas in a future version. Use pandas.concat instead.\n",
      "  components = components.append(new_comp)\n",
      "/Users/hwangyungwan/miniforge3/envs/ds_p39/lib/python3.9/site-packages/prophet/forecaster.py:896: FutureWarning: The frame.append method is deprecated and will be removed from pandas in a future version. Use pandas.concat instead.\n",
      "  components = components.append(new_comp)\n"
     ]
    },
    {
     "name": "stdout",
     "output_type": "stream",
     "text": [
      "      85       2229.24   9.72019e-08       63.0414           1           1      125   \n",
      "Optimization terminated normally: \n",
      "  Convergence detected: relative gradient magnitude is below tolerance\n",
      "Initial log joint probability = -3.23946\n",
      "    Iter      log prob        ||dx||      ||grad||       alpha      alpha0  # evals  Notes \n",
      "      99        790.03   0.000442212       109.128         100           1      127   \n",
      "    Iter      log prob        ||dx||      ||grad||       alpha      alpha0  # evals  Notes \n",
      "     177       790.056   6.90969e-08       94.6063       1.314      0.3388      219   \n",
      "Optimization terminated normally: \n",
      "  Convergence detected: relative gradient magnitude is below tolerance\n",
      "Initial log joint probability = -7.69426\n",
      "    Iter      log prob        ||dx||      ||grad||       alpha      alpha0  # evals  Notes \n"
     ]
    },
    {
     "name": "stderr",
     "output_type": "stream",
     "text": [
      "/Users/hwangyungwan/miniforge3/envs/ds_p39/lib/python3.9/site-packages/prophet/forecaster.py:896: FutureWarning: The frame.append method is deprecated and will be removed from pandas in a future version. Use pandas.concat instead.\n",
      "  components = components.append(new_comp)\n",
      "/Users/hwangyungwan/miniforge3/envs/ds_p39/lib/python3.9/site-packages/prophet/forecaster.py:896: FutureWarning: The frame.append method is deprecated and will be removed from pandas in a future version. Use pandas.concat instead.\n",
      "  components = components.append(new_comp)\n",
      "/Users/hwangyungwan/miniforge3/envs/ds_p39/lib/python3.9/site-packages/prophet/forecaster.py:896: FutureWarning: The frame.append method is deprecated and will be removed from pandas in a future version. Use pandas.concat instead.\n",
      "  components = components.append(new_comp)\n",
      "/Users/hwangyungwan/miniforge3/envs/ds_p39/lib/python3.9/site-packages/prophet/forecaster.py:896: FutureWarning: The frame.append method is deprecated and will be removed from pandas in a future version. Use pandas.concat instead.\n",
      "  components = components.append(new_comp)\n",
      "/Users/hwangyungwan/miniforge3/envs/ds_p39/lib/python3.9/site-packages/prophet/forecaster.py:896: FutureWarning: The frame.append method is deprecated and will be removed from pandas in a future version. Use pandas.concat instead.\n",
      "  components = components.append(new_comp)\n",
      "/Users/hwangyungwan/miniforge3/envs/ds_p39/lib/python3.9/site-packages/prophet/forecaster.py:896: FutureWarning: The frame.append method is deprecated and will be removed from pandas in a future version. Use pandas.concat instead.\n",
      "  components = components.append(new_comp)\n",
      "/Users/hwangyungwan/miniforge3/envs/ds_p39/lib/python3.9/site-packages/prophet/forecaster.py:896: FutureWarning: The frame.append method is deprecated and will be removed from pandas in a future version. Use pandas.concat instead.\n",
      "  components = components.append(new_comp)\n",
      "/Users/hwangyungwan/miniforge3/envs/ds_p39/lib/python3.9/site-packages/prophet/forecaster.py:896: FutureWarning: The frame.append method is deprecated and will be removed from pandas in a future version. Use pandas.concat instead.\n",
      "  components = components.append(new_comp)\n",
      "/Users/hwangyungwan/miniforge3/envs/ds_p39/lib/python3.9/site-packages/prophet/forecaster.py:896: FutureWarning: The frame.append method is deprecated and will be removed from pandas in a future version. Use pandas.concat instead.\n",
      "  components = components.append(new_comp)\n"
     ]
    },
    {
     "name": "stdout",
     "output_type": "stream",
     "text": [
      "      99       3339.92   0.000355272       102.868      0.3879           1      119   \n",
      "    Iter      log prob        ||dx||      ||grad||       alpha      alpha0  # evals  Notes \n",
      "Initial log joint probability = -4.94519\n",
      "    Iter      log prob        ||dx||      ||grad||       alpha      alpha0  # evals  Notes \n",
      "     104       3339.92   2.69555e-05       72.5797   3.703e-07       0.001      167  LS failed, Hessian reset \n",
      "      99       1889.67   3.00702e-06       95.1417      0.2629           1      126   \n",
      "    Iter      log prob        ||dx||      ||grad||       alpha      alpha0  # evals  Notes \n",
      "     197       1889.68   3.89189e-08       69.5269      0.4079      0.4079      244   \n",
      "Optimization terminated normally: \n",
      "  Convergence detected: relative gradient magnitude is below tolerance\n",
      "     199       3339.99   3.71755e-05       83.6475      0.4031           1      284   \n",
      "    Iter      log prob        ||dx||      ||grad||       alpha      alpha0  # evals  Notes \n",
      "     240       3340.01   6.93007e-05       61.9199     1.1e-06       0.001      384  LS failed, Hessian reset \n",
      "Initial log joint probability = -8.27299\n",
      "    Iter      log prob        ||dx||      ||grad||       alpha      alpha0  # evals  Notes \n",
      "     299       3340.04    3.9316e-05       93.3565           1           1      460   \n",
      "    Iter      log prob        ||dx||      ||grad||       alpha      alpha0  # evals  Notes \n",
      "     349       3340.05   5.56131e-06       85.4186   6.771e-08       0.001      559  LS failed, Hessian reset \n",
      "Initial log joint probability = -280.854\n",
      "    Iter      log prob        ||dx||      ||grad||       alpha      alpha0  # evals  Notes \n",
      "     365       3340.05   4.39637e-08       69.4499      0.1826      0.4334      584   \n",
      "Optimization terminated normally: \n",
      "  Convergence detected: relative gradient magnitude is below tolerance\n",
      "      99       3678.81    0.00230733        156.79           1           1      130   \n",
      "    Iter      log prob        ||dx||      ||grad||       alpha      alpha0  # evals  Notes \n"
     ]
    },
    {
     "name": "stderr",
     "output_type": "stream",
     "text": [
      "/Users/hwangyungwan/miniforge3/envs/ds_p39/lib/python3.9/site-packages/prophet/forecaster.py:896: FutureWarning: The frame.append method is deprecated and will be removed from pandas in a future version. Use pandas.concat instead.\n",
      "  components = components.append(new_comp)\n",
      "/Users/hwangyungwan/miniforge3/envs/ds_p39/lib/python3.9/site-packages/prophet/forecaster.py:896: FutureWarning: The frame.append method is deprecated and will be removed from pandas in a future version. Use pandas.concat instead.\n",
      "  components = components.append(new_comp)\n",
      "/Users/hwangyungwan/miniforge3/envs/ds_p39/lib/python3.9/site-packages/prophet/forecaster.py:896: FutureWarning: The frame.append method is deprecated and will be removed from pandas in a future version. Use pandas.concat instead.\n",
      "  components = components.append(new_comp)\n",
      "/Users/hwangyungwan/miniforge3/envs/ds_p39/lib/python3.9/site-packages/prophet/forecaster.py:896: FutureWarning: The frame.append method is deprecated and will be removed from pandas in a future version. Use pandas.concat instead.\n",
      "  components = components.append(new_comp)\n"
     ]
    },
    {
     "name": "stdout",
     "output_type": "stream",
     "text": [
      "     199       3687.55   9.83072e-05       44.9881           1           1      247   \n",
      "    Iter      log prob        ||dx||      ||grad||       alpha      alpha0  # evals  Notes \n",
      "      99       4027.78     0.0093135       116.092      0.2385           1      131   \n",
      "    Iter      log prob        ||dx||      ||grad||       alpha      alpha0  # evals  Notes \n",
      "Initial log joint probability = -9.06963\n",
      "    Iter      log prob        ||dx||      ||grad||       alpha      alpha0  # evals  Notes \n",
      "     123       4031.36    0.00029953       156.333    1.77e-06       0.001      198  LS failed, Hessian reset \n"
     ]
    },
    {
     "name": "stderr",
     "output_type": "stream",
     "text": [
      "/Users/hwangyungwan/miniforge3/envs/ds_p39/lib/python3.9/site-packages/prophet/forecaster.py:896: FutureWarning: The frame.append method is deprecated and will be removed from pandas in a future version. Use pandas.concat instead.\n",
      "  components = components.append(new_comp)\n"
     ]
    },
    {
     "name": "stdout",
     "output_type": "stream",
     "text": [
      "     283       3687.76   5.13959e-05       58.0558   7.928e-07       0.001      405  LS failed, Hessian reset \n",
      "     299       3687.76   2.20696e-06       62.4755      0.9002     0.09002      431   \n",
      "    Iter      log prob        ||dx||      ||grad||       alpha      alpha0  # evals  Notes \n",
      "      99       4453.86   0.000192235       83.1103           1           1      127   \n",
      "    Iter      log prob        ||dx||      ||grad||       alpha      alpha0  # evals  Notes \n",
      "     183       4037.17   0.000477256       194.197   1.204e-06       0.001      315  LS failed, Hessian reset \n",
      "     304       3687.76   1.94104e-06       40.4372   3.579e-08       0.001      485  LS failed, Hessian reset \n",
      "     306       3687.76   1.20133e-06       21.1243        3.36       0.336      488   \n",
      "Optimization terminated normally: \n",
      "  Convergence detected: relative gradient magnitude is below tolerance\n",
      "     199       4039.78     0.0011232       100.871       0.881       0.881      333   \n",
      "    Iter      log prob        ||dx||      ||grad||       alpha      alpha0  # evals  Notes \n",
      "     199       4461.76     0.0029102       126.736           1           1      241   \n",
      "    Iter      log prob        ||dx||      ||grad||       alpha      alpha0  # evals  Notes \n"
     ]
    },
    {
     "name": "stderr",
     "output_type": "stream",
     "text": [
      "/Users/hwangyungwan/miniforge3/envs/ds_p39/lib/python3.9/site-packages/prophet/forecaster.py:896: FutureWarning: The frame.append method is deprecated and will be removed from pandas in a future version. Use pandas.concat instead.\n",
      "  components = components.append(new_comp)\n",
      "/Users/hwangyungwan/miniforge3/envs/ds_p39/lib/python3.9/site-packages/prophet/forecaster.py:896: FutureWarning: The frame.append method is deprecated and will be removed from pandas in a future version. Use pandas.concat instead.\n",
      "  components = components.append(new_comp)\n"
     ]
    },
    {
     "name": "stdout",
     "output_type": "stream",
     "text": [
      "     299       4040.18   0.000273905       62.2465           1           1      477   \n",
      "    Iter      log prob        ||dx||      ||grad||       alpha      alpha0  # evals  Notes \n",
      "     201       4461.79   0.000201123       118.454   1.595e-06       0.001      282  LS failed, Hessian reset \n",
      "     399       4044.76    0.00810508       99.2255      0.5544           1      597   \n",
      "    Iter      log prob        ||dx||      ||grad||       alpha      alpha0  # evals  Notes \n",
      "     251       4461.89    3.2835e-06         61.62   4.341e-08       0.001      379  LS failed, Hessian reset \n",
      "     257       4461.89   1.13432e-07       58.9424     0.08225       0.351      387   \n",
      "Optimization terminated normally: \n",
      "  Convergence detected: relative gradient magnitude is below tolerance\n",
      "     409       4044.86    0.00034046       87.3691    7.42e-06       0.001      638  LS failed, Hessian reset \n",
      "     462        4045.2   0.000277261       36.7061   3.919e-06       0.001      737  LS failed, Hessian reset \n"
     ]
    },
    {
     "name": "stderr",
     "output_type": "stream",
     "text": [
      "/Users/hwangyungwan/miniforge3/envs/ds_p39/lib/python3.9/site-packages/prophet/forecaster.py:896: FutureWarning: The frame.append method is deprecated and will be removed from pandas in a future version. Use pandas.concat instead.\n",
      "  components = components.append(new_comp)\n",
      "/Users/hwangyungwan/miniforge3/envs/ds_p39/lib/python3.9/site-packages/prophet/forecaster.py:896: FutureWarning: The frame.append method is deprecated and will be removed from pandas in a future version. Use pandas.concat instead.\n",
      "  components = components.append(new_comp)\n"
     ]
    },
    {
     "name": "stdout",
     "output_type": "stream",
     "text": [
      "     499       4045.24   7.14846e-05       52.8852       3.445      0.3445      790   \n",
      "    Iter      log prob        ||dx||      ||grad||       alpha      alpha0  # evals  Notes \n",
      "     599        4045.4   0.000342342        92.355      0.2278           1      933   \n",
      "    Iter      log prob        ||dx||      ||grad||       alpha      alpha0  # evals  Notes \n",
      "     616       4045.44   0.000180962       94.1008   2.009e-06       0.001     1023  LS failed, Hessian reset \n",
      "     647       4045.45   1.58389e-06       28.7674   2.824e-08       0.001     1101  LS failed, Hessian reset \n",
      "     655       4045.45   2.88893e-07       46.8471       1.287      0.1287     1115   \n",
      "Optimization terminated normally: \n",
      "  Convergence detected: relative gradient magnitude is below tolerance\n"
     ]
    },
    {
     "name": "stderr",
     "output_type": "stream",
     "text": [
      "/Users/hwangyungwan/miniforge3/envs/ds_p39/lib/python3.9/site-packages/prophet/forecaster.py:896: FutureWarning: The frame.append method is deprecated and will be removed from pandas in a future version. Use pandas.concat instead.\n",
      "  components = components.append(new_comp)\n",
      "/Users/hwangyungwan/miniforge3/envs/ds_p39/lib/python3.9/site-packages/prophet/forecaster.py:896: FutureWarning: The frame.append method is deprecated and will be removed from pandas in a future version. Use pandas.concat instead.\n",
      "  components = components.append(new_comp)\n",
      "/Users/hwangyungwan/Library/Mobile Documents/com~apple~CloudDocs/Documents/study/data_science/machine_learning/time_series_forecaster/models/ts_prophet_gridsearch.py:162: FutureWarning: The frame.append method is deprecated and will be removed from pandas in a future version. Use pandas.concat instead.\n",
      "  df_perf_metrics_all = df_perf_metrics_all.append(df_perf_metrics)\n",
      "INFO:prophet:Making 11 forecasts with cutoffs between 2017-01-19 00:00:00 and 2021-12-24 00:00:00\n",
      "WARNING:prophet:Seasonality has period of 365.25 days which is larger than initial window. Consider increasing initial.\n",
      "INFO:prophet:Applying in parallel with <concurrent.futures.process.ProcessPoolExecutor object at 0x132b0fca0>\n",
      "/Users/hwangyungwan/miniforge3/envs/ds_p39/lib/python3.9/site-packages/prophet/forecaster.py:896: FutureWarning: The frame.append method is deprecated and will be removed from pandas in a future version. Use pandas.concat instead.\n",
      "  components = components.append(new_comp)\n",
      "/Users/hwangyungwan/miniforge3/envs/ds_p39/lib/python3.9/site-packages/prophet/forecaster.py:896: FutureWarning: The frame.append method is deprecated and will be removed from pandas in a future version. Use pandas.concat instead.\n",
      "  components = components.append(new_comp)\n",
      "/Users/hwangyungwan/miniforge3/envs/ds_p39/lib/python3.9/site-packages/prophet/forecaster.py:896: FutureWarning: The frame.append method is deprecated and will be removed from pandas in a future version. Use pandas.concat instead.\n",
      "  components = components.append(new_comp)\n",
      "/Users/hwangyungwan/miniforge3/envs/ds_p39/lib/python3.9/site-packages/prophet/forecaster.py:896: FutureWarning: The frame.append method is deprecated and will be removed from pandas in a future version. Use pandas.concat instead.\n",
      "  components = components.append(new_comp)\n"
     ]
    },
    {
     "name": "stdout",
     "output_type": "stream",
     "text": [
      "Initial log joint probability = -4.10046\n",
      "    Iter      log prob        ||dx||      ||grad||       alpha      alpha0  # evals  Notes \n",
      "      99       1136.23    0.00118326        94.959           1           1      119   \n",
      "    Iter      log prob        ||dx||      ||grad||       alpha      alpha0  # evals  Notes \n",
      "     103       1136.26   0.000271043       99.2072    2.82e-06       0.001      173  LS failed, Hessian reset \n",
      "     126       1136.31   3.76535e-05       102.175     3.7e-07       0.001      226  LS failed, Hessian reset \n",
      "     169       1136.32   5.66128e-09       108.213     0.06392     0.06392      279   \n",
      "Optimization terminated normally: \n",
      "  Convergence detected: absolute parameter change was below tolerance\n",
      "Initial log joint probability = -6.39454\n",
      "    Iter      log prob        ||dx||      ||grad||       alpha      alpha0  # evals  Notes \n",
      "      87        2592.5   1.47499e-05       26.5159    4.29e-07       0.001      153  LS failed, Hessian reset \n",
      "      90        2592.5   1.25417e-06       34.3467    2.61e-08       0.001      195  LS failed, Hessian reset \n",
      "      93        2592.5   7.10661e-08       25.6741      0.4129      0.4129      198   \n",
      "Optimization terminated normally: \n",
      "  Convergence detected: relative gradient magnitude is below tolerance\n",
      "Initial log joint probability = -4.73187\n",
      "    Iter      log prob        ||dx||      ||grad||       alpha      alpha0  # evals  Notes \n",
      "      99        1483.7     0.0001905       69.9339      0.5726      0.5726      129   \n",
      "    Iter      log prob        ||dx||      ||grad||       alpha      alpha0  # evals  Notes \n",
      "     192       1483.75   5.78926e-07       60.1395           1           1      248   \n",
      "Optimization terminated normally: \n",
      "  Convergence detected: relative gradient magnitude is below tolerance\n",
      "Initial log joint probability = -3.23946\n",
      "    Iter      log prob        ||dx||      ||grad||       alpha      alpha0  # evals  Notes \n",
      "      99       794.078   4.13875e-07        102.14           1           1      118   \n",
      "    Iter      log prob        ||dx||      ||grad||       alpha      alpha0  # evals  Notes \n",
      "     107       794.079   1.83407e-08       95.7351      0.2508           1      128   \n",
      "Optimization terminated normally: \n",
      "  Convergence detected: relative gradient magnitude is below tolerance\n"
     ]
    },
    {
     "name": "stderr",
     "output_type": "stream",
     "text": [
      "/Users/hwangyungwan/miniforge3/envs/ds_p39/lib/python3.9/site-packages/prophet/forecaster.py:896: FutureWarning: The frame.append method is deprecated and will be removed from pandas in a future version. Use pandas.concat instead.\n",
      "  components = components.append(new_comp)\n",
      "/Users/hwangyungwan/miniforge3/envs/ds_p39/lib/python3.9/site-packages/prophet/forecaster.py:896: FutureWarning: The frame.append method is deprecated and will be removed from pandas in a future version. Use pandas.concat instead.\n",
      "  components = components.append(new_comp)\n",
      "/Users/hwangyungwan/miniforge3/envs/ds_p39/lib/python3.9/site-packages/prophet/forecaster.py:896: FutureWarning: The frame.append method is deprecated and will be removed from pandas in a future version. Use pandas.concat instead.\n",
      "  components = components.append(new_comp)\n",
      "/Users/hwangyungwan/miniforge3/envs/ds_p39/lib/python3.9/site-packages/prophet/forecaster.py:896: FutureWarning: The frame.append method is deprecated and will be removed from pandas in a future version. Use pandas.concat instead.\n",
      "  components = components.append(new_comp)\n",
      "/Users/hwangyungwan/miniforge3/envs/ds_p39/lib/python3.9/site-packages/prophet/forecaster.py:896: FutureWarning: The frame.append method is deprecated and will be removed from pandas in a future version. Use pandas.concat instead.\n",
      "  components = components.append(new_comp)\n",
      "/Users/hwangyungwan/miniforge3/envs/ds_p39/lib/python3.9/site-packages/prophet/forecaster.py:896: FutureWarning: The frame.append method is deprecated and will be removed from pandas in a future version. Use pandas.concat instead.\n",
      "  components = components.append(new_comp)\n",
      "/Users/hwangyungwan/miniforge3/envs/ds_p39/lib/python3.9/site-packages/prophet/forecaster.py:896: FutureWarning: The frame.append method is deprecated and will be removed from pandas in a future version. Use pandas.concat instead.\n",
      "  components = components.append(new_comp)\n",
      "/Users/hwangyungwan/miniforge3/envs/ds_p39/lib/python3.9/site-packages/prophet/forecaster.py:896: FutureWarning: The frame.append method is deprecated and will be removed from pandas in a future version. Use pandas.concat instead.\n",
      "  components = components.append(new_comp)\n",
      "/Users/hwangyungwan/miniforge3/envs/ds_p39/lib/python3.9/site-packages/prophet/forecaster.py:896: FutureWarning: The frame.append method is deprecated and will be removed from pandas in a future version. Use pandas.concat instead.\n",
      "  components = components.append(new_comp)\n",
      "/Users/hwangyungwan/miniforge3/envs/ds_p39/lib/python3.9/site-packages/prophet/forecaster.py:896: FutureWarning: The frame.append method is deprecated and will be removed from pandas in a future version. Use pandas.concat instead.\n",
      "  components = components.append(new_comp)\n"
     ]
    },
    {
     "name": "stdout",
     "output_type": "stream",
     "text": [
      "Initial log joint probability = -7.69426\n",
      "    Iter      log prob        ||dx||      ||grad||       alpha      alpha0  # evals  Notes \n",
      "Initial log joint probability = -4.94519\n",
      "    Iter      log prob        ||dx||      ||grad||       alpha      alpha0  # evals  Notes \n",
      "      99       1901.17   0.000401008       99.5334           1           1      128   \n",
      "    Iter      log prob        ||dx||      ||grad||       alpha      alpha0  # evals  Notes \n",
      "      99       3350.17   3.78265e-05        85.294      0.4315           1      133   \n",
      "    Iter      log prob        ||dx||      ||grad||       alpha      alpha0  # evals  Notes \n",
      "     199       1901.47   1.39046e-05       82.7205      0.5363      0.5363      255   \n",
      "    Iter      log prob        ||dx||      ||grad||       alpha      alpha0  # evals  Notes \n",
      "Initial log joint probability = -6.54808\n",
      "    Iter      log prob        ||dx||      ||grad||       alpha      alpha0  # evals  Notes \n"
     ]
    },
    {
     "name": "stderr",
     "output_type": "stream",
     "text": [
      "/Users/hwangyungwan/miniforge3/envs/ds_p39/lib/python3.9/site-packages/prophet/forecaster.py:896: FutureWarning: The frame.append method is deprecated and will be removed from pandas in a future version. Use pandas.concat instead.\n",
      "  components = components.append(new_comp)\n",
      "/Users/hwangyungwan/miniforge3/envs/ds_p39/lib/python3.9/site-packages/prophet/forecaster.py:896: FutureWarning: The frame.append method is deprecated and will be removed from pandas in a future version. Use pandas.concat instead.\n",
      "  components = components.append(new_comp)\n",
      "/Users/hwangyungwan/miniforge3/envs/ds_p39/lib/python3.9/site-packages/prophet/forecaster.py:896: FutureWarning: The frame.append method is deprecated and will be removed from pandas in a future version. Use pandas.concat instead.\n",
      "  components = components.append(new_comp)\n",
      "/Users/hwangyungwan/miniforge3/envs/ds_p39/lib/python3.9/site-packages/prophet/forecaster.py:896: FutureWarning: The frame.append method is deprecated and will be removed from pandas in a future version. Use pandas.concat instead.\n",
      "  components = components.append(new_comp)\n",
      "/Users/hwangyungwan/miniforge3/envs/ds_p39/lib/python3.9/site-packages/prophet/forecaster.py:896: FutureWarning: The frame.append method is deprecated and will be removed from pandas in a future version. Use pandas.concat instead.\n",
      "  components = components.append(new_comp)\n"
     ]
    },
    {
     "name": "stdout",
     "output_type": "stream",
     "text": [
      "Initial log joint probability = -5.77637\n",
      "    Iter      log prob        ||dx||      ||grad||       alpha      alpha0  # evals  Notes \n",
      "     252       1901.47   1.62069e-07       85.1903     0.09255      0.5047      322   \n",
      "Optimization terminated normally: \n",
      "  Convergence detected: relative gradient magnitude is below tolerance\n",
      "Initial log joint probability = -8.27299\n",
      "    Iter      log prob        ||dx||      ||grad||       alpha      alpha0  # evals  Notes \n",
      "     199       3350.23   1.11695e-05       81.4075      0.4065           1      257   \n",
      "    Iter      log prob        ||dx||      ||grad||       alpha      alpha0  # evals  Notes \n",
      "      99       2239.56   0.000111387       90.8014           1           1      129   \n",
      "    Iter      log prob        ||dx||      ||grad||       alpha      alpha0  # evals  Notes \n",
      "      99       3006.66   2.07013e-06       87.0653      0.5972      0.5972      126   \n",
      "    Iter      log prob        ||dx||      ||grad||       alpha      alpha0  # evals  Notes \n",
      "     199       2239.72   1.79166e-06        72.925      0.8538      0.8538      251   \n",
      "    Iter      log prob        ||dx||      ||grad||       alpha      alpha0  # evals  Notes \n",
      "     209       2239.72   8.26265e-07       74.3969   1.177e-08       0.001      299  LS failed, Hessian reset \n",
      "     212       2239.72   1.52798e-07        53.404      0.2155           1      303   \n",
      "Optimization terminated normally: \n",
      "  Convergence detected: relative gradient magnitude is below tolerance\n",
      "      52        3693.5   0.000454945       64.0261   6.032e-06       0.001      111  LS failed, Hessian reset \n",
      "     299       3350.24   4.79673e-06       75.2793      0.4331      0.4331      387   \n",
      "    Iter      log prob        ||dx||      ||grad||       alpha      alpha0  # evals  Notes \n"
     ]
    },
    {
     "name": "stderr",
     "output_type": "stream",
     "text": [
      "/Users/hwangyungwan/miniforge3/envs/ds_p39/lib/python3.9/site-packages/prophet/forecaster.py:896: FutureWarning: The frame.append method is deprecated and will be removed from pandas in a future version. Use pandas.concat instead.\n",
      "  components = components.append(new_comp)\n",
      "/Users/hwangyungwan/miniforge3/envs/ds_p39/lib/python3.9/site-packages/prophet/forecaster.py:896: FutureWarning: The frame.append method is deprecated and will be removed from pandas in a future version. Use pandas.concat instead.\n",
      "  components = components.append(new_comp)\n",
      "/Users/hwangyungwan/miniforge3/envs/ds_p39/lib/python3.9/site-packages/prophet/forecaster.py:896: FutureWarning: The frame.append method is deprecated and will be removed from pandas in a future version. Use pandas.concat instead.\n",
      "  components = components.append(new_comp)\n",
      "/Users/hwangyungwan/miniforge3/envs/ds_p39/lib/python3.9/site-packages/prophet/forecaster.py:896: FutureWarning: The frame.append method is deprecated and will be removed from pandas in a future version. Use pandas.concat instead.\n",
      "  components = components.append(new_comp)\n"
     ]
    },
    {
     "name": "stdout",
     "output_type": "stream",
     "text": [
      "     319       3350.24   9.49247e-08       90.9517      0.3086           1      416   \n",
      "Optimization terminated normally: \n",
      "  Convergence detected: relative gradient magnitude is below tolerance\n",
      "     163       3006.73    4.4559e-05       71.5968    6.32e-07       0.001      247  LS failed, Hessian reset \n",
      "      99       3693.56   0.000315445       76.1179           1           1      182   \n",
      "    Iter      log prob        ||dx||      ||grad||       alpha      alpha0  # evals  Notes \n",
      "     199       3006.74   3.45348e-06       88.7751           1           1      291   \n",
      "    Iter      log prob        ||dx||      ||grad||       alpha      alpha0  # evals  Notes \n",
      "     132       3693.58   7.18881e-05       49.9364   1.044e-06       0.001      255  LS failed, Hessian reset \n",
      "     299       3006.75   4.36036e-05       85.6473      0.3663           1      419   \n",
      "    Iter      log prob        ||dx||      ||grad||       alpha      alpha0  # evals  Notes \n",
      "     152       3693.59   3.46993e-06       41.7678   6.114e-08       0.001      328  LS failed, Hessian reset \n",
      "     166       3693.59   1.17543e-07       46.9448      0.3149      0.3149      356   \n",
      "Optimization terminated normally: \n",
      "  Convergence detected: relative gradient magnitude is below tolerance\n",
      "     349       3006.76   8.08929e-06       91.4251    1.03e-07       0.001      521  LS failed, Hessian reset \n",
      "     366       3006.76   1.28694e-07       55.6837      0.9397      0.2424      545   \n",
      "Optimization terminated normally: \n",
      "  Convergence detected: relative gradient magnitude is below tolerance\n",
      "Initial log joint probability = -280.854\n",
      "    Iter      log prob        ||dx||      ||grad||       alpha      alpha0  # evals  Notes \n"
     ]
    },
    {
     "name": "stderr",
     "output_type": "stream",
     "text": [
      "/Users/hwangyungwan/miniforge3/envs/ds_p39/lib/python3.9/site-packages/prophet/forecaster.py:896: FutureWarning: The frame.append method is deprecated and will be removed from pandas in a future version. Use pandas.concat instead.\n",
      "  components = components.append(new_comp)\n",
      "/Users/hwangyungwan/miniforge3/envs/ds_p39/lib/python3.9/site-packages/prophet/forecaster.py:896: FutureWarning: The frame.append method is deprecated and will be removed from pandas in a future version. Use pandas.concat instead.\n",
      "  components = components.append(new_comp)\n",
      "/Users/hwangyungwan/miniforge3/envs/ds_p39/lib/python3.9/site-packages/prophet/forecaster.py:896: FutureWarning: The frame.append method is deprecated and will be removed from pandas in a future version. Use pandas.concat instead.\n",
      "  components = components.append(new_comp)\n",
      "/Users/hwangyungwan/miniforge3/envs/ds_p39/lib/python3.9/site-packages/prophet/forecaster.py:896: FutureWarning: The frame.append method is deprecated and will be removed from pandas in a future version. Use pandas.concat instead.\n",
      "  components = components.append(new_comp)\n",
      "/Users/hwangyungwan/miniforge3/envs/ds_p39/lib/python3.9/site-packages/prophet/forecaster.py:896: FutureWarning: The frame.append method is deprecated and will be removed from pandas in a future version. Use pandas.concat instead.\n",
      "  components = components.append(new_comp)\n",
      "/Users/hwangyungwan/miniforge3/envs/ds_p39/lib/python3.9/site-packages/prophet/forecaster.py:896: FutureWarning: The frame.append method is deprecated and will be removed from pandas in a future version. Use pandas.concat instead.\n",
      "  components = components.append(new_comp)\n"
     ]
    },
    {
     "name": "stdout",
     "output_type": "stream",
     "text": [
      "Initial log joint probability = -9.06963\n",
      "    Iter      log prob        ||dx||      ||grad||       alpha      alpha0  # evals  Notes \n",
      "      97       4038.12    0.00102218        346.52   4.132e-06       0.001      155  LS failed, Hessian reset \n",
      "      99       4038.29    0.00075217       144.007           1           1      157   \n",
      "    Iter      log prob        ||dx||      ||grad||       alpha      alpha0  # evals  Notes \n",
      "     164       4044.21   0.000645427       243.716   4.476e-06       0.001      265  LS failed, Hessian reset \n",
      "      99       4466.75   0.000291123        93.397      0.2958           1      127   \n",
      "    Iter      log prob        ||dx||      ||grad||       alpha      alpha0  # evals  Notes \n",
      "     199       4046.73   0.000205757       85.6115           1           1      306   \n",
      "    Iter      log prob        ||dx||      ||grad||       alpha      alpha0  # evals  Notes \n",
      "     149       4466.78   1.71353e-07       82.7992      0.5117      0.5117      189   \n",
      "Optimization terminated normally: \n",
      "  Convergence detected: relative gradient magnitude is below tolerance\n",
      "     248       4048.14    0.00045485       212.404   1.373e-06       0.001      407  LS failed, Hessian reset \n",
      "     299       4050.49   0.000187984       57.8127           1           1      472   \n",
      "    Iter      log prob        ||dx||      ||grad||       alpha      alpha0  # evals  Notes \n"
     ]
    },
    {
     "name": "stderr",
     "output_type": "stream",
     "text": [
      "/Users/hwangyungwan/miniforge3/envs/ds_p39/lib/python3.9/site-packages/prophet/forecaster.py:896: FutureWarning: The frame.append method is deprecated and will be removed from pandas in a future version. Use pandas.concat instead.\n",
      "  components = components.append(new_comp)\n",
      "/Users/hwangyungwan/miniforge3/envs/ds_p39/lib/python3.9/site-packages/prophet/forecaster.py:896: FutureWarning: The frame.append method is deprecated and will be removed from pandas in a future version. Use pandas.concat instead.\n",
      "  components = components.append(new_comp)\n",
      "/Users/hwangyungwan/miniforge3/envs/ds_p39/lib/python3.9/site-packages/prophet/forecaster.py:896: FutureWarning: The frame.append method is deprecated and will be removed from pandas in a future version. Use pandas.concat instead.\n",
      "  components = components.append(new_comp)\n",
      "/Users/hwangyungwan/miniforge3/envs/ds_p39/lib/python3.9/site-packages/prophet/forecaster.py:896: FutureWarning: The frame.append method is deprecated and will be removed from pandas in a future version. Use pandas.concat instead.\n",
      "  components = components.append(new_comp)\n"
     ]
    },
    {
     "name": "stdout",
     "output_type": "stream",
     "text": [
      "     335       4050.53   2.22288e-06       55.8812   6.496e-08       0.001      554  LS failed, Hessian reset \n",
      "     346       4050.53   1.56746e-07       25.9214      0.2223           1      573   \n",
      "Optimization terminated normally: \n",
      "  Convergence detected: relative gradient magnitude is below tolerance\n"
     ]
    },
    {
     "name": "stderr",
     "output_type": "stream",
     "text": [
      "/Users/hwangyungwan/Library/Mobile Documents/com~apple~CloudDocs/Documents/study/data_science/machine_learning/time_series_forecaster/models/ts_prophet_gridsearch.py:162: FutureWarning: The frame.append method is deprecated and will be removed from pandas in a future version. Use pandas.concat instead.\n",
      "  df_perf_metrics_all = df_perf_metrics_all.append(df_perf_metrics)\n",
      "INFO:prophet:Making 11 forecasts with cutoffs between 2017-01-19 00:00:00 and 2021-12-24 00:00:00\n",
      "WARNING:prophet:Seasonality has period of 365.25 days which is larger than initial window. Consider increasing initial.\n",
      "INFO:prophet:Applying in parallel with <concurrent.futures.process.ProcessPoolExecutor object at 0x132b152b0>\n",
      "/Users/hwangyungwan/miniforge3/envs/ds_p39/lib/python3.9/site-packages/prophet/forecaster.py:896: FutureWarning: The frame.append method is deprecated and will be removed from pandas in a future version. Use pandas.concat instead.\n",
      "  components = components.append(new_comp)\n",
      "/Users/hwangyungwan/miniforge3/envs/ds_p39/lib/python3.9/site-packages/prophet/forecaster.py:896: FutureWarning: The frame.append method is deprecated and will be removed from pandas in a future version. Use pandas.concat instead.\n",
      "  components = components.append(new_comp)\n",
      "/Users/hwangyungwan/miniforge3/envs/ds_p39/lib/python3.9/site-packages/prophet/forecaster.py:896: FutureWarning: The frame.append method is deprecated and will be removed from pandas in a future version. Use pandas.concat instead.\n",
      "  components = components.append(new_comp)\n",
      "/Users/hwangyungwan/miniforge3/envs/ds_p39/lib/python3.9/site-packages/prophet/forecaster.py:896: FutureWarning: The frame.append method is deprecated and will be removed from pandas in a future version. Use pandas.concat instead.\n",
      "  components = components.append(new_comp)\n",
      "/Users/hwangyungwan/miniforge3/envs/ds_p39/lib/python3.9/site-packages/prophet/forecaster.py:896: FutureWarning: The frame.append method is deprecated and will be removed from pandas in a future version. Use pandas.concat instead.\n",
      "  components = components.append(new_comp)\n",
      "/Users/hwangyungwan/miniforge3/envs/ds_p39/lib/python3.9/site-packages/prophet/forecaster.py:896: FutureWarning: The frame.append method is deprecated and will be removed from pandas in a future version. Use pandas.concat instead.\n",
      "  components = components.append(new_comp)\n"
     ]
    },
    {
     "name": "stdout",
     "output_type": "stream",
     "text": [
      "Initial log joint probability = -6.54808\n",
      "    Iter      log prob        ||dx||      ||grad||       alpha      alpha0  # evals  Notes \n",
      "Initial log joint probability = -4.10046\n",
      "    Iter      log prob        ||dx||      ||grad||       alpha      alpha0  # evals  Notes \n",
      "      99       3000.52    1.9269e-05       70.7918      0.2303           1      135   \n",
      "    Iter      log prob        ||dx||      ||grad||       alpha      alpha0  # evals  Notes \n",
      "      99       1133.93   6.04135e-06       96.9903      0.3668      0.3668      133   \n",
      "    Iter      log prob        ||dx||      ||grad||       alpha      alpha0  # evals  Notes \n",
      "     117       1134.04   0.000487226       102.351   5.016e-06       0.001      190  LS failed, Hessian reset \n",
      "     177       1134.08   6.51647e-08       98.9569       0.196           1      266   \n",
      "Optimization terminated normally: \n",
      "  Convergence detected: relative gradient magnitude is below tolerance\n",
      "     130       3000.55   0.000180656       99.0906   2.055e-06       0.001      213  LS failed, Hessian reset \n",
      "     199       3000.57   5.22912e-06       68.1841           1           1      297   \n",
      "    Iter      log prob        ||dx||      ||grad||       alpha      alpha0  # evals  Notes \n",
      "     218       3000.57   2.19185e-07       71.1873      0.3845           1      327   \n",
      "Optimization terminated normally: \n",
      "  Convergence detected: relative gradient magnitude is below tolerance\n",
      "Initial log joint probability = -5.77637\n",
      "    Iter      log prob        ||dx||      ||grad||       alpha      alpha0  # evals  Notes \n"
     ]
    },
    {
     "name": "stderr",
     "output_type": "stream",
     "text": [
      "/Users/hwangyungwan/miniforge3/envs/ds_p39/lib/python3.9/site-packages/prophet/forecaster.py:896: FutureWarning: The frame.append method is deprecated and will be removed from pandas in a future version. Use pandas.concat instead.\n",
      "  components = components.append(new_comp)\n",
      "/Users/hwangyungwan/miniforge3/envs/ds_p39/lib/python3.9/site-packages/prophet/forecaster.py:896: FutureWarning: The frame.append method is deprecated and will be removed from pandas in a future version. Use pandas.concat instead.\n",
      "  components = components.append(new_comp)\n",
      "/Users/hwangyungwan/miniforge3/envs/ds_p39/lib/python3.9/site-packages/prophet/forecaster.py:896: FutureWarning: The frame.append method is deprecated and will be removed from pandas in a future version. Use pandas.concat instead.\n",
      "  components = components.append(new_comp)\n"
     ]
    },
    {
     "name": "stdout",
     "output_type": "stream",
     "text": [
      "      99       2233.01   1.07732e-05       95.6251      0.6176           1      141   \n",
      "    Iter      log prob        ||dx||      ||grad||       alpha      alpha0  # evals  Notes \n",
      "Initial log joint probability = -4.73187\n",
      "    Iter      log prob        ||dx||      ||grad||       alpha      alpha0  # evals  Notes \n",
      "     199       2233.11   5.81662e-05       94.8603           1           1      256   \n",
      "    Iter      log prob        ||dx||      ||grad||       alpha      alpha0  # evals  Notes \n",
      "      99       1478.89   0.000452846        69.662           1           1      121   \n",
      "    Iter      log prob        ||dx||      ||grad||       alpha      alpha0  # evals  Notes \n",
      "     199       1478.95    2.0825e-05       84.7361           1           1      252   \n",
      "    Iter      log prob        ||dx||      ||grad||       alpha      alpha0  # evals  Notes \n",
      "     291       2233.15    7.1563e-05       88.8431   8.579e-07       0.001      402  LS failed, Hessian reset \n",
      "     299       2233.15   1.76304e-05       83.9992      0.3782           1      413   \n",
      "    Iter      log prob        ||dx||      ||grad||       alpha      alpha0  # evals  Notes \n",
      "Initial log joint probability = -3.23946\n",
      "    Iter      log prob        ||dx||      ||grad||       alpha      alpha0  # evals  Notes \n",
      "     299       1479.02   1.39104e-06       70.8153        2.02      0.4523      377   \n",
      "    Iter      log prob        ||dx||      ||grad||       alpha      alpha0  # evals  Notes \n",
      "      99        791.13   8.15704e-05       101.922           1           1      129   \n",
      "    Iter      log prob        ||dx||      ||grad||       alpha      alpha0  # evals  Notes \n",
      "     399       2233.16   6.66989e-07       91.2607      0.6664      0.6664      539   \n",
      "    Iter      log prob        ||dx||      ||grad||       alpha      alpha0  # evals  Notes \n",
      "     150       791.137   5.40014e-07       101.832   5.294e-09       0.001      230  LS failed, Hessian reset \n",
      "     162       791.137   1.61356e-08       92.5155      0.2547           1      246   \n",
      "Optimization terminated normally: \n",
      "  Convergence detected: relative gradient magnitude is below tolerance\n",
      "     399       1479.04   1.89283e-05       72.5631      0.2986           1      506   \n",
      "    Iter      log prob        ||dx||      ||grad||       alpha      alpha0  # evals  Notes \n"
     ]
    },
    {
     "name": "stderr",
     "output_type": "stream",
     "text": [
      "/Users/hwangyungwan/miniforge3/envs/ds_p39/lib/python3.9/site-packages/prophet/forecaster.py:896: FutureWarning: The frame.append method is deprecated and will be removed from pandas in a future version. Use pandas.concat instead.\n",
      "  components = components.append(new_comp)\n",
      "/Users/hwangyungwan/miniforge3/envs/ds_p39/lib/python3.9/site-packages/prophet/forecaster.py:896: FutureWarning: The frame.append method is deprecated and will be removed from pandas in a future version. Use pandas.concat instead.\n",
      "  components = components.append(new_comp)\n",
      "/Users/hwangyungwan/miniforge3/envs/ds_p39/lib/python3.9/site-packages/prophet/forecaster.py:896: FutureWarning: The frame.append method is deprecated and will be removed from pandas in a future version. Use pandas.concat instead.\n",
      "  components = components.append(new_comp)\n",
      "/Users/hwangyungwan/miniforge3/envs/ds_p39/lib/python3.9/site-packages/prophet/forecaster.py:896: FutureWarning: The frame.append method is deprecated and will be removed from pandas in a future version. Use pandas.concat instead.\n",
      "  components = components.append(new_comp)\n",
      "/Users/hwangyungwan/miniforge3/envs/ds_p39/lib/python3.9/site-packages/prophet/forecaster.py:896: FutureWarning: The frame.append method is deprecated and will be removed from pandas in a future version. Use pandas.concat instead.\n",
      "  components = components.append(new_comp)\n",
      "/Users/hwangyungwan/miniforge3/envs/ds_p39/lib/python3.9/site-packages/prophet/forecaster.py:896: FutureWarning: The frame.append method is deprecated and will be removed from pandas in a future version. Use pandas.concat instead.\n",
      "  components = components.append(new_comp)\n",
      "/Users/hwangyungwan/miniforge3/envs/ds_p39/lib/python3.9/site-packages/prophet/forecaster.py:896: FutureWarning: The frame.append method is deprecated and will be removed from pandas in a future version. Use pandas.concat instead.\n",
      "  components = components.append(new_comp)\n",
      "/Users/hwangyungwan/miniforge3/envs/ds_p39/lib/python3.9/site-packages/prophet/forecaster.py:896: FutureWarning: The frame.append method is deprecated and will be removed from pandas in a future version. Use pandas.concat instead.\n",
      "  components = components.append(new_comp)\n"
     ]
    },
    {
     "name": "stdout",
     "output_type": "stream",
     "text": [
      "     465       2233.16   2.72673e-07       83.0003      0.3871           1      618   \n",
      "Optimization terminated normally: \n",
      "  Convergence detected: relative gradient magnitude is below tolerance\n",
      "     466       1479.05   1.00786e-07       67.2255           1           1      597   \n",
      "Optimization terminated normally: \n",
      "  Convergence detected: relative gradient magnitude is below tolerance\n",
      "Initial log joint probability = -4.94519\n",
      "    Iter      log prob        ||dx||      ||grad||       alpha      alpha0  # evals  Notes \n",
      "Initial log joint probability = -7.69426\n",
      "    Iter      log prob        ||dx||      ||grad||       alpha      alpha0  # evals  Notes \n",
      "      99       1896.97   3.45174e-06       106.943      0.2573      0.2573      128   \n",
      "    Iter      log prob        ||dx||      ||grad||       alpha      alpha0  # evals  Notes \n",
      "     136       1896.97   6.87948e-08       94.5604      0.2281           1      173   \n",
      "Optimization terminated normally: \n",
      "  Convergence detected: relative gradient magnitude is below tolerance\n",
      "Initial log joint probability = -6.39454\n",
      "    Iter      log prob        ||dx||      ||grad||       alpha      alpha0  # evals  Notes \n",
      "      72       2586.14   6.88611e-05       65.9161   1.076e-06       0.001      137  LS failed, Hessian reset \n",
      "      99       3342.72    7.6395e-05       85.5895           1           1      116   \n",
      "    Iter      log prob        ||dx||      ||grad||       alpha      alpha0  # evals  Notes \n"
     ]
    },
    {
     "name": "stderr",
     "output_type": "stream",
     "text": [
      "/Users/hwangyungwan/miniforge3/envs/ds_p39/lib/python3.9/site-packages/prophet/forecaster.py:896: FutureWarning: The frame.append method is deprecated and will be removed from pandas in a future version. Use pandas.concat instead.\n",
      "  components = components.append(new_comp)\n",
      "/Users/hwangyungwan/miniforge3/envs/ds_p39/lib/python3.9/site-packages/prophet/forecaster.py:896: FutureWarning: The frame.append method is deprecated and will be removed from pandas in a future version. Use pandas.concat instead.\n",
      "  components = components.append(new_comp)\n",
      "/Users/hwangyungwan/miniforge3/envs/ds_p39/lib/python3.9/site-packages/prophet/forecaster.py:896: FutureWarning: The frame.append method is deprecated and will be removed from pandas in a future version. Use pandas.concat instead.\n",
      "  components = components.append(new_comp)\n"
     ]
    },
    {
     "name": "stdout",
     "output_type": "stream",
     "text": [
      "      80       2586.14   3.51279e-06       38.9704   7.209e-08       0.001      196  LS failed, Hessian reset \n",
      "     112       3342.74   3.53646e-05       88.2866   5.004e-07       0.001      169  LS failed, Hessian reset \n",
      "      99       2586.15   1.16492e-07       55.1846       0.045       0.045      230   \n",
      "    Iter      log prob        ||dx||      ||grad||       alpha      alpha0  # evals  Notes \n",
      "     162       3342.75   8.54117e-08       94.0291      0.2293           1      235   \n",
      "Optimization terminated normally: \n",
      "  Convergence detected: relative gradient magnitude is below tolerance\n",
      "     159       2586.26   0.000138099       64.7083   2.911e-06       0.001      366  LS failed, Hessian reset \n",
      "     199       2586.27   6.79864e-05       87.1443           1           1      421   \n"
     ]
    },
    {
     "name": "stderr",
     "output_type": "stream",
     "text": [
      "/Users/hwangyungwan/miniforge3/envs/ds_p39/lib/python3.9/site-packages/prophet/forecaster.py:896: FutureWarning: The frame.append method is deprecated and will be removed from pandas in a future version. Use pandas.concat instead.\n",
      "  components = components.append(new_comp)\n",
      "/Users/hwangyungwan/miniforge3/envs/ds_p39/lib/python3.9/site-packages/prophet/forecaster.py:896: FutureWarning: The frame.append method is deprecated and will be removed from pandas in a future version. Use pandas.concat instead.\n",
      "  components = components.append(new_comp)\n",
      "/Users/hwangyungwan/miniforge3/envs/ds_p39/lib/python3.9/site-packages/prophet/forecaster.py:896: FutureWarning: The frame.append method is deprecated and will be removed from pandas in a future version. Use pandas.concat instead.\n",
      "  components = components.append(new_comp)\n",
      "/Users/hwangyungwan/miniforge3/envs/ds_p39/lib/python3.9/site-packages/prophet/forecaster.py:896: FutureWarning: The frame.append method is deprecated and will be removed from pandas in a future version. Use pandas.concat instead.\n",
      "  components = components.append(new_comp)\n"
     ]
    },
    {
     "name": "stdout",
     "output_type": "stream",
     "text": [
      "    Iter      log prob        ||dx||      ||grad||       alpha      alpha0  # evals  Notes \n",
      "Initial log joint probability = -8.27299\n",
      "    Iter      log prob        ||dx||      ||grad||       alpha      alpha0  # evals  Notes \n",
      "     299       2586.29    8.9182e-07       44.8655      0.2257      0.7371      553   \n",
      "    Iter      log prob        ||dx||      ||grad||       alpha      alpha0  # evals  Notes \n",
      "     322       2586.29   1.32633e-06       63.1557      0.4846      0.4846      587   \n",
      "Optimization terminated normally: \n",
      "  Convergence detected: relative gradient magnitude is below tolerance\n",
      "      52       3685.13   7.50196e-05       67.4196   1.068e-06       0.001      107  LS failed, Hessian reset \n",
      "Initial log joint probability = -280.854\n",
      "    Iter      log prob        ||dx||      ||grad||       alpha      alpha0  # evals  Notes \n"
     ]
    },
    {
     "name": "stderr",
     "output_type": "stream",
     "text": [
      "/Users/hwangyungwan/miniforge3/envs/ds_p39/lib/python3.9/site-packages/prophet/forecaster.py:896: FutureWarning: The frame.append method is deprecated and will be removed from pandas in a future version. Use pandas.concat instead.\n",
      "  components = components.append(new_comp)\n",
      "/Users/hwangyungwan/miniforge3/envs/ds_p39/lib/python3.9/site-packages/prophet/forecaster.py:896: FutureWarning: The frame.append method is deprecated and will be removed from pandas in a future version. Use pandas.concat instead.\n",
      "  components = components.append(new_comp)\n"
     ]
    },
    {
     "name": "stdout",
     "output_type": "stream",
     "text": [
      "      99       3685.31   0.000312653       49.3245      0.7834      0.7834      168   \n",
      "    Iter      log prob        ||dx||      ||grad||       alpha      alpha0  # evals  Notes \n",
      "      99       4031.25    0.00763819       212.635           1           1      136   \n",
      "    Iter      log prob        ||dx||      ||grad||       alpha      alpha0  # evals  Notes \n",
      "     199       3685.34   5.10841e-05       88.8934           1           1      300   \n",
      "    Iter      log prob        ||dx||      ||grad||       alpha      alpha0  # evals  Notes \n",
      "     231       3685.34   2.64193e-07        73.099           1           1      342   \n",
      "Optimization terminated normally: \n",
      "  Convergence detected: relative gradient magnitude is below tolerance\n",
      "     187        4037.9   0.000314065       161.248    1.61e-06       0.001      279  LS failed, Hessian reset \n"
     ]
    },
    {
     "name": "stderr",
     "output_type": "stream",
     "text": [
      "/Users/hwangyungwan/miniforge3/envs/ds_p39/lib/python3.9/site-packages/prophet/forecaster.py:896: FutureWarning: The frame.append method is deprecated and will be removed from pandas in a future version. Use pandas.concat instead.\n",
      "  components = components.append(new_comp)\n",
      "/Users/hwangyungwan/miniforge3/envs/ds_p39/lib/python3.9/site-packages/prophet/forecaster.py:896: FutureWarning: The frame.append method is deprecated and will be removed from pandas in a future version. Use pandas.concat instead.\n",
      "  components = components.append(new_comp)\n",
      "/Users/hwangyungwan/miniforge3/envs/ds_p39/lib/python3.9/site-packages/prophet/forecaster.py:896: FutureWarning: The frame.append method is deprecated and will be removed from pandas in a future version. Use pandas.concat instead.\n",
      "  components = components.append(new_comp)\n"
     ]
    },
    {
     "name": "stdout",
     "output_type": "stream",
     "text": [
      "     199       4038.86    0.00128502       71.2049      0.8794      0.8794      293   \n",
      "    Iter      log prob        ||dx||      ||grad||       alpha      alpha0  # evals  Notes \n",
      "Initial log joint probability = -9.06963\n",
      "    Iter      log prob        ||dx||      ||grad||       alpha      alpha0  # evals  Notes \n",
      "     299       4042.62   4.28235e-05       42.5014      0.7515      0.7515      414   \n",
      "    Iter      log prob        ||dx||      ||grad||       alpha      alpha0  # evals  Notes \n",
      "     331       4042.63   3.83797e-05       58.9939   5.745e-07       0.001      496  LS failed, Hessian reset \n",
      "      54       4459.12   0.000159448       76.1102   1.911e-06       0.001      102  LS failed, Hessian reset \n",
      "     336       4042.63   1.29259e-06       44.0076   5.451e-08       0.001      543  LS failed, Hessian reset \n",
      "      99       4459.15   0.000487803       121.246           1           1      160   \n",
      "    Iter      log prob        ||dx||      ||grad||       alpha      alpha0  # evals  Notes \n",
      "     348       4042.63      7.28e-09       39.4844    0.004779      0.0119      565   \n",
      "Optimization terminated normally: \n",
      "  Convergence detected: absolute parameter change was below tolerance\n",
      "     188       4459.28   1.17604e-06       82.0234      0.2071           1      260   \n",
      "Optimization terminated normally: \n",
      "  Convergence detected: relative gradient magnitude is below tolerance\n"
     ]
    },
    {
     "name": "stderr",
     "output_type": "stream",
     "text": [
      "/Users/hwangyungwan/miniforge3/envs/ds_p39/lib/python3.9/site-packages/prophet/forecaster.py:896: FutureWarning: The frame.append method is deprecated and will be removed from pandas in a future version. Use pandas.concat instead.\n",
      "  components = components.append(new_comp)\n",
      "/Users/hwangyungwan/miniforge3/envs/ds_p39/lib/python3.9/site-packages/prophet/forecaster.py:896: FutureWarning: The frame.append method is deprecated and will be removed from pandas in a future version. Use pandas.concat instead.\n",
      "  components = components.append(new_comp)\n",
      "/Users/hwangyungwan/miniforge3/envs/ds_p39/lib/python3.9/site-packages/prophet/forecaster.py:896: FutureWarning: The frame.append method is deprecated and will be removed from pandas in a future version. Use pandas.concat instead.\n",
      "  components = components.append(new_comp)\n",
      "/Users/hwangyungwan/miniforge3/envs/ds_p39/lib/python3.9/site-packages/prophet/forecaster.py:896: FutureWarning: The frame.append method is deprecated and will be removed from pandas in a future version. Use pandas.concat instead.\n",
      "  components = components.append(new_comp)\n",
      "/Users/hwangyungwan/Library/Mobile Documents/com~apple~CloudDocs/Documents/study/data_science/machine_learning/time_series_forecaster/models/ts_prophet_gridsearch.py:162: FutureWarning: The frame.append method is deprecated and will be removed from pandas in a future version. Use pandas.concat instead.\n",
      "  df_perf_metrics_all = df_perf_metrics_all.append(df_perf_metrics)\n",
      "INFO:prophet:Making 11 forecasts with cutoffs between 2017-01-19 00:00:00 and 2021-12-24 00:00:00\n",
      "WARNING:prophet:Seasonality has period of 365.25 days which is larger than initial window. Consider increasing initial.\n",
      "INFO:prophet:Applying in parallel with <concurrent.futures.process.ProcessPoolExecutor object at 0x131a375b0>\n",
      "/Users/hwangyungwan/miniforge3/envs/ds_p39/lib/python3.9/site-packages/prophet/forecaster.py:896: FutureWarning: The frame.append method is deprecated and will be removed from pandas in a future version. Use pandas.concat instead.\n",
      "  components = components.append(new_comp)\n",
      "/Users/hwangyungwan/miniforge3/envs/ds_p39/lib/python3.9/site-packages/prophet/forecaster.py:896: FutureWarning: The frame.append method is deprecated and will be removed from pandas in a future version. Use pandas.concat instead.\n",
      "  components = components.append(new_comp)\n"
     ]
    },
    {
     "name": "stdout",
     "output_type": "stream",
     "text": [
      "Initial log joint probability = -4.73187\n",
      "    Iter      log prob        ||dx||      ||grad||       alpha      alpha0  # evals  Notes \n",
      "      72       1475.97   8.73032e-05       71.6672   1.286e-06       0.001      121  LS failed, Hessian reset \n",
      "      99       1475.97   1.07404e-07       46.1426      0.2121      0.2121      157   \n",
      "    Iter      log prob        ||dx||      ||grad||       alpha      alpha0  # evals  Notes \n",
      "     199       1476.08   6.02753e-05       63.9311      0.7396      0.7396      276   \n",
      "    Iter      log prob        ||dx||      ||grad||       alpha      alpha0  # evals  Notes \n",
      "     299       1476.12   4.82078e-05       89.5975           1           1      400   \n",
      "    Iter      log prob        ||dx||      ||grad||       alpha      alpha0  # evals  Notes \n",
      "Initial log joint probability = -5.77637\n",
      "    Iter      log prob        ||dx||      ||grad||       alpha      alpha0  # evals  Notes \n",
      "     374        1476.2   0.000365824       64.9286   4.412e-06       0.001      535  LS failed, Hessian reset \n",
      "     399       1476.25   8.89321e-05       68.2898           1           1      567   \n",
      "    Iter      log prob        ||dx||      ||grad||       alpha      alpha0  # evals  Notes \n",
      "     443       1476.29   4.56822e-05       94.1106   6.056e-07       0.001      653  LS failed, Hessian reset \n",
      "      99       2233.77   6.15574e-05       87.2154           1           1      137   \n",
      "    Iter      log prob        ||dx||      ||grad||       alpha      alpha0  # evals  Notes \n",
      "     486       1476.29    1.5025e-06       70.0669   2.049e-08       0.001      743  LS failed, Hessian reset \n",
      "     497       1476.29   3.20146e-08       67.0487     0.08556           1      758   \n",
      "Optimization terminated normally: \n",
      "  Convergence detected: relative gradient magnitude is below tolerance\n"
     ]
    },
    {
     "name": "stderr",
     "output_type": "stream",
     "text": [
      "/Users/hwangyungwan/miniforge3/envs/ds_p39/lib/python3.9/site-packages/prophet/forecaster.py:896: FutureWarning: The frame.append method is deprecated and will be removed from pandas in a future version. Use pandas.concat instead.\n",
      "  components = components.append(new_comp)\n",
      "/Users/hwangyungwan/miniforge3/envs/ds_p39/lib/python3.9/site-packages/prophet/forecaster.py:896: FutureWarning: The frame.append method is deprecated and will be removed from pandas in a future version. Use pandas.concat instead.\n",
      "  components = components.append(new_comp)\n",
      "/Users/hwangyungwan/miniforge3/envs/ds_p39/lib/python3.9/site-packages/prophet/forecaster.py:896: FutureWarning: The frame.append method is deprecated and will be removed from pandas in a future version. Use pandas.concat instead.\n",
      "  components = components.append(new_comp)\n",
      "/Users/hwangyungwan/miniforge3/envs/ds_p39/lib/python3.9/site-packages/prophet/forecaster.py:896: FutureWarning: The frame.append method is deprecated and will be removed from pandas in a future version. Use pandas.concat instead.\n",
      "  components = components.append(new_comp)\n",
      "/Users/hwangyungwan/miniforge3/envs/ds_p39/lib/python3.9/site-packages/prophet/forecaster.py:896: FutureWarning: The frame.append method is deprecated and will be removed from pandas in a future version. Use pandas.concat instead.\n",
      "  components = components.append(new_comp)\n",
      "/Users/hwangyungwan/miniforge3/envs/ds_p39/lib/python3.9/site-packages/prophet/forecaster.py:896: FutureWarning: The frame.append method is deprecated and will be removed from pandas in a future version. Use pandas.concat instead.\n",
      "  components = components.append(new_comp)\n"
     ]
    },
    {
     "name": "stdout",
     "output_type": "stream",
     "text": [
      "     161       2233.78   3.06254e-06       92.6086   3.192e-08       0.001      254  LS failed, Hessian reset \n",
      "     179       2233.78   8.46334e-08       71.7805     0.07633           1      278   \n",
      "Optimization terminated normally: \n",
      "  Convergence detected: relative gradient magnitude is below tolerance\n",
      "Initial log joint probability = -6.39454\n",
      "    Iter      log prob        ||dx||      ||grad||       alpha      alpha0  # evals  Notes \n",
      "      95       2586.86   0.000702713       78.9319   1.294e-05       0.001      210  LS failed, Hessian reset \n",
      "      99       2586.87   0.000127833       35.7367           1           1      214   \n",
      "    Iter      log prob        ||dx||      ||grad||       alpha      alpha0  # evals  Notes \n",
      "Initial log joint probability = -6.54808\n",
      "    Iter      log prob        ||dx||      ||grad||       alpha      alpha0  # evals  Notes \n",
      "     199       2587.16     0.0047969       65.3097       0.848       0.848      356   \n",
      "    Iter      log prob        ||dx||      ||grad||       alpha      alpha0  # evals  Notes \n",
      "      99       3001.17   4.30978e-06       82.9133      0.6391      0.6391      137   \n",
      "    Iter      log prob        ||dx||      ||grad||       alpha      alpha0  # evals  Notes \n",
      "     299       2592.19    0.00040977       72.2762      0.1005           1      480   \n",
      "    Iter      log prob        ||dx||      ||grad||       alpha      alpha0  # evals  Notes \n",
      "Initial log joint probability = -4.94519\n",
      "    Iter      log prob        ||dx||      ||grad||       alpha      alpha0  # evals  Notes \n",
      "     129       3001.19    0.00019775       82.1777   2.096e-06       0.001      209  LS failed, Hessian reset \n",
      "     300       2592.19    0.00018074        27.583   2.501e-06       0.001      523  LS failed, Hessian reset \n",
      "     199       3001.21   1.87574e-05       83.3247           1           1      301   \n",
      "    Iter      log prob        ||dx||      ||grad||       alpha      alpha0  # evals  Notes \n",
      "      96       1892.64   2.55958e-05       84.3621   3.305e-07       0.001      153  LS failed, Hessian reset \n",
      "      99       1892.64   5.62659e-06       68.4527           1           1      158   \n",
      "    Iter      log prob        ||dx||      ||grad||       alpha      alpha0  # evals  Notes \n",
      "     216       3001.23   0.000147209        82.762   1.548e-06       0.001      354  LS failed, Hessian reset \n",
      "Initial log joint probability = -3.23946\n",
      "    Iter      log prob        ||dx||      ||grad||       alpha      alpha0  # evals  Notes \n",
      "     199       1892.72    0.00113349       94.7666       0.335           1      274   \n",
      "    Iter      log prob        ||dx||      ||grad||       alpha      alpha0  # evals  Notes \n",
      "     363       2592.24   1.68826e-06       37.4139    2.93e-08       0.001      683  LS failed, Hessian reset \n",
      "      99       790.724   2.26811e-06       98.5363      0.4525      0.4525      128   \n",
      "    Iter      log prob        ||dx||      ||grad||       alpha      alpha0  # evals  Notes \n",
      "     375       2592.24   6.75885e-07       46.4122      0.2737           1      700   \n",
      "Optimization terminated normally: \n",
      "  Convergence detected: relative gradient magnitude is below tolerance\n",
      "     154       790.731   5.24389e-05       98.6627   5.172e-07       0.001      244  LS failed, Hessian reset \n",
      "     299       3001.25   2.58228e-08       84.7057     0.02922     0.02922      463   \n",
      "    Iter      log prob        ||dx||      ||grad||       alpha      alpha0  # evals  Notes \n",
      "     191       790.735    2.7648e-08       96.9416      0.2269           1      294   \n",
      "Optimization terminated normally: \n",
      "  Convergence detected: relative gradient magnitude is below tolerance\n",
      "     311       3001.25    8.1018e-08       72.5898       0.527       0.527      476   \n",
      "Optimization terminated normally: \n",
      "  Convergence detected: relative gradient magnitude is below tolerance\n",
      "     290       1892.77   9.09064e-08       89.0811      0.6325      0.6325      385   \n",
      "Optimization terminated normally: \n",
      "  Convergence detected: relative gradient magnitude is below tolerance\n"
     ]
    },
    {
     "name": "stderr",
     "output_type": "stream",
     "text": [
      "/Users/hwangyungwan/miniforge3/envs/ds_p39/lib/python3.9/site-packages/prophet/forecaster.py:896: FutureWarning: The frame.append method is deprecated and will be removed from pandas in a future version. Use pandas.concat instead.\n",
      "  components = components.append(new_comp)\n",
      "/Users/hwangyungwan/miniforge3/envs/ds_p39/lib/python3.9/site-packages/prophet/forecaster.py:896: FutureWarning: The frame.append method is deprecated and will be removed from pandas in a future version. Use pandas.concat instead.\n",
      "  components = components.append(new_comp)\n",
      "/Users/hwangyungwan/miniforge3/envs/ds_p39/lib/python3.9/site-packages/prophet/forecaster.py:896: FutureWarning: The frame.append method is deprecated and will be removed from pandas in a future version. Use pandas.concat instead.\n",
      "  components = components.append(new_comp)\n",
      "/Users/hwangyungwan/miniforge3/envs/ds_p39/lib/python3.9/site-packages/prophet/forecaster.py:896: FutureWarning: The frame.append method is deprecated and will be removed from pandas in a future version. Use pandas.concat instead.\n",
      "  components = components.append(new_comp)\n",
      "/Users/hwangyungwan/miniforge3/envs/ds_p39/lib/python3.9/site-packages/prophet/forecaster.py:896: FutureWarning: The frame.append method is deprecated and will be removed from pandas in a future version. Use pandas.concat instead.\n",
      "  components = components.append(new_comp)\n",
      "/Users/hwangyungwan/miniforge3/envs/ds_p39/lib/python3.9/site-packages/prophet/forecaster.py:896: FutureWarning: The frame.append method is deprecated and will be removed from pandas in a future version. Use pandas.concat instead.\n",
      "  components = components.append(new_comp)\n",
      "/Users/hwangyungwan/miniforge3/envs/ds_p39/lib/python3.9/site-packages/prophet/forecaster.py:896: FutureWarning: The frame.append method is deprecated and will be removed from pandas in a future version. Use pandas.concat instead.\n",
      "  components = components.append(new_comp)\n",
      "/Users/hwangyungwan/miniforge3/envs/ds_p39/lib/python3.9/site-packages/prophet/forecaster.py:896: FutureWarning: The frame.append method is deprecated and will be removed from pandas in a future version. Use pandas.concat instead.\n",
      "  components = components.append(new_comp)\n",
      "/Users/hwangyungwan/miniforge3/envs/ds_p39/lib/python3.9/site-packages/prophet/forecaster.py:896: FutureWarning: The frame.append method is deprecated and will be removed from pandas in a future version. Use pandas.concat instead.\n",
      "  components = components.append(new_comp)\n",
      "/Users/hwangyungwan/miniforge3/envs/ds_p39/lib/python3.9/site-packages/prophet/forecaster.py:896: FutureWarning: The frame.append method is deprecated and will be removed from pandas in a future version. Use pandas.concat instead.\n",
      "  components = components.append(new_comp)\n",
      "/Users/hwangyungwan/miniforge3/envs/ds_p39/lib/python3.9/site-packages/prophet/forecaster.py:896: FutureWarning: The frame.append method is deprecated and will be removed from pandas in a future version. Use pandas.concat instead.\n",
      "  components = components.append(new_comp)\n",
      "/Users/hwangyungwan/miniforge3/envs/ds_p39/lib/python3.9/site-packages/prophet/forecaster.py:896: FutureWarning: The frame.append method is deprecated and will be removed from pandas in a future version. Use pandas.concat instead.\n",
      "  components = components.append(new_comp)\n",
      "/Users/hwangyungwan/miniforge3/envs/ds_p39/lib/python3.9/site-packages/prophet/forecaster.py:896: FutureWarning: The frame.append method is deprecated and will be removed from pandas in a future version. Use pandas.concat instead.\n",
      "  components = components.append(new_comp)\n",
      "/Users/hwangyungwan/miniforge3/envs/ds_p39/lib/python3.9/site-packages/prophet/forecaster.py:896: FutureWarning: The frame.append method is deprecated and will be removed from pandas in a future version. Use pandas.concat instead.\n",
      "  components = components.append(new_comp)\n",
      "/Users/hwangyungwan/miniforge3/envs/ds_p39/lib/python3.9/site-packages/prophet/forecaster.py:896: FutureWarning: The frame.append method is deprecated and will be removed from pandas in a future version. Use pandas.concat instead.\n",
      "  components = components.append(new_comp)\n"
     ]
    },
    {
     "name": "stdout",
     "output_type": "stream",
     "text": [
      "Initial log joint probability = -7.69426\n",
      "    Iter      log prob        ||dx||      ||grad||       alpha      alpha0  # evals  Notes \n",
      "Initial log joint probability = -4.10046\n",
      "    Iter      log prob        ||dx||      ||grad||       alpha      alpha0  # evals  Notes \n",
      "      99       3345.23   0.000975203       94.6451           1           1      130   \n",
      "    Iter      log prob        ||dx||      ||grad||       alpha      alpha0  # evals  Notes \n",
      "      89       1132.64   6.21019e-08       92.4319      0.8899      0.8899      127   \n",
      "Optimization terminated normally: \n",
      "  Convergence detected: relative gradient magnitude is below tolerance\n",
      "Initial log joint probability = -8.27299\n",
      "    Iter      log prob        ||dx||      ||grad||       alpha      alpha0  # evals  Notes \n",
      "     159        3345.3   3.22436e-05       78.7608   4.017e-07       0.001      249  LS failed, Hessian reset \n",
      "Initial log joint probability = -280.854\n",
      "    Iter      log prob        ||dx||      ||grad||       alpha      alpha0  # evals  Notes \n",
      "     187        3345.3   7.86705e-08       51.7202     0.03256           1      286   \n",
      "Optimization terminated normally: \n",
      "  Convergence detected: relative gradient magnitude is below tolerance\n"
     ]
    },
    {
     "name": "stderr",
     "output_type": "stream",
     "text": [
      "/Users/hwangyungwan/miniforge3/envs/ds_p39/lib/python3.9/site-packages/prophet/forecaster.py:896: FutureWarning: The frame.append method is deprecated and will be removed from pandas in a future version. Use pandas.concat instead.\n",
      "  components = components.append(new_comp)\n",
      "/Users/hwangyungwan/miniforge3/envs/ds_p39/lib/python3.9/site-packages/prophet/forecaster.py:896: FutureWarning: The frame.append method is deprecated and will be removed from pandas in a future version. Use pandas.concat instead.\n",
      "  components = components.append(new_comp)\n",
      "/Users/hwangyungwan/miniforge3/envs/ds_p39/lib/python3.9/site-packages/prophet/forecaster.py:896: FutureWarning: The frame.append method is deprecated and will be removed from pandas in a future version. Use pandas.concat instead.\n",
      "  components = components.append(new_comp)\n"
     ]
    },
    {
     "name": "stdout",
     "output_type": "stream",
     "text": [
      "      77       3684.48    0.00028279       87.0411   3.432e-06       0.001      136  LS failed, Hessian reset \n",
      "      99       3684.51    0.00028552       58.1059           1           1      166   \n",
      "    Iter      log prob        ||dx||      ||grad||       alpha      alpha0  # evals  Notes \n",
      "      99       4031.36    0.00552272       322.545       0.769       0.769      128   \n",
      "    Iter      log prob        ||dx||      ||grad||       alpha      alpha0  # evals  Notes \n",
      "     199        3692.7    0.00281195       49.8203      0.4473      0.4473      284   \n",
      "    Iter      log prob        ||dx||      ||grad||       alpha      alpha0  # evals  Notes \n",
      "     199       4040.13    0.00126045       88.2468      0.9001      0.9001      253   \n",
      "    Iter      log prob        ||dx||      ||grad||       alpha      alpha0  # evals  Notes \n",
      "     231          3693   0.000121941       50.0845   1.893e-06       0.001      366  LS failed, Hessian reset \n",
      "     230        4042.5     0.0022259       430.082   2.214e-05       0.001      338  LS failed, Hessian reset \n",
      "     282        3693.3   0.000415277       60.4879   5.297e-06       0.001      480  LS failed, Hessian reset \n",
      "     299       3693.33   9.60358e-05       71.5672      0.1373           1      503   \n",
      "    Iter      log prob        ||dx||      ||grad||       alpha      alpha0  # evals  Notes \n",
      "     299       4045.28   0.000185864       107.387      0.5033      0.5033      419   \n",
      "    Iter      log prob        ||dx||      ||grad||       alpha      alpha0  # evals  Notes \n"
     ]
    },
    {
     "name": "stderr",
     "output_type": "stream",
     "text": [
      "/Users/hwangyungwan/miniforge3/envs/ds_p39/lib/python3.9/site-packages/prophet/forecaster.py:896: FutureWarning: The frame.append method is deprecated and will be removed from pandas in a future version. Use pandas.concat instead.\n",
      "  components = components.append(new_comp)\n",
      "/Users/hwangyungwan/miniforge3/envs/ds_p39/lib/python3.9/site-packages/prophet/forecaster.py:896: FutureWarning: The frame.append method is deprecated and will be removed from pandas in a future version. Use pandas.concat instead.\n",
      "  components = components.append(new_comp)\n",
      "/Users/hwangyungwan/miniforge3/envs/ds_p39/lib/python3.9/site-packages/prophet/forecaster.py:896: FutureWarning: The frame.append method is deprecated and will be removed from pandas in a future version. Use pandas.concat instead.\n",
      "  components = components.append(new_comp)\n"
     ]
    },
    {
     "name": "stdout",
     "output_type": "stream",
     "text": [
      "Initial log joint probability = -9.06963\n",
      "    Iter      log prob        ||dx||      ||grad||       alpha      alpha0  # evals  Notes \n",
      "     365        3693.4    5.1111e-06       38.8734       9e-08       0.001      621  LS failed, Hessian reset \n",
      "     368        3693.4   5.08878e-07       24.5209        0.32           1      625   \n",
      "Optimization terminated normally: \n",
      "  Convergence detected: relative gradient magnitude is below tolerance\n",
      "     399       4049.98    0.00138687       65.5964      0.5354           1      547   \n",
      "    Iter      log prob        ||dx||      ||grad||       alpha      alpha0  # evals  Notes \n",
      "      99       4458.63   0.000648235       100.951      0.3208           1      125   \n",
      "    Iter      log prob        ||dx||      ||grad||       alpha      alpha0  # evals  Notes \n",
      "     179       4465.74   0.000392868       215.936   3.327e-06       0.001      247  LS failed, Hessian reset \n",
      "     499       4050.31   0.000265723       55.0433       0.484       0.484      670   \n",
      "    Iter      log prob        ||dx||      ||grad||       alpha      alpha0  # evals  Notes \n",
      "     199       4466.28   9.15983e-05       84.3848      0.4222      0.4222      268   \n",
      "    Iter      log prob        ||dx||      ||grad||       alpha      alpha0  # evals  Notes \n",
      "     505       4050.33   0.000133292       94.0855   2.246e-06       0.001      714  LS failed, Hessian reset \n",
      "     530       4050.33   1.40401e-06       25.5995   3.078e-08       0.001      793  LS failed, Hessian reset \n",
      "     534       4050.33   5.21705e-07       25.2627       2.137      0.2137      800   \n",
      "Optimization terminated normally: \n",
      "  Convergence detected: relative gradient magnitude is below tolerance\n"
     ]
    },
    {
     "name": "stderr",
     "output_type": "stream",
     "text": [
      "/Users/hwangyungwan/miniforge3/envs/ds_p39/lib/python3.9/site-packages/prophet/forecaster.py:896: FutureWarning: The frame.append method is deprecated and will be removed from pandas in a future version. Use pandas.concat instead.\n",
      "  components = components.append(new_comp)\n",
      "/Users/hwangyungwan/miniforge3/envs/ds_p39/lib/python3.9/site-packages/prophet/forecaster.py:896: FutureWarning: The frame.append method is deprecated and will be removed from pandas in a future version. Use pandas.concat instead.\n",
      "  components = components.append(new_comp)\n"
     ]
    },
    {
     "name": "stdout",
     "output_type": "stream",
     "text": [
      "     299       4466.36   0.000315703       65.3935           1           1      404   \n",
      "    Iter      log prob        ||dx||      ||grad||       alpha      alpha0  # evals  Notes \n",
      "     399       4466.37   0.000208587       69.1702           1           1      532   \n",
      "    Iter      log prob        ||dx||      ||grad||       alpha      alpha0  # evals  Notes \n",
      "     458       4466.39   5.51927e-05       69.1564   6.653e-07       0.001      665  LS failed, Hessian reset \n",
      "     496       4466.52   1.53347e-05         59.07   2.891e-07       0.001      745  LS failed, Hessian reset \n",
      "     499       4466.52   1.06957e-05       56.6056           1           1      749   \n",
      "    Iter      log prob        ||dx||      ||grad||       alpha      alpha0  # evals  Notes \n",
      "     539       4466.52   3.05661e-09       77.9361    0.001439           1      812   \n",
      "Optimization terminated normally: \n",
      "  Convergence detected: absolute parameter change was below tolerance\n"
     ]
    },
    {
     "name": "stderr",
     "output_type": "stream",
     "text": [
      "/Users/hwangyungwan/miniforge3/envs/ds_p39/lib/python3.9/site-packages/prophet/forecaster.py:896: FutureWarning: The frame.append method is deprecated and will be removed from pandas in a future version. Use pandas.concat instead.\n",
      "  components = components.append(new_comp)\n",
      "/Users/hwangyungwan/miniforge3/envs/ds_p39/lib/python3.9/site-packages/prophet/forecaster.py:896: FutureWarning: The frame.append method is deprecated and will be removed from pandas in a future version. Use pandas.concat instead.\n",
      "  components = components.append(new_comp)\n",
      "/Users/hwangyungwan/Library/Mobile Documents/com~apple~CloudDocs/Documents/study/data_science/machine_learning/time_series_forecaster/models/ts_prophet_gridsearch.py:162: FutureWarning: The frame.append method is deprecated and will be removed from pandas in a future version. Use pandas.concat instead.\n",
      "  df_perf_metrics_all = df_perf_metrics_all.append(df_perf_metrics)\n",
      "INFO:prophet:Making 11 forecasts with cutoffs between 2017-01-19 00:00:00 and 2021-12-24 00:00:00\n",
      "WARNING:prophet:Seasonality has period of 365.25 days which is larger than initial window. Consider increasing initial.\n",
      "INFO:prophet:Applying in parallel with <concurrent.futures.process.ProcessPoolExecutor object at 0x131b07eb0>\n",
      "/Users/hwangyungwan/miniforge3/envs/ds_p39/lib/python3.9/site-packages/prophet/forecaster.py:896: FutureWarning: The frame.append method is deprecated and will be removed from pandas in a future version. Use pandas.concat instead.\n",
      "  components = components.append(new_comp)\n",
      "/Users/hwangyungwan/miniforge3/envs/ds_p39/lib/python3.9/site-packages/prophet/forecaster.py:896: FutureWarning: The frame.append method is deprecated and will be removed from pandas in a future version. Use pandas.concat instead.\n",
      "  components = components.append(new_comp)\n",
      "/Users/hwangyungwan/miniforge3/envs/ds_p39/lib/python3.9/site-packages/prophet/forecaster.py:896: FutureWarning: The frame.append method is deprecated and will be removed from pandas in a future version. Use pandas.concat instead.\n",
      "  components = components.append(new_comp)\n",
      "/Users/hwangyungwan/miniforge3/envs/ds_p39/lib/python3.9/site-packages/prophet/forecaster.py:896: FutureWarning: The frame.append method is deprecated and will be removed from pandas in a future version. Use pandas.concat instead.\n",
      "  components = components.append(new_comp)\n"
     ]
    },
    {
     "name": "stdout",
     "output_type": "stream",
     "text": [
      "Initial log joint probability = -3.23946\n",
      "    Iter      log prob        ||dx||      ||grad||       alpha      alpha0  # evals  Notes \n",
      "      83       788.034   0.000406568       77.5234   3.779e-06       0.001      144  LS failed, Hessian reset \n",
      "      99       788.064   1.24989e-05       100.106      0.5066      0.5066      163   \n",
      "    Iter      log prob        ||dx||      ||grad||       alpha      alpha0  # evals  Notes \n",
      "     120       788.069   5.21327e-06       92.5272   5.211e-08       0.001      226  LS failed, Hessian reset \n",
      "     163        788.07   8.86612e-09       93.0721      0.2862      0.2862      280   \n",
      "Optimization terminated normally: \n",
      "  Convergence detected: absolute parameter change was below tolerance\n",
      "Initial log joint probability = -4.73187\n",
      "    Iter      log prob        ||dx||      ||grad||       alpha      alpha0  # evals  Notes \n",
      "      99       1472.24    4.2789e-05       69.0764      0.1887           1      127   \n",
      "    Iter      log prob        ||dx||      ||grad||       alpha      alpha0  # evals  Notes \n",
      "     169       1472.26   4.32256e-05       77.2634   5.284e-07       0.001      257  LS failed, Hessian reset \n",
      "     199       1472.26   6.75495e-07       82.5062       1.997      0.4136      299   \n",
      "    Iter      log prob        ||dx||      ||grad||       alpha      alpha0  # evals  Notes \n",
      "     223       1472.26   5.08587e-08       78.8803      0.4705           1      332   \n",
      "Optimization terminated normally: \n",
      "  Convergence detected: relative gradient magnitude is below tolerance\n",
      "Initial log joint probability = -4.94519\n",
      "    Iter      log prob        ||dx||      ||grad||       alpha      alpha0  # evals  Notes \n",
      "      99       1889.18    2.5014e-06        88.483      0.3196      0.3196      130   \n",
      "    Iter      log prob        ||dx||      ||grad||       alpha      alpha0  # evals  Notes \n",
      "     126       1889.18   7.72194e-08       79.9396           1           1      169   \n",
      "Optimization terminated normally: \n",
      "  Convergence detected: relative gradient magnitude is below tolerance\n"
     ]
    },
    {
     "name": "stderr",
     "output_type": "stream",
     "text": [
      "/Users/hwangyungwan/miniforge3/envs/ds_p39/lib/python3.9/site-packages/prophet/forecaster.py:896: FutureWarning: The frame.append method is deprecated and will be removed from pandas in a future version. Use pandas.concat instead.\n",
      "  components = components.append(new_comp)\n",
      "/Users/hwangyungwan/miniforge3/envs/ds_p39/lib/python3.9/site-packages/prophet/forecaster.py:896: FutureWarning: The frame.append method is deprecated and will be removed from pandas in a future version. Use pandas.concat instead.\n",
      "  components = components.append(new_comp)\n",
      "/Users/hwangyungwan/miniforge3/envs/ds_p39/lib/python3.9/site-packages/prophet/forecaster.py:896: FutureWarning: The frame.append method is deprecated and will be removed from pandas in a future version. Use pandas.concat instead.\n",
      "  components = components.append(new_comp)\n",
      "/Users/hwangyungwan/miniforge3/envs/ds_p39/lib/python3.9/site-packages/prophet/forecaster.py:896: FutureWarning: The frame.append method is deprecated and will be removed from pandas in a future version. Use pandas.concat instead.\n",
      "  components = components.append(new_comp)\n",
      "/Users/hwangyungwan/miniforge3/envs/ds_p39/lib/python3.9/site-packages/prophet/forecaster.py:896: FutureWarning: The frame.append method is deprecated and will be removed from pandas in a future version. Use pandas.concat instead.\n",
      "  components = components.append(new_comp)\n",
      "/Users/hwangyungwan/miniforge3/envs/ds_p39/lib/python3.9/site-packages/prophet/forecaster.py:896: FutureWarning: The frame.append method is deprecated and will be removed from pandas in a future version. Use pandas.concat instead.\n",
      "  components = components.append(new_comp)\n"
     ]
    },
    {
     "name": "stdout",
     "output_type": "stream",
     "text": [
      "Initial log joint probability = -7.69426\n",
      "    Iter      log prob        ||dx||      ||grad||       alpha      alpha0  # evals  Notes \n",
      "Initial log joint probability = -5.77637\n",
      "    Iter      log prob        ||dx||      ||grad||       alpha      alpha0  # evals  Notes \n",
      "      99       3338.29   0.000610079        71.439      0.3333           1      128   \n",
      "    Iter      log prob        ||dx||      ||grad||       alpha      alpha0  # evals  Notes \n",
      "     100       3338.29   0.000118736       101.063   1.662e-06       0.001      165  LS failed, Hessian reset \n",
      "      73        2228.1    5.6378e-05       88.7149   6.468e-07       0.001      145  LS failed, Hessian reset \n",
      "      97        2228.1   5.64108e-08       70.4985      0.2456           1      178   \n",
      "Optimization terminated normally: \n",
      "  Convergence detected: relative gradient magnitude is below tolerance\n",
      "     149        3338.3    1.6522e-07       55.1029      0.8084      0.8084      234   \n",
      "Optimization terminated normally: \n",
      "  Convergence detected: relative gradient magnitude is below tolerance\n"
     ]
    },
    {
     "name": "stderr",
     "output_type": "stream",
     "text": [
      "/Users/hwangyungwan/miniforge3/envs/ds_p39/lib/python3.9/site-packages/prophet/forecaster.py:896: FutureWarning: The frame.append method is deprecated and will be removed from pandas in a future version. Use pandas.concat instead.\n",
      "  components = components.append(new_comp)\n",
      "/Users/hwangyungwan/miniforge3/envs/ds_p39/lib/python3.9/site-packages/prophet/forecaster.py:896: FutureWarning: The frame.append method is deprecated and will be removed from pandas in a future version. Use pandas.concat instead.\n",
      "  components = components.append(new_comp)\n",
      "/Users/hwangyungwan/miniforge3/envs/ds_p39/lib/python3.9/site-packages/prophet/forecaster.py:896: FutureWarning: The frame.append method is deprecated and will be removed from pandas in a future version. Use pandas.concat instead.\n",
      "  components = components.append(new_comp)\n",
      "/Users/hwangyungwan/miniforge3/envs/ds_p39/lib/python3.9/site-packages/prophet/forecaster.py:896: FutureWarning: The frame.append method is deprecated and will be removed from pandas in a future version. Use pandas.concat instead.\n",
      "  components = components.append(new_comp)\n",
      "/Users/hwangyungwan/miniforge3/envs/ds_p39/lib/python3.9/site-packages/prophet/forecaster.py:896: FutureWarning: The frame.append method is deprecated and will be removed from pandas in a future version. Use pandas.concat instead.\n",
      "  components = components.append(new_comp)\n",
      "/Users/hwangyungwan/miniforge3/envs/ds_p39/lib/python3.9/site-packages/prophet/forecaster.py:896: FutureWarning: The frame.append method is deprecated and will be removed from pandas in a future version. Use pandas.concat instead.\n",
      "  components = components.append(new_comp)\n",
      "/Users/hwangyungwan/miniforge3/envs/ds_p39/lib/python3.9/site-packages/prophet/forecaster.py:896: FutureWarning: The frame.append method is deprecated and will be removed from pandas in a future version. Use pandas.concat instead.\n",
      "  components = components.append(new_comp)\n",
      "/Users/hwangyungwan/miniforge3/envs/ds_p39/lib/python3.9/site-packages/prophet/forecaster.py:896: FutureWarning: The frame.append method is deprecated and will be removed from pandas in a future version. Use pandas.concat instead.\n",
      "  components = components.append(new_comp)\n"
     ]
    },
    {
     "name": "stdout",
     "output_type": "stream",
     "text": [
      "Initial log joint probability = -6.54808\n",
      "    Iter      log prob        ||dx||      ||grad||       alpha      alpha0  # evals  Notes \n",
      "Initial log joint probability = -4.10046\n",
      "    Iter      log prob        ||dx||      ||grad||       alpha      alpha0  # evals  Notes \n",
      "      71       1130.78   2.61507e-08        92.163      0.3565      0.3565      100   \n",
      "Optimization terminated normally: \n",
      "  Convergence detected: relative gradient magnitude is below tolerance\n",
      "      99        2995.5   2.05671e-05       94.1049      0.4796      0.4796      129   \n",
      "    Iter      log prob        ||dx||      ||grad||       alpha      alpha0  # evals  Notes \n",
      "     128       2995.54   0.000330325       124.238   3.493e-06       0.001      199  LS failed, Hessian reset \n",
      "     175       2995.57   6.08744e-07       55.8475           1           1      264   \n",
      "Optimization terminated normally: \n",
      "  Convergence detected: relative gradient magnitude is below tolerance\n",
      "Initial log joint probability = -6.39454\n",
      "    Iter      log prob        ||dx||      ||grad||       alpha      alpha0  # evals  Notes \n",
      "Initial log joint probability = -8.27299\n",
      "    Iter      log prob        ||dx||      ||grad||       alpha      alpha0  # evals  Notes \n"
     ]
    },
    {
     "name": "stderr",
     "output_type": "stream",
     "text": [
      "/Users/hwangyungwan/miniforge3/envs/ds_p39/lib/python3.9/site-packages/prophet/forecaster.py:896: FutureWarning: The frame.append method is deprecated and will be removed from pandas in a future version. Use pandas.concat instead.\n",
      "  components = components.append(new_comp)\n",
      "/Users/hwangyungwan/miniforge3/envs/ds_p39/lib/python3.9/site-packages/prophet/forecaster.py:896: FutureWarning: The frame.append method is deprecated and will be removed from pandas in a future version. Use pandas.concat instead.\n",
      "  components = components.append(new_comp)\n",
      "/Users/hwangyungwan/miniforge3/envs/ds_p39/lib/python3.9/site-packages/prophet/forecaster.py:896: FutureWarning: The frame.append method is deprecated and will be removed from pandas in a future version. Use pandas.concat instead.\n",
      "  components = components.append(new_comp)\n",
      "/Users/hwangyungwan/miniforge3/envs/ds_p39/lib/python3.9/site-packages/prophet/forecaster.py:896: FutureWarning: The frame.append method is deprecated and will be removed from pandas in a future version. Use pandas.concat instead.\n",
      "  components = components.append(new_comp)\n",
      "/Users/hwangyungwan/miniforge3/envs/ds_p39/lib/python3.9/site-packages/prophet/forecaster.py:896: FutureWarning: The frame.append method is deprecated and will be removed from pandas in a future version. Use pandas.concat instead.\n",
      "  components = components.append(new_comp)\n"
     ]
    },
    {
     "name": "stdout",
     "output_type": "stream",
     "text": [
      "      99       2580.84   0.000600129       59.7514      0.5695      0.5695      135   \n",
      "    Iter      log prob        ||dx||      ||grad||       alpha      alpha0  # evals  Notes \n",
      "     140       2580.88   4.84733e-05       57.4409   1.112e-06       0.001      225  LS failed, Hessian reset \n",
      "      99       3675.97    0.00260033       119.881      0.8351      0.8351      124   \n",
      "    Iter      log prob        ||dx||      ||grad||       alpha      alpha0  # evals  Notes \n",
      "     161       2580.89   8.42227e-06       71.7399    1.58e-07       0.001      292  LS failed, Hessian reset \n",
      "     180       2580.89   1.34557e-06       57.6446   1.716e-08       0.001      354  LS failed, Hessian reset \n",
      "     183       2580.89   8.20817e-08       41.6355      0.3152      0.3152      358   \n",
      "Optimization terminated normally: \n",
      "  Convergence detected: relative gradient magnitude is below tolerance\n",
      "     199       3684.77    0.00025474       67.7298           1           1      251   \n",
      "    Iter      log prob        ||dx||      ||grad||       alpha      alpha0  # evals  Notes \n"
     ]
    },
    {
     "name": "stderr",
     "output_type": "stream",
     "text": [
      "/Users/hwangyungwan/miniforge3/envs/ds_p39/lib/python3.9/site-packages/prophet/forecaster.py:896: FutureWarning: The frame.append method is deprecated and will be removed from pandas in a future version. Use pandas.concat instead.\n",
      "  components = components.append(new_comp)\n",
      "/Users/hwangyungwan/miniforge3/envs/ds_p39/lib/python3.9/site-packages/prophet/forecaster.py:896: FutureWarning: The frame.append method is deprecated and will be removed from pandas in a future version. Use pandas.concat instead.\n",
      "  components = components.append(new_comp)\n",
      "/Users/hwangyungwan/miniforge3/envs/ds_p39/lib/python3.9/site-packages/prophet/forecaster.py:896: FutureWarning: The frame.append method is deprecated and will be removed from pandas in a future version. Use pandas.concat instead.\n",
      "  components = components.append(new_comp)\n",
      "/Users/hwangyungwan/miniforge3/envs/ds_p39/lib/python3.9/site-packages/prophet/forecaster.py:896: FutureWarning: The frame.append method is deprecated and will be removed from pandas in a future version. Use pandas.concat instead.\n",
      "  components = components.append(new_comp)\n"
     ]
    },
    {
     "name": "stdout",
     "output_type": "stream",
     "text": [
      "Initial log joint probability = -280.854\n",
      "    Iter      log prob        ||dx||      ||grad||       alpha      alpha0  # evals  Notes \n",
      "     231       3684.98   0.000162872        78.014   1.729e-06       0.001      325  LS failed, Hessian reset \n",
      "     299       3685.06   1.84021e-05       66.0574           1           1      419   \n",
      "    Iter      log prob        ||dx||      ||grad||       alpha      alpha0  # evals  Notes \n",
      "      99       4024.51    0.00696197       236.224           1           1      125   \n",
      "    Iter      log prob        ||dx||      ||grad||       alpha      alpha0  # evals  Notes \n",
      "Initial log joint probability = -9.06963\n",
      "    Iter      log prob        ||dx||      ||grad||       alpha      alpha0  # evals  Notes \n",
      "     137       4027.78   0.000341395        148.51   1.224e-06       0.001      212  LS failed, Hessian reset \n",
      "     399       3685.09   7.99954e-05       60.7775           1           1      563   \n",
      "    Iter      log prob        ||dx||      ||grad||       alpha      alpha0  # evals  Notes \n",
      "      53       4450.58   0.000105389       83.2382   1.145e-06       0.001      108  LS failed, Hessian reset \n",
      "     195       4033.68   0.000354401       165.897   1.361e-06       0.001      323  LS failed, Hessian reset \n",
      "     199       4035.43    0.00285544       125.169           1           1      328   \n",
      "    Iter      log prob        ||dx||      ||grad||       alpha      alpha0  # evals  Notes \n",
      "     438        3685.1   4.76058e-06       78.8927   8.324e-08       0.001      656  LS failed, Hessian reset \n",
      "      99       4450.59   1.16924e-05       83.4744      0.4488      0.4488      170   \n",
      "    Iter      log prob        ||dx||      ||grad||       alpha      alpha0  # evals  Notes \n",
      "     472        3685.1   3.06267e-07       37.7483      0.2813           1      709   \n",
      "Optimization terminated normally: \n",
      "  Convergence detected: relative gradient magnitude is below tolerance\n",
      "     262       4036.97   0.000632893       96.2404   6.805e-06       0.001      442  LS failed, Hessian reset \n",
      "     199       4458.65    0.00918083       96.6693           1           1      289   \n",
      "    Iter      log prob        ||dx||      ||grad||       alpha      alpha0  # evals  Notes \n",
      "     299       4037.02    8.5586e-05       61.8623           1           1      492   \n",
      "    Iter      log prob        ||dx||      ||grad||       alpha      alpha0  # evals  Notes \n",
      "     203       4458.69   0.000360487        92.188   4.634e-06       0.001      325  LS failed, Hessian reset \n"
     ]
    },
    {
     "name": "stderr",
     "output_type": "stream",
     "text": [
      "/Users/hwangyungwan/miniforge3/envs/ds_p39/lib/python3.9/site-packages/prophet/forecaster.py:896: FutureWarning: The frame.append method is deprecated and will be removed from pandas in a future version. Use pandas.concat instead.\n",
      "  components = components.append(new_comp)\n",
      "/Users/hwangyungwan/miniforge3/envs/ds_p39/lib/python3.9/site-packages/prophet/forecaster.py:896: FutureWarning: The frame.append method is deprecated and will be removed from pandas in a future version. Use pandas.concat instead.\n",
      "  components = components.append(new_comp)\n"
     ]
    },
    {
     "name": "stdout",
     "output_type": "stream",
     "text": [
      "     242       4458.84   0.000465105       204.665   5.833e-06       0.001      414  LS failed, Hessian reset \n",
      "     399       4041.34     0.0073252       85.5084           1           1      615   \n",
      "    Iter      log prob        ||dx||      ||grad||       alpha      alpha0  # evals  Notes \n",
      "     291       4458.88   8.99946e-06       66.2368   1.199e-07       0.001      512  LS failed, Hessian reset \n",
      "     299       4458.88    2.8053e-07       73.0167      0.3347      0.3347      524   \n",
      "    Iter      log prob        ||dx||      ||grad||       alpha      alpha0  # evals  Notes \n",
      "     310       4458.88   1.96401e-07        76.196           1           1      539   \n",
      "Optimization terminated normally: \n",
      "  Convergence detected: relative gradient magnitude is below tolerance\n",
      "     499       4042.39   0.000326363       60.8548      0.4915           1      747   \n",
      "    Iter      log prob        ||dx||      ||grad||       alpha      alpha0  # evals  Notes \n",
      "     524       4042.41    2.8084e-05       44.8598    5.66e-07       0.001      818  LS failed, Hessian reset \n",
      "     529       4042.41   1.89348e-05       34.9815   6.846e-07       0.001      860  LS failed, Hessian reset \n",
      "     557       4042.41    1.0122e-05       52.1018   2.029e-07       0.001      944  LS failed, Hessian reset \n"
     ]
    },
    {
     "name": "stderr",
     "output_type": "stream",
     "text": [
      "/Users/hwangyungwan/miniforge3/envs/ds_p39/lib/python3.9/site-packages/prophet/forecaster.py:896: FutureWarning: The frame.append method is deprecated and will be removed from pandas in a future version. Use pandas.concat instead.\n",
      "  components = components.append(new_comp)\n",
      "/Users/hwangyungwan/miniforge3/envs/ds_p39/lib/python3.9/site-packages/prophet/forecaster.py:896: FutureWarning: The frame.append method is deprecated and will be removed from pandas in a future version. Use pandas.concat instead.\n",
      "  components = components.append(new_comp)\n",
      "/Users/hwangyungwan/miniforge3/envs/ds_p39/lib/python3.9/site-packages/prophet/forecaster.py:896: FutureWarning: The frame.append method is deprecated and will be removed from pandas in a future version. Use pandas.concat instead.\n",
      "  components = components.append(new_comp)\n",
      "/Users/hwangyungwan/miniforge3/envs/ds_p39/lib/python3.9/site-packages/prophet/forecaster.py:896: FutureWarning: The frame.append method is deprecated and will be removed from pandas in a future version. Use pandas.concat instead.\n",
      "  components = components.append(new_comp)\n"
     ]
    },
    {
     "name": "stdout",
     "output_type": "stream",
     "text": [
      "     565       4042.41   4.50558e-07       44.8383     0.07979           1      959   \n",
      "Optimization terminated normally: \n",
      "  Convergence detected: relative gradient magnitude is below tolerance\n",
      "  horizon       mse      rmse       mae      mape     mdape     smape  \\\n",
      "0  7 days  7.519900  2.742244  1.597993  0.372341  0.338300  0.333540   \n",
      "0  7 days  7.455172  2.730416  1.584019  0.360384  0.348713  0.334277   \n",
      "0  7 days  7.460897  2.731464  1.626980  0.385503  0.359929  0.339890   \n",
      "0  7 days  7.272979  2.696846  1.590031  0.369671  0.351381  0.334949   \n",
      "0  7 days  7.461505  2.731576  1.590634  0.368828  0.310704  0.331861   \n",
      "\n",
      "   coverage  model_idx                                             params  \n",
      "0  0.961039          0  {'weekly_seasonality': True, 'seasonality_mode...  \n",
      "0  0.948052          1  {'weekly_seasonality': True, 'seasonality_mode...  \n",
      "0  0.961039          2  {'weekly_seasonality': True, 'seasonality_mode...  \n",
      "0  0.961039          3  {'weekly_seasonality': True, 'seasonality_mode...  \n",
      "0  0.961039          4  {'weekly_seasonality': False, 'seasonality_mod...  \n"
     ]
    },
    {
     "name": "stderr",
     "output_type": "stream",
     "text": [
      "/Users/hwangyungwan/Library/Mobile Documents/com~apple~CloudDocs/Documents/study/data_science/machine_learning/time_series_forecaster/models/ts_prophet_gridsearch.py:162: FutureWarning: The frame.append method is deprecated and will be removed from pandas in a future version. Use pandas.concat instead.\n",
      "  df_perf_metrics_all = df_perf_metrics_all.append(df_perf_metrics)\n"
     ]
    }
   ],
   "source": [
    "P.add_default_params(default)\n",
    "P.add_hyperparams(params_to_search)\n",
    "P.build_models(df=df_train, add_seasonality=add_seasonality)\n",
    "df_cv_result = P.run_cv(initial=365, period=180, horizon=7, parallel=\"processes\")"
   ]
  },
  {
   "cell_type": "code",
   "execution_count": 6,
   "id": "706e7064",
   "metadata": {
    "ExecuteTime": {
     "end_time": "2023-02-12T12:43:10.380109Z",
     "start_time": "2023-02-12T12:43:10.357606Z"
    },
    "scrolled": false
   },
   "outputs": [
    {
     "data": {
      "text/html": [
       "<div>\n",
       "<style scoped>\n",
       "    .dataframe tbody tr th:only-of-type {\n",
       "        vertical-align: middle;\n",
       "    }\n",
       "\n",
       "    .dataframe tbody tr th {\n",
       "        vertical-align: top;\n",
       "    }\n",
       "\n",
       "    .dataframe thead th {\n",
       "        text-align: right;\n",
       "    }\n",
       "</style>\n",
       "<table border=\"1\" class=\"dataframe\">\n",
       "  <thead>\n",
       "    <tr style=\"text-align: right;\">\n",
       "      <th></th>\n",
       "      <th>horizon</th>\n",
       "      <th>mse</th>\n",
       "      <th>rmse</th>\n",
       "      <th>mae</th>\n",
       "      <th>mape</th>\n",
       "      <th>mdape</th>\n",
       "      <th>smape</th>\n",
       "      <th>coverage</th>\n",
       "      <th>model_idx</th>\n",
       "      <th>params</th>\n",
       "    </tr>\n",
       "  </thead>\n",
       "  <tbody>\n",
       "    <tr>\n",
       "      <th>0</th>\n",
       "      <td>7 days</td>\n",
       "      <td>7.353308</td>\n",
       "      <td>2.711698</td>\n",
       "      <td>1.573706</td>\n",
       "      <td>0.357704</td>\n",
       "      <td>0.344319</td>\n",
       "      <td>0.331059</td>\n",
       "      <td>0.948052</td>\n",
       "      <td>5</td>\n",
       "      <td>{'weekly_seasonality': False, 'seasonality_mod...</td>\n",
       "    </tr>\n",
       "    <tr>\n",
       "      <th>1</th>\n",
       "      <td>7 days</td>\n",
       "      <td>7.455172</td>\n",
       "      <td>2.730416</td>\n",
       "      <td>1.584019</td>\n",
       "      <td>0.360384</td>\n",
       "      <td>0.348713</td>\n",
       "      <td>0.334277</td>\n",
       "      <td>0.948052</td>\n",
       "      <td>1</td>\n",
       "      <td>{'weekly_seasonality': True, 'seasonality_mode...</td>\n",
       "    </tr>\n",
       "    <tr>\n",
       "      <th>2</th>\n",
       "      <td>7 days</td>\n",
       "      <td>7.149431</td>\n",
       "      <td>2.673842</td>\n",
       "      <td>1.566615</td>\n",
       "      <td>0.364329</td>\n",
       "      <td>0.339759</td>\n",
       "      <td>0.329563</td>\n",
       "      <td>0.948052</td>\n",
       "      <td>7</td>\n",
       "      <td>{'weekly_seasonality': False, 'seasonality_mod...</td>\n",
       "    </tr>\n",
       "    <tr>\n",
       "      <th>3</th>\n",
       "      <td>7 days</td>\n",
       "      <td>7.461505</td>\n",
       "      <td>2.731576</td>\n",
       "      <td>1.590634</td>\n",
       "      <td>0.368828</td>\n",
       "      <td>0.310704</td>\n",
       "      <td>0.331861</td>\n",
       "      <td>0.961039</td>\n",
       "      <td>4</td>\n",
       "      <td>{'weekly_seasonality': False, 'seasonality_mod...</td>\n",
       "    </tr>\n",
       "    <tr>\n",
       "      <th>4</th>\n",
       "      <td>7 days</td>\n",
       "      <td>7.272979</td>\n",
       "      <td>2.696846</td>\n",
       "      <td>1.590031</td>\n",
       "      <td>0.369671</td>\n",
       "      <td>0.351381</td>\n",
       "      <td>0.334949</td>\n",
       "      <td>0.961039</td>\n",
       "      <td>3</td>\n",
       "      <td>{'weekly_seasonality': True, 'seasonality_mode...</td>\n",
       "    </tr>\n",
       "    <tr>\n",
       "      <th>5</th>\n",
       "      <td>7 days</td>\n",
       "      <td>7.519900</td>\n",
       "      <td>2.742244</td>\n",
       "      <td>1.597993</td>\n",
       "      <td>0.372341</td>\n",
       "      <td>0.338300</td>\n",
       "      <td>0.333540</td>\n",
       "      <td>0.961039</td>\n",
       "      <td>0</td>\n",
       "      <td>{'weekly_seasonality': True, 'seasonality_mode...</td>\n",
       "    </tr>\n",
       "    <tr>\n",
       "      <th>6</th>\n",
       "      <td>7 days</td>\n",
       "      <td>7.404131</td>\n",
       "      <td>2.721053</td>\n",
       "      <td>1.621624</td>\n",
       "      <td>0.384813</td>\n",
       "      <td>0.321008</td>\n",
       "      <td>0.338916</td>\n",
       "      <td>0.961039</td>\n",
       "      <td>6</td>\n",
       "      <td>{'weekly_seasonality': False, 'seasonality_mod...</td>\n",
       "    </tr>\n",
       "    <tr>\n",
       "      <th>7</th>\n",
       "      <td>7 days</td>\n",
       "      <td>7.460897</td>\n",
       "      <td>2.731464</td>\n",
       "      <td>1.626980</td>\n",
       "      <td>0.385503</td>\n",
       "      <td>0.359929</td>\n",
       "      <td>0.339890</td>\n",
       "      <td>0.961039</td>\n",
       "      <td>2</td>\n",
       "      <td>{'weekly_seasonality': True, 'seasonality_mode...</td>\n",
       "    </tr>\n",
       "  </tbody>\n",
       "</table>\n",
       "</div>"
      ],
      "text/plain": [
       "  horizon       mse      rmse       mae      mape     mdape     smape  \\\n",
       "0  7 days  7.353308  2.711698  1.573706  0.357704  0.344319  0.331059   \n",
       "1  7 days  7.455172  2.730416  1.584019  0.360384  0.348713  0.334277   \n",
       "2  7 days  7.149431  2.673842  1.566615  0.364329  0.339759  0.329563   \n",
       "3  7 days  7.461505  2.731576  1.590634  0.368828  0.310704  0.331861   \n",
       "4  7 days  7.272979  2.696846  1.590031  0.369671  0.351381  0.334949   \n",
       "5  7 days  7.519900  2.742244  1.597993  0.372341  0.338300  0.333540   \n",
       "6  7 days  7.404131  2.721053  1.621624  0.384813  0.321008  0.338916   \n",
       "7  7 days  7.460897  2.731464  1.626980  0.385503  0.359929  0.339890   \n",
       "\n",
       "   coverage  model_idx                                             params  \n",
       "0  0.948052          5  {'weekly_seasonality': False, 'seasonality_mod...  \n",
       "1  0.948052          1  {'weekly_seasonality': True, 'seasonality_mode...  \n",
       "2  0.948052          7  {'weekly_seasonality': False, 'seasonality_mod...  \n",
       "3  0.961039          4  {'weekly_seasonality': False, 'seasonality_mod...  \n",
       "4  0.961039          3  {'weekly_seasonality': True, 'seasonality_mode...  \n",
       "5  0.961039          0  {'weekly_seasonality': True, 'seasonality_mode...  \n",
       "6  0.961039          6  {'weekly_seasonality': False, 'seasonality_mod...  \n",
       "7  0.961039          2  {'weekly_seasonality': True, 'seasonality_mode...  "
      ]
     },
     "execution_count": 6,
     "metadata": {},
     "output_type": "execute_result"
    }
   ],
   "source": [
    "df_cv_result"
   ]
  }
 ],
 "metadata": {
  "hide_input": false,
  "kernelspec": {
   "display_name": "Python 3 (ipykernel)",
   "language": "python",
   "name": "python3"
  },
  "language_info": {
   "codemirror_mode": {
    "name": "ipython",
    "version": 3
   },
   "file_extension": ".py",
   "mimetype": "text/x-python",
   "name": "python",
   "nbconvert_exporter": "python",
   "pygments_lexer": "ipython3",
   "version": "3.9.13"
  },
  "toc": {
   "base_numbering": 1,
   "nav_menu": {},
   "number_sections": true,
   "sideBar": true,
   "skip_h1_title": false,
   "title_cell": "Table of Contents",
   "title_sidebar": "Contents",
   "toc_cell": false,
   "toc_position": {
    "height": "1140px",
    "left": "29px",
    "top": "92px",
    "width": "454px"
   },
   "toc_section_display": true,
   "toc_window_display": true
  },
  "varInspector": {
   "cols": {
    "lenName": 16,
    "lenType": 16,
    "lenVar": 40
   },
   "kernels_config": {
    "python": {
     "delete_cmd_postfix": "",
     "delete_cmd_prefix": "del ",
     "library": "var_list.py",
     "varRefreshCmd": "print(var_dic_list())"
    },
    "r": {
     "delete_cmd_postfix": ") ",
     "delete_cmd_prefix": "rm(",
     "library": "var_list.r",
     "varRefreshCmd": "cat(var_dic_list()) "
    }
   },
   "types_to_exclude": [
    "module",
    "function",
    "builtin_function_or_method",
    "instance",
    "_Feature"
   ],
   "window_display": false
  }
 },
 "nbformat": 4,
 "nbformat_minor": 5
}
